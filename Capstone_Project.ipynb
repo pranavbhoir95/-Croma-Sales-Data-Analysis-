{
 "cells": [
  {
   "cell_type": "markdown",
   "id": "a9c086e5-bdc6-465e-a081-f0a70ccdc4d7",
   "metadata": {},
   "source": [
    "# -----------------------CAPSTONE PROJECT ANALYSIS--------------------"
   ]
  },
  {
   "cell_type": "markdown",
   "id": "18f2cbe5-07c2-41ec-8c68-258811a791af",
   "metadata": {},
   "source": [
    "**IMPORTING ALL LIBRARY TO RUN DATASET**"
   ]
  },
  {
   "cell_type": "code",
   "execution_count": 1,
   "id": "1b1de942-d746-4b95-8ecb-86951887c337",
   "metadata": {},
   "outputs": [],
   "source": [
    "import pandas as pd\n",
    "import numpy as np"
   ]
  },
  {
   "cell_type": "code",
   "execution_count": 2,
   "id": "1bc5c17d-2f5b-48ab-a6ff-c9da862ae5ed",
   "metadata": {},
   "outputs": [],
   "source": [
    "import warnings\n",
    "\n",
    "# Suppress all warnings\n",
    "warnings.filterwarnings(\"ignore\")"
   ]
  },
  {
   "cell_type": "markdown",
   "id": "a8f67caf-7171-4eb2-be06-8151a8489b27",
   "metadata": {},
   "source": [
    "**Load All the Data**"
   ]
  },
  {
   "cell_type": "code",
   "execution_count": 3,
   "id": "f42c9bf7-27b4-49c4-87a0-cfa4559e4730",
   "metadata": {},
   "outputs": [],
   "source": [
    "# Load data\n",
    "df = pd.read_csv('Campaign_Data.csv')"
   ]
  },
  {
   "cell_type": "code",
   "execution_count": 4,
   "id": "2f339087-ec1b-4a98-816c-67534a46bff3",
   "metadata": {},
   "outputs": [],
   "source": [
    "# Load data\n",
    "cust_df = pd.read_excel('Customer Reviews.xlsx')"
   ]
  },
  {
   "cell_type": "code",
   "execution_count": 5,
   "id": "a5a02443-c193-44c0-90d6-ffce3530685d",
   "metadata": {},
   "outputs": [],
   "source": [
    "# Load data\n",
    "deliv_df = pd.read_csv('Customer_Delivery_Data.csv')"
   ]
  },
  {
   "cell_type": "code",
   "execution_count": 6,
   "id": "010f6864-9a91-4b99-a894-554af7055fbb",
   "metadata": {},
   "outputs": [],
   "source": [
    "# Load data\n",
    "mst_df = pd.read_csv('Customer_Master_Data.csv')"
   ]
  },
  {
   "cell_type": "markdown",
   "id": "e602e7e7-aead-443b-b2f6-2eb39bcf43d7",
   "metadata": {},
   "source": [
    "# CAMPAIGN DATA"
   ]
  },
  {
   "cell_type": "markdown",
   "id": "78d77730-bdd0-4bc4-8804-58a365e8ebf6",
   "metadata": {},
   "source": [
    "**campaign data column name and few data in head**"
   ]
  },
  {
   "cell_type": "code",
   "execution_count": 7,
   "id": "0380c339-2704-44e5-abb0-547f18b5105c",
   "metadata": {},
   "outputs": [
    {
     "data": {
      "text/html": [
       "<div>\n",
       "<style scoped>\n",
       "    .dataframe tbody tr th:only-of-type {\n",
       "        vertical-align: middle;\n",
       "    }\n",
       "\n",
       "    .dataframe tbody tr th {\n",
       "        vertical-align: top;\n",
       "    }\n",
       "\n",
       "    .dataframe thead th {\n",
       "        text-align: right;\n",
       "    }\n",
       "</style>\n",
       "<table border=\"1\" class=\"dataframe\">\n",
       "  <thead>\n",
       "    <tr style=\"text-align: right;\">\n",
       "      <th></th>\n",
       "      <th>CustID</th>\n",
       "      <th>status</th>\n",
       "      <th>Campaign_Exec_Date</th>\n",
       "      <th>Campaign_Channel</th>\n",
       "    </tr>\n",
       "  </thead>\n",
       "  <tbody>\n",
       "    <tr>\n",
       "      <th>0</th>\n",
       "      <td>11111J11RREFG1VoGo1FejtGEVV88JtM</td>\n",
       "      <td>viewed</td>\n",
       "      <td>2019-05-28</td>\n",
       "      <td>Email</td>\n",
       "    </tr>\n",
       "    <tr>\n",
       "      <th>1</th>\n",
       "      <td>11111J11RREFG1VoGo1FejtGEVV88JtM</td>\n",
       "      <td>delivered</td>\n",
       "      <td>2019-05-29</td>\n",
       "      <td>Email</td>\n",
       "    </tr>\n",
       "    <tr>\n",
       "      <th>2</th>\n",
       "      <td>11111J11RREFG1VoGo1FejtGEVV88JtM</td>\n",
       "      <td>delivered</td>\n",
       "      <td>2019-05-30</td>\n",
       "      <td>Email</td>\n",
       "    </tr>\n",
       "    <tr>\n",
       "      <th>3</th>\n",
       "      <td>11111J11RREFG1VoGo1FejtGEVV88JtM</td>\n",
       "      <td>delivered</td>\n",
       "      <td>2019-06-03</td>\n",
       "      <td>Email</td>\n",
       "    </tr>\n",
       "    <tr>\n",
       "      <th>4</th>\n",
       "      <td>11111J11RREFG1VoGo1FejtGEVV88JtM</td>\n",
       "      <td>delivered</td>\n",
       "      <td>2019-06-04</td>\n",
       "      <td>Email</td>\n",
       "    </tr>\n",
       "  </tbody>\n",
       "</table>\n",
       "</div>"
      ],
      "text/plain": [
       "                             CustID     status Campaign_Exec_Date  \\\n",
       "0  11111J11RREFG1VoGo1FejtGEVV88JtM     viewed         2019-05-28   \n",
       "1  11111J11RREFG1VoGo1FejtGEVV88JtM  delivered         2019-05-29   \n",
       "2  11111J11RREFG1VoGo1FejtGEVV88JtM  delivered         2019-05-30   \n",
       "3  11111J11RREFG1VoGo1FejtGEVV88JtM  delivered         2019-06-03   \n",
       "4  11111J11RREFG1VoGo1FejtGEVV88JtM  delivered         2019-06-04   \n",
       "\n",
       "  Campaign_Channel  \n",
       "0            Email  \n",
       "1            Email  \n",
       "2            Email  \n",
       "3            Email  \n",
       "4            Email  "
      ]
     },
     "execution_count": 7,
     "metadata": {},
     "output_type": "execute_result"
    }
   ],
   "source": [
    "df.head()"
   ]
  },
  {
   "cell_type": "code",
   "execution_count": 8,
   "id": "4dcff0fe-e160-4769-8075-4585ac063f47",
   "metadata": {},
   "outputs": [],
   "source": [
    "#df.set_index('day',inplace=True) ------------ to remove the index column we will run this code"
   ]
  },
  {
   "cell_type": "code",
   "execution_count": 9,
   "id": "6c8d73f7-9798-4b13-8ed7-3231fbe4c8a1",
   "metadata": {},
   "outputs": [
    {
     "name": "stdout",
     "output_type": "stream",
     "text": [
      "<class 'pandas.core.frame.DataFrame'>\n",
      "RangeIndex: 10912592 entries, 0 to 10912591\n",
      "Data columns (total 4 columns):\n",
      " #   Column              Dtype \n",
      "---  ------              ----- \n",
      " 0   CustID              object\n",
      " 1   status              object\n",
      " 2   Campaign_Exec_Date  object\n",
      " 3   Campaign_Channel    object\n",
      "dtypes: object(4)\n",
      "memory usage: 333.0+ MB\n"
     ]
    }
   ],
   "source": [
    "df.info()"
   ]
  },
  {
   "cell_type": "code",
   "execution_count": 10,
   "id": "dd463e24-1e4e-49b3-a456-f8d1b6642feb",
   "metadata": {},
   "outputs": [
    {
     "data": {
      "text/html": [
       "<div>\n",
       "<style scoped>\n",
       "    .dataframe tbody tr th:only-of-type {\n",
       "        vertical-align: middle;\n",
       "    }\n",
       "\n",
       "    .dataframe tbody tr th {\n",
       "        vertical-align: top;\n",
       "    }\n",
       "\n",
       "    .dataframe thead th {\n",
       "        text-align: right;\n",
       "    }\n",
       "</style>\n",
       "<table border=\"1\" class=\"dataframe\">\n",
       "  <thead>\n",
       "    <tr style=\"text-align: right;\">\n",
       "      <th></th>\n",
       "      <th>CustID</th>\n",
       "      <th>status</th>\n",
       "      <th>Campaign_Exec_Date</th>\n",
       "      <th>Campaign_Channel</th>\n",
       "    </tr>\n",
       "  </thead>\n",
       "  <tbody>\n",
       "    <tr>\n",
       "      <th>count</th>\n",
       "      <td>10912592</td>\n",
       "      <td>10912592</td>\n",
       "      <td>10912592</td>\n",
       "      <td>10912592</td>\n",
       "    </tr>\n",
       "    <tr>\n",
       "      <th>unique</th>\n",
       "      <td>371216</td>\n",
       "      <td>4</td>\n",
       "      <td>525</td>\n",
       "      <td>2</td>\n",
       "    </tr>\n",
       "    <tr>\n",
       "      <th>top</th>\n",
       "      <td>E7H7JeJo118eH7J1FRFEtFA7GRMjojHH</td>\n",
       "      <td>viewed</td>\n",
       "      <td>2020-11-28</td>\n",
       "      <td>Email</td>\n",
       "    </tr>\n",
       "    <tr>\n",
       "      <th>freq</th>\n",
       "      <td>68</td>\n",
       "      <td>5697853</td>\n",
       "      <td>327960</td>\n",
       "      <td>10527383</td>\n",
       "    </tr>\n",
       "  </tbody>\n",
       "</table>\n",
       "</div>"
      ],
      "text/plain": [
       "                                  CustID    status Campaign_Exec_Date  \\\n",
       "count                           10912592  10912592           10912592   \n",
       "unique                            371216         4                525   \n",
       "top     E7H7JeJo118eH7J1FRFEtFA7GRMjojHH    viewed         2020-11-28   \n",
       "freq                                  68   5697853             327960   \n",
       "\n",
       "       Campaign_Channel  \n",
       "count          10912592  \n",
       "unique                2  \n",
       "top               Email  \n",
       "freq           10527383  "
      ]
     },
     "execution_count": 10,
     "metadata": {},
     "output_type": "execute_result"
    }
   ],
   "source": [
    "df.describe()"
   ]
  },
  {
   "cell_type": "markdown",
   "id": "16e6b781-7144-4c7b-896f-6eb2e94df848",
   "metadata": {},
   "source": [
    "# CLEANING DATASET"
   ]
  },
  {
   "cell_type": "markdown",
   "id": "f88a181b-cc3e-4ae3-a5d3-9f0f643a893f",
   "metadata": {},
   "source": [
    "**Finding if any null value is there in any column of the data**"
   ]
  },
  {
   "cell_type": "code",
   "execution_count": 11,
   "id": "da3c6c5c-4a54-4226-9a23-d2c4fac1a201",
   "metadata": {},
   "outputs": [
    {
     "data": {
      "text/plain": [
       "0"
      ]
     },
     "execution_count": 11,
     "metadata": {},
     "output_type": "execute_result"
    }
   ],
   "source": [
    "df['CustID'].isnull().sum()"
   ]
  },
  {
   "cell_type": "code",
   "execution_count": 12,
   "id": "4de8aaa1-2a80-44b6-8bfa-a5f7546af8de",
   "metadata": {},
   "outputs": [
    {
     "name": "stdout",
     "output_type": "stream",
     "text": [
      "CustID 0\n",
      "status 0\n",
      "Campaign_Exec_Date 0\n",
      "Campaign_Channel 0\n"
     ]
    }
   ],
   "source": [
    "for i in df.columns:\n",
    "    print(i, df[i].isnull().sum())"
   ]
  },
  {
   "cell_type": "markdown",
   "id": "0fea7f98-a233-4bcf-b07b-7f704794ab81",
   "metadata": {},
   "source": [
    "**value count to see the data is right or wrong**"
   ]
  },
  {
   "cell_type": "code",
   "execution_count": 13,
   "id": "fc1bb27d-f477-46fb-be7c-1fd52359853c",
   "metadata": {},
   "outputs": [
    {
     "data": {
      "text/plain": [
       "CustID\n",
       "E7H7JeJo118eH7J1FRFEtFA7GRMjojHH    68\n",
       "t1ARH78VE78EG7GGGVFHM7otoFFGFRF7    68\n",
       "8t78Je187J                          67\n",
       "HHjHMR1ojMtVGoAoAF1MMM78eEVtGoRA    67\n",
       "8EVGjGRR7J1GA7VeMHFo7etoV8VtjoJe    67\n",
       "                                    ..\n",
       "MVFjHtJMHeHeMV7etGF1E1MG7EFeHR8H     1\n",
       "MVFj8o1GGEj8tMRF7E18eMjeoFAVVMAJ     1\n",
       "MVFetMtAHA1HMHH1AJ87j8F7jEFEtAG7     1\n",
       "MVFejH8tGeoVVte17EMjJAGJMjVEFeeH     1\n",
       "Eo7j87GMJRHoGJ88tEAHEo7ejR8JHFGe     1\n",
       "Name: count, Length: 371216, dtype: int64"
      ]
     },
     "execution_count": 13,
     "metadata": {},
     "output_type": "execute_result"
    }
   ],
   "source": [
    "df['CustID'].value_counts()"
   ]
  },
  {
   "cell_type": "markdown",
   "id": "40dc9f00-018c-4367-bf2a-dd1afb1b499b",
   "metadata": {},
   "source": [
    "**df['CustID'] - converting datatype to integer**"
   ]
  },
  {
   "cell_type": "code",
   "execution_count": 14,
   "id": "2b3c8b64-0ef7-4858-90c1-089018893874",
   "metadata": {},
   "outputs": [
    {
     "data": {
      "text/plain": [
       "{'11111J11RREFG1VoGo1FejtGEVV88JtM': 0,\n",
       " '11111eEGRAAotVot7etA7JGJ78FARFHo': 1,\n",
       " '11111oGeEMotjJGVE81EjERjMHVjVtR7': 2,\n",
       " '1111E7j87VGjFoooHeMoR7eFRtVVVEoA': 3,\n",
       " '1111ReVAoMRMGFRRVjoJHMEJ1teVGjFJ': 4,\n",
       " '1111RtJ17H1FAVJR7HAo8ttGoGHF7GAH': 5,\n",
       " '1111VeAeMERFe7o7FM88HtjtVjJVjJFM': 6,\n",
       " '1111eAeoeo': 7,\n",
       " '1111jAH1JGtRFGtR7jGHMMRGe1GjVMEV': 8,\n",
       " '1111jHtt8FAoGj8eEtG1HRVRoG1RFeR1': 9,\n",
       " '1111joeRMVtH8JMtHVEo8jRo1oARMR17': 10,\n",
       " '1117EMoVFV8A1HGM8A18AHMoeH8j1VFe': 11,\n",
       " '1117Ej7H8FjeJ18JMGetM7GeHVt7J8H1': 12,\n",
       " '1117JtRtHGRV7ojJ1JAHJe17Rt8GA1AH': 13,\n",
       " '1117RoEGM8JHGeHH77R8GtAFMJEjGMVH': 14,\n",
       " '1117eJjAHGtERtEJetJMMR1eAo8RR117': 15,\n",
       " '1117eM1e8FGMV8HVRJ8t7GGjtR7t8JjH': 16,\n",
       " '111818JoHo7tEetAjMMJR81FFeoVFAeH': 17,\n",
       " '1118AJFoRAGE17GAHVeAjAtMo7EEMHGV': 18,\n",
       " '1118AjGjHt17RVGFeHeoRtJVMJRMEA88': 19,\n",
       " '1118EHA8HMFj7oJMtFMt7JHF1AjHoM8V': 20,\n",
       " '1118FFMGVt1eRoF7jFeA7Ft1GFFHFAEG': 21,\n",
       " '1118jEVVjee8FJF118JAARt8Ejoj1toj': 22,\n",
       " '1118oHAjVAJ1Hj71HRV1F1V1HJoHJFeV': 23,\n",
       " '111A8eGMtt7MjEooERjEE817VttAjVeo': 24,\n",
       " '111A8tRtGGj1EjtAGHoH7otGFFHjE881': 25,\n",
       " '111AGRAF8eRReeGGAoeAR8787AF7A7M8': 26,\n",
       " '111AME7EeEJGMVVVE1GEjJEHJoGMJJEM': 27,\n",
       " '111E1Ht17AVA1RAHjeJG1GFtFAe8F8tM': 28,\n",
       " '111EMG7H7HjFA8t1A11ARtEjG1FEJtGG': 29,\n",
       " '111EV8E178ARA1jJAVAMJVAHMJVMGe8R': 30,\n",
       " '111Et87jGVto1jVMAtE8M1MEtA7FMGMV': 31,\n",
       " '111F181MoAAVAFJtHJJoGFHRtHRAj8Vt': 32,\n",
       " '111FE8GJGMG71oeEe81e7VJ1JJoJVEeH': 33,\n",
       " '111FeFRtJMtVoGHV7jGAEMEMtRM8GeeH': 34,\n",
       " '111FoR717F177AAV7MVoGJVARRMME1JA': 35,\n",
       " '111FoeEFG11ttRARJJF8eMMe7RFeetJV': 36,\n",
       " '111GFH8JFeGVeeAF1JAo8GFAeJAo7Aot': 37,\n",
       " '111GJ7MMeJoAjHR7VAJj11H1VVRj1H7R': 38,\n",
       " '111GeF78HEtHJGEAVGVV1AAJJVEHFG1e': 39,\n",
       " '111GejeoGEA8joERA1MjRjVe11Rt7FFA': 40,\n",
       " '111H7JjFG1AjJHHJH1AeGV8FAJjFGt8e': 41,\n",
       " '111HR8tGMG1V1VG8GtHMot1eto8A8tHH': 42,\n",
       " '111HVEJGjGe7GjH1J1Vtjt1e7tVHjGt8': 43,\n",
       " '111HoJJeFFEe7HRRetR7MM71eoH7GotR': 44,\n",
       " '111J78o1R77Ro8REFG8JoVRoVMRMAj7A': 45,\n",
       " '111JAH1o8e7teJHAoFeAjVtVtF7Vo8VE': 46,\n",
       " '111JE7eVAj7VtRoVto1A1EJMe7e8J1Vt': 47,\n",
       " '111JEEG81VtReVFJAAFVtojJV1eMotF7': 48,\n",
       " '111JEtHjj7AEVMVVFR8j7REjJ8HVt878': 49,\n",
       " '111JFR1EeEoEM11MAF7ojtoMjj8EHoej': 50,\n",
       " '111JGj1JFAoJ1j7Vt7FRMAj1VJVG8MAH': 51,\n",
       " '111JVJJejtt1FJeEMGGMVeMJRMj1jeHJ': 52,\n",
       " '111JtF7tMAFREoGEMA1oG1EAHtJ7HAeF': 53,\n",
       " '111MGJAAHeFo1VH8Eo7tFAet8GJJ8tMF': 54,\n",
       " '111MH88EMMJHeFejoGGRjAJttG81Eott': 55,\n",
       " '111MMJ1jHE7eR8HeEEjAM71E8J8V7MoH': 56,\n",
       " '111Me7eRF1VH8oooE8eAAooVA7GGEF7e': 57,\n",
       " '111RRJRVj8Mtje118ttAAeoJAJ7Jjjeo': 58,\n",
       " '111VEFjF1FRAet8RHeRjV1VRMAMMMo1E': 59,\n",
       " '111VMJeHMjGEEJFA7tjEVt7teFAVM788': 60,\n",
       " '111VeRFJ8t1GHAA88eFVAM7MAR7Rj8Gt': 61,\n",
       " '111Vt8Vt1FVoAR87M1MEFAHVAFtRjoEj': 62,\n",
       " '111e8VAVMVtjR8eJAJJEJJFEEJotJHAE': 63,\n",
       " '111eAtVFoGHtG1AVRGF8oHGeAF887GeV': 64,\n",
       " '111eF71jEeeGeJeoRjVR7RMV7M1HMtFF': 65,\n",
       " '111eJVjH8RHJ88J711JGM71tM8VGtH18': 66,\n",
       " '111j8FV1FMHM1G7MVH7JtEEG8jRH7EA7': 67,\n",
       " '111jEeotVRG8jH7jo111oG8AE8eo8tAE': 68,\n",
       " '111jjHE8eGtFteVJMVARRGjGFeHR8HMG': 69,\n",
       " '111o1j1RG17tMVA1jj781VoFRMej71GA': 70,\n",
       " '111o7EAFAMtVMVEEoRj8oMjRFe711R1E': 71,\n",
       " '111oH71HAo': 72,\n",
       " '111oMA1Go7EtE8JJtH78Gt77M7HFe1oH': 73,\n",
       " '111t8GGG8J1oMe7jMRtJ7tj7AVjA7AVG': 74,\n",
       " '111tAe111t1J71EoHAJ1ReEV1jREG1Mo': 75,\n",
       " '11711FjHMoEJV1F7VM818Vo8FJG8ojje': 76,\n",
       " '11717FeA77HoF7jFtA7EAe1Me787EReV': 77,\n",
       " '1171AVtAVEEoeF8GeFJttR7HEeJREAtj': 78,\n",
       " '1171EJJG1VAVEVJeJMRGG7JtJGeJJ7oG': 79,\n",
       " '1171FFVGFVE7Jj8oj8G7Fo8MGe7j11eM': 80,\n",
       " '1171GHEoJMAMtHMMHG1MV7eVMHeVHFtj': 81,\n",
       " '1171JHAHee7e': 82,\n",
       " '1171MFV7tA1RA1MHA8RJAFj81GoAGRjR': 83,\n",
       " '1177177MjRAoJe781AMM7M118t8tot1e': 84,\n",
       " '11777R8M7F7EAVt7HVA7tRe1AEVGFGJ7': 85,\n",
       " '11777tHH88GtHeEEAR1GEGt8GRGEHEeG': 86,\n",
       " '1177GRt877oFA7Ejj7tRHVJeR7jjGFJE': 87,\n",
       " '1177HVJRAAo8eG7R18MGe8RE7FMReVt1': 88,\n",
       " '1177JeRVEHH7At8eoHJHVFRJVtVjjRoo': 89,\n",
       " '1177VE1AH7AARMA1tGj1MREHeFVt8jRt': 90,\n",
       " '1177oJHHG8F1jEAMMHo1HHoojeFGoEoH': 91,\n",
       " '1177oj7FjoEHG1ej7G8RtVMRFJjeRHoE': 92,\n",
       " '1177t1171JVA1EVH8EtF8ARJJFEteVRH': 93,\n",
       " '1177tRtFA78oeRjHJj7JFRJAVG1GMtGH': 94,\n",
       " '1178GMoGjJAHGoRRAGAHFF1t7F1MeFoV': 95,\n",
       " '1178HEeVtjoAHEoA1GGEE78RoGA7ARAt': 96,\n",
       " '1178oHjF8VAojA1J1RjVG7VFRjAEAFMR': 97,\n",
       " '1178teFVG1JFoH787eFE877AHFFoeo7e': 98,\n",
       " '117A1AFREFV1VVEoGAJHtGRoAMFjM7oA': 99,\n",
       " '117A8R7G8MJVe7tj81JMMeoA7jERR8VF': 100,\n",
       " '117AEHe8MFoJVEERFeRFAet8EoRJ8RJF': 101,\n",
       " '117AFGMR1ARAMFM7jjeEV8Hj7778e8FM': 102,\n",
       " '117AFRFA11FG7AF1Fjet11F8V7GMej8E': 103,\n",
       " '117AHG7HjFoAFJFjFo87oM1RjFt1JooG': 104,\n",
       " '117AeMeRHAtRAVj7MEjAFAeFJHeHG1R1': 105,\n",
       " '117AtF1AE8JA8tFjJMA1MtJtHRGe7EGe': 106,\n",
       " '117E17M88EM7R8VJGE8t1Jt18Jettj7t': 107,\n",
       " '117E7AAtEoEooJ8JFFARGE17JMMooAMF': 108,\n",
       " '117EAeoF7F77Ejo8tj18AtjjA1E8oMoF': 109,\n",
       " '117EEHj8J1VjAAJeVFEVGVJ81H8otRoE': 110,\n",
       " '117EFjGG8A7GMGoJEe1J8Aeo1joMEotE': 111,\n",
       " '117EV7JFGV7oe1MVMJEHjFRtRAVGGoJt': 112,\n",
       " '117Eo18MoVAVeAJ1AE8V7AMVHj1VtF81': 113,\n",
       " '117Ft1817jo1e77jEoVV8jej8jJ8RRGJ': 114,\n",
       " '117GGo1FoJE8tFRjMVGJtVAHoHMGFeJ7': 115,\n",
       " '117GJM8JeeeH8Fj7E7HRoE8o7EEjJeG7': 116,\n",
       " '117HRt8VjJEMAGEF8VJototFR17o7RAe': 117,\n",
       " '117HVJeGoEMFtRooFjEFA1GJ7JejeFJj': 118,\n",
       " '117HeMo8EF7eJHJAjGoEFeoRH77FVRGM': 119,\n",
       " '117Hot8tJojJHEH1VGeAG8oJH8EJA88j': 120,\n",
       " '117JJVeGMo7AjJFtVoeERVGGAFRJJRG8': 121,\n",
       " '117JMJEGMMH7G1EjMFVR77jAA1eAVoM7': 122,\n",
       " '117JV77VJEMARtotFeGEJEVAFReetMJo': 123,\n",
       " '117JoHetRMERtJMRjFj1VMA7GFjJHEE1': 124,\n",
       " '117MFMEMVFAAtJoH1Ft1EeAJeFeVtVFG': 125,\n",
       " '117MHMoEGHeo1M8tA1FVFjJGE7MEGj1F': 126,\n",
       " '117MJFHM7RVFoHjMVoJM1jHGtjAHjeJH': 127,\n",
       " '117MVR1MGMe8j7toHjHojjFV1AAVJ1Ro': 128,\n",
       " '117RGJ81HMR8toteRtttoMAVFVGFGH71': 129,\n",
       " '117RHVtVteF1RRMR17jVMF18HH1JHteJ': 130,\n",
       " '117RjoE8Got1JM1HJoHMA7MeGFJ7eAHG': 131,\n",
       " '117RoEFHFtAFoGHtF1ReFEEojR7EGHJF': 132,\n",
       " '117V8jt1H1HJMMJeMo7M878RVRVJ1tee': 133,\n",
       " '117VRejGEo8tHHHGGAVAG18jEREeHeAt': 134,\n",
       " '117VV1MVM8JV7JVtHE7oRHARJH8EF771': 135,\n",
       " '117e1e7q1gP': 136,\n",
       " '117eHoHMHFGMtJtJHMFJjjGMtMjRF1jE': 137,\n",
       " '117eeo7GVHA7tHMA1HEejVHEReo7FF8G': 138,\n",
       " '117eoV1VMA7Veee7MeFMoFoGAje1MGMM': 139,\n",
       " '117ete1MeVAHF7H7oMEHMAt7jHEGeJR1': 140,\n",
       " '117j1FoHo118teHGJjMHjtVV1JMeA7Ge': 141,\n",
       " '117j1VAee7jAjeoG771REoHAHtEFVHRR': 142,\n",
       " '117j7RtRV8eeEoFFjH8MFF7EJARtE18e': 143,\n",
       " '117jGFF7G8RMeMMt71REeARGM8tFoeV1': 144,\n",
       " '117jRR7j1JH8t18G8MVMJje8jV1ARotj': 145,\n",
       " '117jeAARRH7F77EVGJejt1HJ1RtMHRRo': 146,\n",
       " '117jjoRF181GFGHJJG8jMe11jG1V7jt7': 147,\n",
       " '117joVjVFFFoEJVVA7HRejVV7jFGRAGH': 148,\n",
       " '117joVjtJAtARF1oGAVtF8AGtMoHRG7A': 149,\n",
       " '117o7EEoJAAtGjjVRHF7VoHJ77GJ7Me7': 150,\n",
       " '117o8RHt8RHEF8AeAtGFJeEMFHeHRJRV': 151,\n",
       " '117oAtJMtRG1VtteMjAAVj8e7HEt1eJJ': 152,\n",
       " '117oGoAFVHEtHRRJEJE18GFMj1VeMEJ1': 153,\n",
       " '117oHVF7Vt8t8jEVJMR1F1FV8tjRVeE1': 154,\n",
       " '117oeEJ1HMJj1eEo1oVRGGVFMEJeHjjA': 155,\n",
       " '117ojjFoEHEE8MG1VH1JAMeEEGHR88eM': 156,\n",
       " '117ooVjFVJe8e1jE8R18E1AGtoeHH1e1': 157,\n",
       " '117ot1Ft177EjAMEVEV1VtEVJooJGVVV': 158,\n",
       " '117otHM1FEAtHJotGeGGRR7o1t7H7Hoe': 159,\n",
       " '117t8VR7EjtFAA7F7otHEE8o8HttJER1': 160,\n",
       " '117tRM7VJJj1FEojHoeRjE8J1eEEJ7EG': 161,\n",
       " '1181E1V77VoMRGHoVEoAREj7HJ8FEEjA': 162,\n",
       " '1181HEoE8AtooEeFFRAF81JMjJ1e1o1E': 163,\n",
       " '1181MRHHRAE8jVtjAG1J7e8EoeGJMoFe': 164,\n",
       " '1181Mjo17RMAHet17oJjEoGGHMoeGtGo': 165,\n",
       " '1181RFjEjoFRVJ7VGttHAGJHGJ1Jo8VA': 166,\n",
       " '1181Ve1jGFGR7GA1jeR7eF7G8HEHo8FG': 167,\n",
       " '1187EoeFHGF7A17A78E7MoG1A7EJ71RE': 168,\n",
       " '1187G11V7jEHjH1RE8HA7Ro1j1ojAVjH': 169,\n",
       " '1187GVoJAA7GF7EHAjAReF1JGoJAjMJe': 170,\n",
       " '1187H8EE7tA8EjjtJ8EJJ8FjGtA8HG7J': 171,\n",
       " '1187J1AV1jjAjjeEEEE1eM7Rj178MM7E': 172,\n",
       " '1187RRJ7j1GARoMjHGE8t8jo8F8e1GEJ': 173,\n",
       " '1187jGe71JEV8teGEMJejoHFRHAjFHF8': 174,\n",
       " '1187oAReHAF1AEoj77VeojAEAMM8171M': 175,\n",
       " '1188F8JVj71MJRJej8HG1Gt8VFRFFMJV': 176,\n",
       " '1188J7GMRjAEH1HAotMeeJjJV18jVoRt': 177,\n",
       " '1188RE7HVoRRoVFtVEEj8jt78EE7ReAV': 178,\n",
       " '1188RMEM8HjFoJetMtAEtj8oAVH7MMMR': 179,\n",
       " '1188RRj78M1JeG1oFMHJHRjVG8tF1JAj': 180,\n",
       " '1188o7oFEVjMt8VHEoMe1JRAeJRjMooR': 181,\n",
       " '118A1eMRjG8tJGAeo7tHFooGFMooGReA': 182,\n",
       " '118AAVR8EJtFooVV88JAJjV7tJJFFF1e': 183,\n",
       " '118AAeMVtEGEoVteE8GEtG1jJ1EeJo8J': 184,\n",
       " '118AGEEAEV1ee8AtFH18AVHJ81JeejG8': 185,\n",
       " '118AJ8R8V1Ft1Gj1e8ERGRVeoVEV1J1H': 186,\n",
       " '118AtMGjooV7EEJjF1FoMGoRte7MtoVR': 187,\n",
       " '118EJJRA8J1eEo7VeV7Fe8EHE78tF8Me': 188,\n",
       " '118EMGFGERF1Hj7V1eEAe8EEFJtMFeoj': 189,\n",
       " '118ERjAEjVEE7eeE1jE1G8AH1F1EEAtF': 190,\n",
       " '118FA8RFj7E7o88tEVGRAE8FjJ8tVJRV': 191,\n",
       " '118FjARooHGeeEMGjteA1MH7RoeM1toj': 192,\n",
       " '118FoeMHAJVV7F7JoJtRjtMoH81ARooR': 193,\n",
       " '118FtootJj1oV1jVAJEJ1HJMAtVJJ7jF': 194,\n",
       " '118GA78AFVMoEFEERAA8tHJEjGeHH7Jo': 195,\n",
       " '118GHER1GFVRE71G8EtH7JFRtJJFe8VA': 196,\n",
       " '118GMo8A1HJ8AJ8VEeGAVAEoGJeeG7Mj': 197,\n",
       " '118GeARH8E8GAtA1jAAoAEeAe7o8t1V8': 198,\n",
       " '118GeEtRG8EEHt87FjGHHGjtMFAJjeJt': 199,\n",
       " '118Gt1MMHeMHjj8MMVJM1o7JtE1GJF7E': 200,\n",
       " '118H7ojEetj7GReJFEtEoAAeRtGAEeVF': 201,\n",
       " '118HERR1H8AAeMtJHMG8HRtFeGRM8VRo': 202,\n",
       " '118HGEe18MEF11HeH8eJHGMoAVeJFtF8': 203,\n",
       " '118HGMEE71HttEeGAJJERVMFRGRHV1RV': 204,\n",
       " '118HjEjo87jMEVE88HjoRJ88oMoH7oR7': 205,\n",
       " '118JAVotHERtt1oF7MtFAoEGH1F1GJEH': 206,\n",
       " '118JERRV8e1tHAG17F7tH8GAFHAo87ee': 207,\n",
       " '118JeVRReHAE7V1tAM7jVjGVJARMeR8J': 208,\n",
       " '118M7VJE8jREVMjVR18HAFtMHEj8joVR': 209,\n",
       " '118M7jH1HMEJ7ojEVoE1tVt7jHFtReeJ': 210,\n",
       " '118M81A71oJ81jFJGHHRHRJRHeG8JVJe': 211,\n",
       " '118M81tMEj8RRo1GeFJJEjRFJGEG1MeA': 212,\n",
       " '118REMFRAoVF81GoeARR8toVHJ1jjAtt': 213,\n",
       " '118RMVeVVete8FRM1Gt8AojHMGo1GGAG': 214,\n",
       " '118RRMGVjRHjMeAE78GtVJejEGj8FG77': 215,\n",
       " '118RVRAE7AE8HeFjEME1AA87FFJteHH1': 216,\n",
       " '118V78AVoMFeJJtVjGJoEMVeH17FE7tE': 217,\n",
       " '118VHEAGJoot8eAAGHtFHMjR1G7FJGJo': 218,\n",
       " '118VRAAEtttG7R71GRMHFRJAMHHoe871': 219,\n",
       " '118e77MF7H1eR7MA1oeAVAeoARJR71jG': 220,\n",
       " '118e7EeAA8FM8j7A7jFM1GReoJREAV1t': 221,\n",
       " '118eAHHEj1R8JtJVJ8eAeoAH1ttFEe8E': 222,\n",
       " '118eEHMoHEtFHo77MGAeGHA87HJFFJFe': 223,\n",
       " '118j171EM1FJo1M8e78GoHMRjjEFE81V': 224,\n",
       " '118j1E7JF8o8joJoo1AF7jGRJetHHMAV': 225,\n",
       " '118j77HE7FJe1FtVVjEH1j1FAJV1RjAV': 226,\n",
       " '118jRG7RJM8jMRRj18t1M1HV7tGjJJoe': 227,\n",
       " '118jejHAVMMRARHMMGjMHo8ejtHAGJo1': 228,\n",
       " '118o8MjHt1REV8JJEM87AJ7G1GEoHttH': 229,\n",
       " '118oRRoM1tHo1H7eJ8jV8eJJ7JeeJMVG': 230,\n",
       " '118oVet1AREtVEGeVEVVeVHM8Ajjo78V': 231,\n",
       " '118oo7M1HHAeoRHVEe177R88HAMGeV17': 232,\n",
       " '118t1EFERteJ1eeRVEjtVFG1JoH7ojRR': 233,\n",
       " '118tVGjjeMGGtMREGRAJF1JoE887o1J8': 234,\n",
       " '118to78FEe7EV1MRoM8jVtAAMJE1GMjR': 235,\n",
       " '11A11GeVoFHFR1RoJ711AH7HJEM7eeVo': 236,\n",
       " '11A17VejoHEjeHFRJ1RoE1j11VtojJMJ': 237,\n",
       " '11A1REtJ7MHMHGjGEFRjo8GMHMjMGVjM': 238,\n",
       " '11A1jAF181818G7V8oV7JRe8H18GVHGA': 239,\n",
       " '11A7GeAFjFRj7tRV1J7RGAJ8etoMJVo1': 240,\n",
       " '11A7HjeAF7JA8EMAEFoMjGHtE7tMAEAA': 241,\n",
       " '11A7o8AjHJj1JR77EjMeeV11FEJje8At': 242,\n",
       " '11A87tHJHAtAV1EVt7AoeEJtej7A1oe1': 243,\n",
       " '11A8A8HGMRF8AFFeAeAVGJJFG171VMFF': 244,\n",
       " '11A8HMR8EM811MRGE8ojHH87Ao7M7eHM': 245,\n",
       " '11A8tE7eVER78jHEFRtVAeM18VJAFRo8': 246,\n",
       " '11AA8VMeA7tF88HFtVJMVMoMEJjHV7eR': 247,\n",
       " '11AAHJ787ReJH7Ej1MMRoe8EE1MAtMEE': 248,\n",
       " '11AAJ7J11eF1R8eoEGAJFHVEJHGt8787': 249,\n",
       " '11AAVFAGFJHV8EtGFtV7tRjJHM1FRHoH': 250,\n",
       " '11AAt17HeoH8jFE8o8JEJojFMRGJ1GoH': 251,\n",
       " '11AAt8Re1G7oHj1JojVoJt71eMjM1jVG': 252,\n",
       " '11AE78tMM78tVJFeMJoeG1REAtVH8EAG': 253,\n",
       " '11AE8HF7jeGVeMG8FVRRFGEoE7HeoEMe': 254,\n",
       " '11AEA7o1eejR7oo1jjHJoEo8V1RoooGV': 255,\n",
       " '11AEGHGMjFHe11MH7MeE81EMjF87VFJj': 256,\n",
       " '11AEHjFJVJe1VGjAGGG8ARJHERtj1FGe': 257,\n",
       " '11AEREeo8tH8ttt8M7JEEA77FFGFGVHo': 258,\n",
       " '11AF7AoG1HGFjHEE8FVRo8HVAM7oG1Re': 259,\n",
       " '11AF8J1jGAFRA78teM1HGotEeV1V11HA': 260,\n",
       " '11AF8etA8jJVEAVVtJ1oR87tGVeMeRGG': 261,\n",
       " '11AFEEtVeJ1t78tMtoHGe11et71GjEoH': 262,\n",
       " '11AFGHAHeMeHF7oMG8FVMtHVEVo1jHEF': 263,\n",
       " '11AFGRA8A7Eo7VGMGHAVRHMAVFMAeVGH': 264,\n",
       " '11AFHJjeFRJ1VMJJMM1GFRE7jtHFVV71': 265,\n",
       " '11AFJGEE8o1H7HFM71VeeGoj8ARAEAtj': 266,\n",
       " '11AFJo8H7otR7MAotj11oeMj1oJRe8eA': 267,\n",
       " '11AFV8jG8MH8t7VMVMHFF8RVReH1VoG7': 268,\n",
       " '11AFeoE7R1HFeJHRH8JAo1EG7AF8t8Mt': 269,\n",
       " '11AGjoojJVGAtVH8eGee1E188E78AMR7': 270,\n",
       " '11AGtGEtM1jVJ81jt7GVe7RV1Eje7Re1': 271,\n",
       " '11AHJe8At8VEjtJjJ7oAoGG8FHEtVAj8': 272,\n",
       " '11AHM1E1MAooV1tRMH8FRJeJ11t87jtG': 273,\n",
       " '11AHjGVjAG8FtRFeeVeeoFJMtAAGet8A': 274,\n",
       " '11AHjo77M18t8HMV7tHte1VJHj7ERAHA': 275,\n",
       " '11AJR7jeoRH7GJREE8JejEMoHFEEoGEJ': 276,\n",
       " '11AJoeAMFjReG1FV8jHM1JVtM71oeEjj': 277,\n",
       " '11AMA11eEJHEEH71HEo7A1GJ1VjJH8Me': 278,\n",
       " '11AMH78FH7RHoejMeH8oAGtGeEFjjM8R': 279,\n",
       " '11AMMHVGFVM8M1MoHtj7tjoHoV7tJeMM': 280,\n",
       " '11AMREjGeo11Rjt1AFjF1EHVHV7H78J8': 281,\n",
       " '11AMj7JtV7o7jtFoJRoFJ8t1EtjjJoHE': 282,\n",
       " '11AMo1VeHeE8jjHVtVGetJAt8GHGjMeA': 283,\n",
       " '11AR7eGoejEJ1RJjREEFj7FjFAe718AM': 284,\n",
       " '11ARAEV7RHo8J1JMVMj1GetEVVVRJFe8': 285,\n",
       " '11AREAtFVjtVMoVoeRHtj77EEMtFVoEF': 286,\n",
       " '11AREV1jEF8GojHRJ8G1H877tGV8AGEE': 287,\n",
       " '11ARH1E1GjtEVV1VoG7eR8711teMVtM1': 288,\n",
       " '11ARHeEJt7F8FMtJoReJV7GEtHoEHFF1': 289,\n",
       " '11ARoRAJ88eHj1A7t7tFeEMG1AG87eRV': 290,\n",
       " '11AV7VtFe1M1G1AJ8EHJVeE8HMeEoMt1': 291,\n",
       " '11AV81jR8VE7j8t1F8JEHRVMe7HGEHMA': 292,\n",
       " '11AVAMFHEjJE1FAE8eeRRo7RVFFHo1EA': 293,\n",
       " '11AVAtMFF8Rojt7RE7FF8H1E8JGotA8F': 294,\n",
       " '11AVEMRGEMeEV11Gj8Re71jFE8FHHHjE': 295,\n",
       " '11AVEjEH1GoeMj8tVVR8M7VVMEEHREMF': 296,\n",
       " '11AVGMVVEe17H7RHtREA8G8MVHJeFj8H': 297,\n",
       " '11AVMVjEFto7oAV7EFeMtGJGooVJ1JMj': 298,\n",
       " '11AVt7jF8MHJjFtH77oFeJAG1eJJetMH': 299,\n",
       " '11AeG1e71RoF7EeVAeF7JVAGJV8VoGtH': 300,\n",
       " '11Aj8RFV7etGF7MEjHEtVG7RAtFtVMHt': 301,\n",
       " '11AjEE8MeMFFJJGAFoFoj1V7eE1F1GHG': 302,\n",
       " '11AjEe7VHRHMF8AVMJ7M7tHVJteRGGtj': 303,\n",
       " '11AjHj7EeVFAoMJERoRGR1MVRRoFMJEH': 304,\n",
       " '11AjeAFEJGRAARHHj7Ej1jMoAHMFRMtG': 305,\n",
       " '11Ajj87eeeJH7VEVjFAFG1JejHJFetH7': 306,\n",
       " '11AoR7oGj7eMGV1GFEFReRoE11oAJe8j': 307,\n",
       " '11AoVFJ1VEGoA1Jj88J1ttVMGFFRM1VJ': 308,\n",
       " '11AoejVH7MtF1MeoFFe7oGtVJH88je1J': 309,\n",
       " '11Aott1He1EeGeoetjFtMAoMMeEVJeHJ': 310,\n",
       " '11AtR1FF1M8o87J1JtjJ8tVMRAjRMR7t': 311,\n",
       " '11AtoGjoJG7MHMR7VRRHeHMHR7eJ87RH': 312,\n",
       " '11AtoeH8MVR1HHjGGAR8VtAH1M7j1RtM': 313,\n",
       " '11E11VeR8VGV1RMJVjeeAGEHGG1AVF77': 314,\n",
       " '11E1AE717ARHE1to8FGRMJFAAtVRAM8H': 315,\n",
       " '11E1AFjG8GEMHMV8jH1A1GoM78j1otRM': 316,\n",
       " '11E1MAoJMGMeoHHH8jA7eeRJE8JjA8eR': 317,\n",
       " '11E1VMe8A18JJVRJ7RtFtHjFH188VeEe': 318,\n",
       " '11E71tG7Fe7JGRHV7tRGRHA8H1AAMMJ7': 319,\n",
       " '11E7AAoVGGJR7eA11FoGEtHoFoeM887F': 320,\n",
       " '11E7Rj7tRHtF7AGtM7H8RJA8AH11HEEo': 321,\n",
       " '11E7oFEe7Et1eFE77to8818RVFFVHjGG': 322,\n",
       " '11E7oe7H7EH81MHERetJ7Fet1ettR8o7': 323,\n",
       " '11E88je7t7MGMHjRtEVRFMJjjVGFeEVJ': 324,\n",
       " '11E88t8V1R81GAM8711eF7eM8FGMoGJG': 325,\n",
       " '11E8AtMVJFoVJtjVoVoFJJAGMjFFVReE': 326,\n",
       " '11E8EFoJ8FGA8AFJFE7t8AFV8JM1HEEo': 327,\n",
       " '11E8FEVVoAFVR8HJ7RJARFJRtjHotEM8': 328,\n",
       " '11E8JjEeVEGHFEtMjMVRteF7JjH8FMMG': 329,\n",
       " '11E8MAtAtoJFoJAMJEAo7HFGG1RRVj18': 330,\n",
       " '11E8RJVeteAJERAAHVo7t7MJAjFEe8EH': 331,\n",
       " '11E8oFtJ8HRAEVM8j81RMG1ee1ojAMjA': 332,\n",
       " '11EAEe7AtjJRVVeHG818otAFVE7MoHJJ': 333,\n",
       " '11EAEoFtojHt7F78oFeV1tJ8Eo711J8M': 334,\n",
       " '11EAR7ooV7FJeJ1jHM1J1JR77tMGtAFF': 335,\n",
       " '11EARjeAMMAEtHRo7j1VA8oeM7HtR7GV': 336,\n",
       " '11EAjE8AMMMG87MM7GjGEVVG1JAAoe8o': 337,\n",
       " '11EE18EoE8EeEHRoA1jEjRM8oJtFE8VF': 338,\n",
       " '11EEAERHHHVARjo7F1eE77jREeRMJH7o': 339,\n",
       " '11EEAojoj1tJGM1t8jEEoAVjH8oH78MG': 340,\n",
       " '11EEEjMGt7joAF7AAoeHFotRHRjGRV8A': 341,\n",
       " '11EEVtoVRoREJe7AEJjGjoHtMHEJeVM8': 342,\n",
       " '11EF7Aj1H7HAV1MMGoHoGH1AHj8ttVj1': 343,\n",
       " '11EFFAJHFjMAVjH8tGGJF1F77HAeFVJ7': 344,\n",
       " '11EFHRtHeH7tFeR1E1EM1R7VVeMt8RoJ': 345,\n",
       " '11EFRjFGAAjGReMV7ARMtt8o8VVet87j': 346,\n",
       " '11EFVHjoVtMeEej1RMeMHGFHeAM77tHJ': 347,\n",
       " '11EFj1VA7oHGVoeHE7VHeAj8M8JHtAoA': 348,\n",
       " '11EFj8RR8VAMjH8Jjjt8ReE8AMGR8GEH': 349,\n",
       " '11EFjJHeHEF1GMG1V1e1RE1e7eVVeVj7': 350,\n",
       " '11EFttE1E7tJF1A1EH8RH81JJJJoFRAF': 351,\n",
       " '11EGAeHt8jVE117GMJRetHj7Mo7JJtEo': 352,\n",
       " '11EGE7GHAA8FAHet7EF8jRVFE11jRJ7R': 353,\n",
       " '11EGF1ejGo8FAAHEeFERto7VjHGoHJ7H': 354,\n",
       " '11EGRMFA8oJGF18jF7GV1G78jJoHe87j': 355,\n",
       " '11EGRVMGAtEjHJoHV8JMHJjJJMoFjJF8': 356,\n",
       " '11EGVJVJoHAH7REjFtFGHGHjtHVEJ7oM': 357,\n",
       " '11EH1jM8j7eAFejeoHE8FF8eJVJ1JEjR': 358,\n",
       " '11EH71EjooGo8jFoVE7otj1teAH81M17': 359,\n",
       " '11EH7JootJE1EtMtMeFjJtj8tA1FERGt': 360,\n",
       " '11EHAMFE8HGo7tM11oRjEJMAjHJt1eVF': 361,\n",
       " '11EHFEGF8GVEoHFJRJo8R8MERFo8F1eo': 362,\n",
       " '11EHMVM78tR7E1eooo7jVoHFRo7G7GeJ': 363,\n",
       " '11EHoe8E1J7HtGMEtEG7eG1jJM8VGEoJ': 364,\n",
       " '11EHtA8EE1e18Jo8V17EettF78oRtH1M': 365,\n",
       " '11EJ8jF7tRRMejRMMV18EF11GoV1VtVt': 366,\n",
       " '11EJAoEeEV7EFEGeeeVtoRVV8G77EMA8': 367,\n",
       " '11EJHVM8teMRHRRtFtG1H7ojM7eGGej7': 368,\n",
       " '11EJRV8EeoARVRtFte1GVM8JV77JMGFj': 369,\n",
       " '11EJVjJAteEEE7VGAFR8oVRJ1jMJH8HF': 370,\n",
       " '11EMttjoARVjj7HEMoEo78JeoetMVMMH': 371,\n",
       " '11ERAJVFFeGe8FoF8e1eAjFH1R77V111': 372,\n",
       " '11ERREM8HM1tGV1oFjJeFj7VA8AeGHEH': 373,\n",
       " '11EReH18MAJERjj1HeRAMFjA1GetetjA': 374,\n",
       " '11ERjAJt8MtE881RJ7JVtFe8MG1oAAMo': 375,\n",
       " '11EV7t8eJRoHM7tGHAGe7j8MAH8VMFGF': 376,\n",
       " '11EVH1RAReJGGR1GEjoFeA88tA7HGFAE': 377,\n",
       " '11EVHe11FtGtVJVtjV1eGoEJHjJtVFE1': 378,\n",
       " '11EVJoVHFH8AM1EAoEF8AeF8o8R71ttJ': 379,\n",
       " '11EVRFEjM1AGAtHReJtt8jJ7HV7ReM7G': 380,\n",
       " '11EVVREM1tJVF7RFjM7GjoEtJReF8AoM': 381,\n",
       " '11Ee1Rt8VJGeFeM8RAE7e8JjAH7Rt81R': 382,\n",
       " '11EejAjFFVHVVjoM71AGJ8GHJFEt111M': 383,\n",
       " '11EjHoJoRjeoj8HeH7tjGAJHMMe8R818': 384,\n",
       " '11EjJ1tR888ejVjEVMHAMGH7jHtJtj8A': 385,\n",
       " '11Eo88oEMAo7jFV7HAEGHAjEFMAteGG8': 386,\n",
       " '11EoMJV8MotE1EFj7AE1M8jG1JtEHHRR': 387,\n",
       " '11EoeM1eF717Ve7EjAVH87JR7RVR8GRj': 388,\n",
       " '11Et1tM8HME1eFjA1EJVVtoRotAA8Moo': 389,\n",
       " '11EtA8jARGeEEtFVe8R1EoGVF7H1oejR': 390,\n",
       " '11EttojFEEoHJjHRMRGeM71jeV71oejF': 391,\n",
       " '11F171E8oVJRHAe8M7t7VRVJA7JeRRjJ': 392,\n",
       " '11F17eVJ8EH1H1HEVJt7oGVE7VoH1JoA': 393,\n",
       " '11F1A7AeMjJRjtHMt1Me8eAEHMjVHj7E': 394,\n",
       " '11F1EF8Aj7EGGVMEAJ8Ro7GeRV77o8AM': 395,\n",
       " '11F1JJJRF7jMMF1eJFF8EAGHAoAAJF7t': 396,\n",
       " '11F1tjEVt8MFM1JVM7EARFjJ7AoGeE1j': 397,\n",
       " '11F78MMHGMFGRMJRHM8AReJ7MeVVoHA8': 398,\n",
       " '11F7Gt7jE7G1RRF1FF1RteFEJeG1R18H': 399,\n",
       " '11F7jJM18VFMA7oeVoEMJjejGjREVe88': 400,\n",
       " '11F81REe1A1e8tGARt8EeojVF81FHH11': 401,\n",
       " '11F87GEAFtHAF8JH7EjJER87JRR71joj': 402,\n",
       " '11F8GGA1eoAG7FFHjVAjet18tMJeJVHe': 403,\n",
       " '11F8JF8MMGjjHEMEGG7eEVHtoFH117G8': 404,\n",
       " '11F8eF8VotjHReM1HoVA7GotAMJREttj': 405,\n",
       " '11F8tEJj7JRVtAV87G7RGMV8VJoAVj8G': 406,\n",
       " '11FA7J81H1o1JGRejJojJoVjeHtFeGER': 407,\n",
       " '11FA8e71oHeJFGj1MHGAGVM8RJGA8E8j': 408,\n",
       " '11FAHJMAjJ8AJGJA8HE18AjREtoR8Att': 409,\n",
       " '11FAVREtF7Vteo1JHGEoo7F87jERF1AF': 410,\n",
       " '11FAVVVG1eMHHEEo1FjJH87VA78VH8tF': 411,\n",
       " '11FAtGoEME8tJe1Vttj1j78e8Ge1EMJ7': 412,\n",
       " '11FE1o88EGMGoVtER7GVj7JJeeot1oRJ': 413,\n",
       " '11FE7F8V8GM7GGFGA7GVRtVjGoEotMJR': 414,\n",
       " '11FEjFVMJJAF1oVt71MGAH1RMJRJtHJ8': 415,\n",
       " '11FEtRo8jJJAEHoAj7oR17A18F1VFA1F': 416,\n",
       " '11FF1ttjVFG7VeA8jVG8GEMJjR18Eeje': 417,\n",
       " '11FFMVVRMtVe81Rt81jHeAGt8E8VJtAE': 418,\n",
       " '11FFeRFMeGejejJEEHV1AtHRojAFeto1': 419,\n",
       " '11FFjjHjFAARVREHF7AAMjReeGFM1ojt': 420,\n",
       " '11FG7MRRFjRoEE8GRHV7RAE8GtRtG8tM': 421,\n",
       " '11FG7oGeFGoFF81GRtHeeR1ojHoF88M7': 422,\n",
       " '11FGEGHeAEAjFHRAoMeEAFtoeFERJEHe': 423,\n",
       " '11FGFEoVHe1tAFME7jHEJoAMGAoje1Et': 424,\n",
       " '11FH81VRe1ojHjtMMFFMGGJRMjJ8FeH8': 425,\n",
       " '11FH8EM81tot8jVjF8MtjEt77MootEJR': 426,\n",
       " '11FH8J7teRGGte1HtEGRGEMAGtHoEVoE': 427,\n",
       " '11FHA8JV7j8MtR1e8MFF8E1teMeRR7A8': 428,\n",
       " '11FHFGGFHMG8RjMjRMeH7FetGGH8GtGt': 429,\n",
       " '11FHV1tojV7FHHMV7tHGeo1MVetMJRFe': 430,\n",
       " '11FHVoVHeot888eR8EEGFEMtJjeJ7j8o': 431,\n",
       " '11FJARREARG7RG7Fj8JJEeojAM8FeG8R': 432,\n",
       " '11FJGHt7HF7ReMREGMj1J8EGAHeMEtRG': 433,\n",
       " '11FJGMER8VJEEF78GAVM8VHeet1FJAR8': 434,\n",
       " '11FJjVtM7RJJJ8oVe7FA177HHtF1JH7R': 435,\n",
       " '11FM718EeJEjR1JFjFJtoVE8GF17GR8G': 436,\n",
       " '11FM7RjjJVJjo8oHEjtMFFH8JEVHGEJE': 437,\n",
       " '11FM8eojoMMFF7V1Mo71R7GRAEJFRG7o': 438,\n",
       " '11FMHAeV8VtVHGFME1tojJGFGFtjJRtA': 439,\n",
       " '11FMHotH8RHee1oGJJH7j77FERAEoeRt': 440,\n",
       " '11FMo8RF8Ro7EF8oj8Gt7AE7JJGE18RH': 441,\n",
       " '11FRGFRJj1EMVFtMteF8HG7RVA7tF7eM': 442,\n",
       " '11FRHj8e7M7RoRF1MVReVJMFVMtjFMAo': 443,\n",
       " '11FRMjjVtFEotEJ7GjMF181VF1G8EFFE': 444,\n",
       " '11FRVMGHVMMJGeGEV71tHj11J7A1eoVH': 445,\n",
       " '11FV1jAMRAojGH1etHJEMoFAEH8RAG8R': 446,\n",
       " '11FV8JHjjEeeMRtR1jttEjt1te1JJjRR': 447,\n",
       " '11FVFoJj87VJtE7ttFjoA18eeVAMHMEG': 448,\n",
       " '11FVHjVEtRFAEAA1MeEHAMtt1J171M1G': 449,\n",
       " '11FVMGttVHoE18j1oFGHJRVHAEEtRF1R': 450,\n",
       " '11FVRJtMt1JAGt1e8tRoFGJMJRMteHEt': 451,\n",
       " '11FVRM78jtVAVEJH1EAF187GRJ1o1G1J': 452,\n",
       " '11FVRjtHAAFA8VttGMRHMVt8EEFRoVe7': 453,\n",
       " '11Fe77JM1MoJMjttA7EGJVtMMERAo1M1': 454,\n",
       " '11Fe7j8jeERtGFHtR7RjHMFR1A71AVEE': 455,\n",
       " '11FeeReeJooH78AtoeR1A77EF7HRjE7V': 456,\n",
       " '11Feo1ARJF8o1VM87GFReEM7eoHtJJRF': 457,\n",
       " '11FeoM78HMeG87HjHRMoJo7eetoFF7GA': 458,\n",
       " '11Fj1JVjjoAHEo7F7V17VFtHGGVAoHR7': 459,\n",
       " '11FjAEMttjA81GVAReFotjGjAtMFMR7e': 460,\n",
       " '11FjetGHAjFt7FHRFHeetMRFooRFFRAV': 461,\n",
       " '11Fo8HAJt78G7EAJoRReHtMGJjeGtVMe': 462,\n",
       " '11FoA1V8ERttGVMAJRE7eJ71VoA1jEet': 463,\n",
       " '11FoAHVEAMMo8jJRRMjGFE8eA11RM1FA': 464,\n",
       " '11FoEMojoH71H878GeEtto8MVR8e7JJe': 465,\n",
       " '11FoFtAMVE7A8jjG8t7eGGEGEeHMtVjo': 466,\n",
       " '11FoGEeRR1RGV11MJ8AjjVA11EVeoE1j': 467,\n",
       " '11FoJJEV8EFRj1VARHF1R8jE7etFeA17': 468,\n",
       " '11FoJM8F8toeto1GjRF7VEAoVH1EtVMV': 469,\n",
       " '11FoRV77jVoFHoAtAjMVEojReAM8Go7H': 470,\n",
       " '11FooHj8E8RHJEG8tJEjFjRj7EGHeJoF': 471,\n",
       " '11FtEMR1MeteEMt7jtAGE8FMAjREoeGJ': 472,\n",
       " '11FtEVEMAeEGGoVAj7jVetGjVtAJjt11': 473,\n",
       " '11FtJA1MVJAt7HMVeJAEV1A7AEGVAttj': 474,\n",
       " '11FtVGAMH7oF1R8GVoFjGttojoRGHRE1': 475,\n",
       " '11FttGAVeJARH78oGJGHAE7MHjMMAt77': 476,\n",
       " '11G11oGM8tVMH1EJGHoH7M7ojo71ARoV': 477,\n",
       " '11G17t7VJ8tEARRAtJF8ttHJGR8FejoH': 478,\n",
       " '11G1AHJJAReFRjEMV87e1o7t71to18RJ': 479,\n",
       " '11G1E7EFoEHEoJjjJHJ7jFVRo8GGtFF1': 480,\n",
       " '11G1t871VAMERJe87jMG8EoeGEeR7eJ8': 481,\n",
       " '11G7A8je1jGoREGeE1AFV88jGoJt718G': 482,\n",
       " '11G7FMR8AVAeRH77eEjJE1Jo78jje8FG': 483,\n",
       " '11G7FetEAJMj8oReA8MJM8jAE7V8RGA7': 484,\n",
       " '11G7MFH1oFV1RjjR8VJAM7F7J17jRV7A': 485,\n",
       " '11G7eAR7E1FeE17AHAjJ7GGRj8MEej1G': 486,\n",
       " '11G88Vj7jRoE7HERtjVRo8oGjA8GJ1RM': 487,\n",
       " '11G8VoRVHFR1G77MotVeA1eGoAF1MMoj': 488,\n",
       " '11G8oo1HR8V8JMAJjHe18AHGR7FMJot7': 489,\n",
       " '11GA1EEjVoMR1t7JRoHjGE7FAjAA7Ejt': 490,\n",
       " '11GAEE18H8FEMVGJV1toF87jtGeoeGJM': 491,\n",
       " '11GAGHe1EoGeto8RoFHoAV1AVAHVtM7j': 492,\n",
       " '11GAJejMAHJEAJRJ8GAFJ1eooFJJVtRE': 493,\n",
       " '11GARRoVVH8t17FVMMjF8Re1Jt81RJ7F': 494,\n",
       " '11GAt8jJtMRGeAA7eoE7jA8tEFFAjeEM': 495,\n",
       " '11GAtGFRMHFJE811tGtHeVMRFMAR8oMM': 496,\n",
       " '11GF1VAR7jtEHGjMVVGV8EeFJRVR1etV': 497,\n",
       " '11GF1tFeMHAjHEVEeEeoJoMFeFR1F1jG': 498,\n",
       " '11GF78RRt8ER7EAM17HFVVtGoEGEGjoG': 499,\n",
       " '11GFFeVFjtR8VeH7EMVjeoEVjoAo8F8o': 500,\n",
       " '11GFH7MjAEjEE18t1ojVJA81MAEGFHMj': 501,\n",
       " '11GFH7tRGJ8jFJeA8F7GeR8oJFjJHGt7': 502,\n",
       " '11GFM1MJtMtMVHF1Re17A788tAG78eHt': 503,\n",
       " '11GFVA1EJeJ1jVoRMtHoE1ee17EVoHEj': 504,\n",
       " '11GGGVJJE18RjFGeeEtMF1eRooo7G7Rj': 505,\n",
       " '11GGH8FMJoGMR7Hje8FM8RMRAHHooJHH': 506,\n",
       " '11GHFFR1jjRE8jMo8joo7AEEHetM8F1F': 507,\n",
       " '11GHHHERtA8jVVRjeJoRFFRVFeMee18G': 508,\n",
       " '11GHHojVJRtottjVFGMEjFoJMMoJFRVA': 509,\n",
       " '11GHJGGotJVGM1MJMV78HF817jJHG87V': 510,\n",
       " '11GHVj8FttFo8tHjEJtHFoj8VeRtAMo8': 511,\n",
       " '11GHe7jAF7ee7HAeoEtGGGJojHMREjjH': 512,\n",
       " '11GJ1A78GRJHGo88JGj11Foo7MMHoj78': 513,\n",
       " '11GJ8tJJeH17eo1tEMR87AMooetJRt18': 514,\n",
       " '11GJM1VRVAEoA78Ej8tFG1EGHJEjEMRM': 515,\n",
       " '11GJVGR7RHR1oR8AjHVV8GeGMEGJJjeM': 516,\n",
       " '11GM8EEMGEJGVGAjHRo8V8JMJJRM8o7t': 517,\n",
       " '11GMAFGejJe1tMF8GJGtAt7JAtMtVEHM': 518,\n",
       " '11GMJJMAG8t1JMRAFAt1HEjjoe811F1t': 519,\n",
       " '11GMVeGt1VAEGjRMERM8EJG1joj78RGF': 520,\n",
       " '11GMo7ooRVGJMeoAV7M8MMjHMHRFAVeA': 521,\n",
       " '11GR11EVjRVjotoH1VVMREAFjA717RoM': 522,\n",
       " '11GR7188tJJHE8GVV77GtJ8jFG1tFRMF': 523,\n",
       " '11GR8JRReFtEtAVHHVG8MRMtFoAeJtR7': 524,\n",
       " '11GRAjee7tRGHteAeVGjjjRGEjVoREHF': 525,\n",
       " '11GRHAHAM7EHG1H8tMJGetEFe7AR8oV1': 526,\n",
       " '11GRJeoGjjjJ81JoF7Htte7o7eHJVMFG': 527,\n",
       " '11GRjEjEt178AVj8HoGojtRRAJMEFAHV': 528,\n",
       " '11GRotFEVe1Foj81FoMFAjoMHGoteHRG': 529,\n",
       " '11GRtHJeVeF7HFMMEMJj78FeMGMRR1FH': 530,\n",
       " '11GRtVREEM871G7MeVEtAMJ7jH7e7MEA': 531,\n",
       " '11GV8tAe7EFtMJR8MGM8JGo8AG8Rjo7H': 532,\n",
       " '11GVARMFREAR7EHejGMVJtttMEF1GHM1': 533,\n",
       " '11GVGHtAREAGeA7MEVMtGttM1GtMAMJV': 534,\n",
       " '11GVHJVH8MMVE111JGA8A7J1tVVjMAJE': 535,\n",
       " '11GVV1VHoJMVoEe8MVeoojRt1AHJFj7F': 536,\n",
       " '11GVVoJ1tF878j1etARoMVGHjFJAJRoV': 537,\n",
       " '11GVjM8oFHo1VeRFeF7FMEoAMEGEjtJV': 538,\n",
       " '11GVoF7MHt7MHjtR1eJVR1FoMRFMHjFF': 539,\n",
       " '11Ge7Je87ettFF81HVtoHoA8HJtHEoGH': 540,\n",
       " '11GeEjR18HGetEeJ7MGtF87FVA7G8HGG': 541,\n",
       " '11GeMARjVV17Hj887VVGMjtF7E1EARAA': 542,\n",
       " '11GeRJGVVRe71FAt8V8oV1GJ88AMHVJ1': 543,\n",
       " '11GeeGVjeRRAG1E11etMVJRHGttVRVEt': 544,\n",
       " '11GjER8tjAjJe1EeFoAMGAFFG8FHVHjj': 545,\n",
       " '11GjGM7JAMHo7E1FGjGee8AEVVJM8eAH': 546,\n",
       " '11GjMHG11188F8o8G1H1F1oJM8V1H88V': 547,\n",
       " '11GjVJo7RHGAooEH7Met1AtV1oRAj1Ft': 548,\n",
       " '11GjVM7EMEFoA1MM1oEtGAGooG8G7j8H': 549,\n",
       " '11Go1JeEojVMEE1ej7jVeHetFjGe7Mj1': 550,\n",
       " '11Go7HF78ttM1R7jHFG8EoMe71teAH7E': 551,\n",
       " '11GoMGE7ojE778VEHt1AM1JJGeVeVEEt': 552,\n",
       " '11Goet8etj8RRjte8AtA8EM8FGGHAEJj': 553,\n",
       " '11GojJHHM1VtGe71o8tGjtjRFJEjR8eA': 554,\n",
       " '11Gt8MoFJJj8ot77VVo7tFJHMFRJjJe8': 555,\n",
       " '11H111tV7788ott7jMMHeJMVAGtH8EFM': 556,\n",
       " '11H17eJFjRjRoMtEjFMG1eFGRAJRRFE1': 557,\n",
       " '11H1MRFAGFGjFRE1jEeHoHFjEE8oGA1e': 558,\n",
       " '11H1VJHGEHAHtMG1VG1GVeoR1JEGVGA8': 559,\n",
       " '11H1jFHEMH8M8GA77Ro8818eeH8MHeGR': 560,\n",
       " '11H1jeFAG1JVGMV88o7AeAJe7VEeo78H': 561,\n",
       " '11H1tjEM1HVV1jV8A8tHAJARtFGtjG1A': 562,\n",
       " '11H77ARAFREHjEJGojV1HtHE8joJ1Ejj': 563,\n",
       " '11H7AHRtEFotAe7ooeAoFEeVFAV1F8Ht': 564,\n",
       " '11H7AJ1HRMFeMeR1jFtH8FHAjMoMtHtM': 565,\n",
       " '11H7EVEGjJMM7GAeeeGj88AoJ8EEtoHG': 566,\n",
       " '11H7EVt78M7JjtM18EjteFjE8MHV1EJG': 567,\n",
       " '11H7FFMGG1GVJMFEj8teooMERRVG8t8E': 568,\n",
       " '11H7JVJtFEA1j1tMH8eo111A718ooAoR': 569,\n",
       " '11H7e8oeGV1EVEJH8AoEj1eoMM8JE1t7': 570,\n",
       " '11H7o1JJEoF8AjR71MMVAtGJ1FG8tjHo': 571,\n",
       " '11H8EoAjEFAGG1MVRtoER1MMJH8RA7A8': 572,\n",
       " '11H8MG1jjHMeFj1M1GEjEMJMVAJHo1t1': 573,\n",
       " '11H8MHM8AAJRooVE8MMeEoR1HH8HMRjt': 574,\n",
       " '11H8RJR1oGjHjj7RHM88AEEjRJE7JHJV': 575,\n",
       " '11H8jHRAR77t1RJJ1HRJVo7JteoVHjAj': 576,\n",
       " '11HAGeEFVtojHF7GG7HjAER177GM8HtG': 577,\n",
       " '11HAeAFHFFM1Ae7tJAAJetAA1A8HjoGt': 578,\n",
       " '11HAtGA8V8M1FJHEGoEoHoEoGARo8tFj': 579,\n",
       " '11HAtjoEEHtFoMGG7AMMFoV7AFGHo1HG': 580,\n",
       " '11HEJ78JR8F78eVeRE7GE7RJGGE88M1G': 581,\n",
       " '11HERoRej7HHe7JJ11GR7M7RAEjtoAMH': 582,\n",
       " '11HF7Ge78AEoR71tH78j8EVFoEFoEA7t': 583,\n",
       " '11HFFVJHFHJtVAj8JMERV8RF18JERFMt': 584,\n",
       " '11HFoVME1tMeRF8o8EtVVRHMHF7JeoEM': 585,\n",
       " '11HGAtE771FAeReRj7tj8MeFGtVJGA1J': 586,\n",
       " '11HGGRMF8AJR1MG8HeM1jotjEF8JEFFR': 587,\n",
       " '11HGJ8FFGJ7MMAGHAH1VjjAGjooVeetF': 588,\n",
       " '11HGeJF8R7Ve1Rj7MEoVoF7VF8AoeGJ7': 589,\n",
       " '11HH1FVMMH8AeAot7HjFEM8AFAG1FGto': 590,\n",
       " '11HHMA1HGoJoJRje871oGeMEetjeo8eo': 591,\n",
       " '11HHeV8AtFFeR8Jo8FoRVVej78HjFRjH': 592,\n",
       " '11HHoHojoooEVe8e181tRjRGE8eFVjMR': 593,\n",
       " '11HHtAJjtGeJFVEV7VJFeHM7F7HF7VFV': 594,\n",
       " '11HHtJJ1VFEHHo71jAMRG87tMFoAFERH': 595,\n",
       " '11HJAG7MeAoj8AJJHeRM8MtAJMeGGF1t': 596,\n",
       " '11HJAoGG8je1AAVMtVEEAJ7JMFFFHetR': 597,\n",
       " '11HJJF7HEFJMRHAo7E8eHEERERteJ1GJ': 598,\n",
       " '11HJR8GGHt7GFeHe7tMJGEojJ8to111F': 599,\n",
       " '11HJVVeEee1JjGG71AFoEFMteJHVMVEM': 600,\n",
       " '11HJe8J7AGeeVJR11GJjFA788EGtjeF8': 601,\n",
       " '11HJjEE8MJ1MEGEFJAHtj8FFRjAVJHFE': 602,\n",
       " '11HJo1jG8J8MGVVeVjJMGRG8FVEA8Vt8': 603,\n",
       " '11HJoGM17V1VGJFA1AVHAVH1oEMoAAo8': 604,\n",
       " '11HJtF7A1j7REJAMFFEMjMoRJ1AeF7jH': 605,\n",
       " '11HM1RERH7EAeRVoHVJ8oJJ1eHHMRteF': 606,\n",
       " '11HMAJoJJ7VjeVo7eARGEJAAJM17tG7G': 607,\n",
       " '11HR1VVFoj8V1VM7JJAVoG1EAt1MjtGM': 608,\n",
       " '11HR7EtjVFV8o8jRVG8FVj1RE8G7VRHR': 609,\n",
       " '11HR8VjREoo717tVFVAjt1t81j8Ve1JH': 610,\n",
       " '11HRJeRERjH8HF88etE8EFRHo8JJj7JA': 611,\n",
       " '11HRMF7VVoj11oJjjV8AHGRtR8eJ7VRR': 612,\n",
       " '11HRe1VeHtEj1tF77A7V8t1jAJA8MeFR': 613,\n",
       " '11HRe8RHtj8RARV7oHeJjR7tVtRRJeFj': 614,\n",
       " '11HVFEjEeeVFEeHj1GtHo7JtFHJMRjFE': 615,\n",
       " '11HVHjFMHAHFMHHtH7t1FE87e7tVJFt7': 616,\n",
       " '11HVJMEeEGEFH71eJ8AAEAMtMVMtRFRF': 617,\n",
       " '11HVRjeGRe8eeE1HF817H8eHJEAGE1je': 618,\n",
       " '11HVjjoHjRGGAEEeFMG8HHotM1RMeHo7': 619,\n",
       " '11He8HVG7MF7GHH88RRVEJ7HJ7E18oFA': 620,\n",
       " '11HeEo8j8F7HtVEA8eVtM77VEVRF8EJG': 621,\n",
       " '11HeHGt8eGF8GoMHVM7A1eRGoAeHoAej': 622,\n",
       " '11HeJVHJMHEjHe1V8AJHFjRFeAFFJJ1M': 623,\n",
       " '11HeeEEFFRJH8FHA7eFE7VMHeR8JEFe8': 624,\n",
       " '11HeeEe7GE1FAJoeVoeG1GJVMj88ReA8': 625,\n",
       " '11Hej11V7EEVFFVVFJVFHJ1tVV8ettj8': 626,\n",
       " '11HeoHGt71HoMMGH1AeRH81tjJMGFe1H': 627,\n",
       " '11Het7V7tH177o7JHFJJRR7o1FeeG87e': 628,\n",
       " '11HoAEeHGoAVEG8toF7ejoJAR81tEVoA': 629,\n",
       " '11HoeVeAeH8RF81RE1R7H718RtR7H7HV': 630,\n",
       " '11HtRMGFeRt78MeeGFe7HeeJ1tEooojE': 631,\n",
       " '11J17jA7MARJFARVMEFHAFeVAE7AAEGE': 632,\n",
       " '11J1F1AHFAV1J8F8FeJeHGV1Ho8eFoAj': 633,\n",
       " '11J1GFH7t11te87jF8tAVeFGMJeAoA1H': 634,\n",
       " '11J1MoeHjRMGjJHJJ7o1817F8GGttF1M': 635,\n",
       " '11J71GEVRAo7Je1F7ERoHttEFJjRHG7H': 636,\n",
       " '11J78RVotGjJAoVEJ1A1G87VEFGt8GEF': 637,\n",
       " '11J7A18j7Ft8GA8FV1MFMRo8eV7R7AVJ': 638,\n",
       " '11J7AtoMVMeeGj8Mo7Ret1HMRR7jHHVF': 639,\n",
       " '11J7EJM7GoMFoVJjF77t81jJtoJMAjG7': 640,\n",
       " '11J7FotJjRGJj1jMoERJetGGj1jHt7RH': 641,\n",
       " '11J7HV7818eEGJ87Fj788A7RVMH1MjGe': 642,\n",
       " '11J7RtoFjotJFAoRRAHjEtVHGR1VttRA': 643,\n",
       " '11J8GV17F7MAF8AJ81otGEMHH8EF8jEF': 644,\n",
       " '11J8REHFAJF7HAA71oGeeJetjoVMFRHM': 645,\n",
       " '11J8V887JRF71ERtHFMoJ8JjMRFReej8': 646,\n",
       " '11JAAG7AR1EtMjVE1EEF8HoGMEAMH8JM': 647,\n",
       " '11JAJA7H7JFH8eR1jjRERMG8Ht8A1GHJ': 648,\n",
       " '11JAVoejAEeEMFeJGoG87FFAREJ8AtMt': 649,\n",
       " '11JE1GARRVteF11A8J8eM8RG88jtAAAV': 650,\n",
       " '11JE8J17jRJoV1MVFHHjMoFG7M7E18tV': 651,\n",
       " '11JEE1ejV8VMoHFto7oJRJAG8ej87Gej': 652,\n",
       " '11JEFjEJFMHj1e188AG8tEH71tGVe8Ao': 653,\n",
       " '11JEG7VjEo7oVtEEVMVj7Aj8VjtHJoJA': 654,\n",
       " '11JEtGttAH1jAVo8t7Fe1RRHRJH8MAMR': 655,\n",
       " '11JG1GeEjJVJEMHFHejHERAtM8teGVG1': 656,\n",
       " '11JG87j8eRe11Gte7JH8e7EjR787RMHA': 657,\n",
       " '11JG8jJ7RtHoeoAeRAFAtHH78VJREeMj': 658,\n",
       " '11JGAVMAtHt7GFo1GFFeje1JRVjARMVG': 659,\n",
       " '11JGEF87M7AVAREJR7oeR7VtjA8AtFot': 660,\n",
       " '11JGFRGFHAeEEH1oeeG77REVVHG8teF7': 661,\n",
       " '11JGFjEF171H1HeGR8toE7et1AMoGAtA': 662,\n",
       " '11JGR7GoEJ1GjMFRRjjRV7AjFeFGRt1E': 663,\n",
       " '11JHAGejMoR7FFJHFeVtG7J1E8e7eGFV': 664,\n",
       " '11JHAtJ8F7Ft81F181JEoMJ1e8RooFRo': 665,\n",
       " '11JJ7GF1JE7FHEH7GAFH7AE8HMRGe7AH': 666,\n",
       " '11JJEFJ7et1VHt8V71JE8MAotJFHRtH8': 667,\n",
       " '11JJFAejRG8AtGEF7VEtG777R8tMVoje': 668,\n",
       " '11JJJ8eM1EA1JGoAtERtAtAFGt7HHjo1': 669,\n",
       " '11JJtGG77t8FR8tJHAH7eHoJRjetVHjE': 670,\n",
       " '11JJtVeRj1GFoAH1eGHAGFeA7eV8FGJe': 671,\n",
       " '11JM1RMHJ71MJ7eAAHJFE1FGHR1MA8Ge': 672,\n",
       " '11JMAMJ7EREFFMGHHEAe8JME8FE8oM7R': 673,\n",
       " '11JMFFR7oE1VEG1oREoAF8je8oGeJ1RA': 674,\n",
       " '11JMG7AEAAEHJMFVRVGJoV7GotEGGFRA': 675,\n",
       " '11JMGH8R7V1etRe81ERGjtR78VR7RJ7J': 676,\n",
       " '11JMVHHJ1tME8J8VEMjeMJMJF88E1HRJ': 677,\n",
       " '11JMe8R18EjM1G7HjVRE8GjeJeA1FeeV': 678,\n",
       " '11JRH8j1VMeGVFHMFo7Vj8HjttGHJJjR': 679,\n",
       " '11JReF1VMJAHRR8oeeH7VAR88AoVReE1': 680,\n",
       " '11JV7F1tHJ78tRoM77eGoG1VFj71FE11': 681,\n",
       " '11JVHAHH71H1RGe7EeJtEFVHtMMR7oj8': 682,\n",
       " '11JVM1HHotRejEARoHFF71oGREHGRR1F': 683,\n",
       " '11JVV7M1o1MoHJEFteHFeHVe8Hj7877F': 684,\n",
       " '11JVVEFARR1GteHeEJHJFJFGj7MEMFRj': 685,\n",
       " '11JVtFttGjFRjeHM1tjMG7jGF8eFGoHF': 686,\n",
       " '11JVtHFAGV81tjVV7HjF1eGAjteEH1J7': 687,\n",
       " '11Je7EttJ8VEoFHHjE7GEMVR8E17MGRH': 688,\n",
       " '11JeEjotJ1ttMMJtjH8e1VJjGVJMAVRR': 689,\n",
       " '11JeEoeFeMjoo87toM8818VHFR8JVF8E': 690,\n",
       " '11JeJHVJMFEoGGeVeJ7jJ71MjARAj8M7': 691,\n",
       " '11JeRVo1REoFVHRMHtF1t7t7GRRAe7MF': 692,\n",
       " '11JeeEMeGJE7oE7Ve77HRjHeJ1JJG17M': 693,\n",
       " '11JeeMF8ojEeMVjE8ejV8GjV1tHMAoHE': 694,\n",
       " '11JjGR1M7jA1MFeRtVVRjFRJJEjj8811': 695,\n",
       " '11JjHEM8HA7E18VVoVtjtoJJHoJe1o8H': 696,\n",
       " '11JjMHHHj1eGJ7toMtHt17MGVJjEGeMV': 697,\n",
       " '11JjRe8FAGJJ7jVtH1FjVjHAA7e7VAJG': 698,\n",
       " '11Jjj1FEFGoVMJAG8VjGEAEEjtJR18JM': 699,\n",
       " '11Jo78A11HV8AVAFH1oAAAEojjHo8JJA': 700,\n",
       " '11Jo7Ve17HJAJFjjEj81EooeoVVeJ8Re': 701,\n",
       " '11Jo8eHtH7HeMAGR7jGJJ1jtJJMeMVEj': 702,\n",
       " '11JoAeeGAFeH88eoMEFJeRGRHH8o8j1o': 703,\n",
       " '11JoFMRVHJFEt8M81MMA1JtGoVEoRAFM': 704,\n",
       " '11JoFjeEtoMA117E7REoe8jRHeJtoJ8H': 705,\n",
       " '11JoeAHHV7FE8FJR1VeR8VMVjFeM77EJ': 706,\n",
       " '11JojREG81V1Jt7JGRjM7eG7eE8eR7H7': 707,\n",
       " '11Jt1RAEAJoEAJFE1tG87R17o8oR7tjJ': 708,\n",
       " '11Jt7J8EtRVVtGR78jHVeMVJJAGje7G7': 709,\n",
       " '11Jt8eoeRVFAR7F8MJtJjAoRF1EHJAMF': 710,\n",
       " '11JtF8HFjHGE888VEAJHGFRA8RtHMVVV': 711,\n",
       " '11Jtt1j8FM78RoH8RFJJJG7ejEMjEoEt': 712,\n",
       " '11M1878MoAMVMH8ejjEt11tG7jHHR7F1': 713,\n",
       " '11M1A7GG718VAJ1MVMoHoVAEMtEHtVJe': 714,\n",
       " '11M1AHFtVR11MVMV77RAjH7EHoHHJFHM': 715,\n",
       " '11M1E7A8RH77M1HHFHAAj8Jj11tEFFEF': 716,\n",
       " '11M1GjMjE7EG1H81JAFFJGEEtFt7MVRM': 717,\n",
       " '11M1HRMHV11MJVjJEVH7tojHAMVA1RoV': 718,\n",
       " '11M1oJMjRA8oM1oRMA7E8V1E7j8A1tEj': 719,\n",
       " '11M71jtHJAotEoEMV1V1oVHFto7MJJEA': 720,\n",
       " '11M7AoEFtE7R8MjF1jV1GRet11AeeJ8R': 721,\n",
       " '11M7ERH8GFR11VeAGoG8E78JJR8eHF8o': 722,\n",
       " '11M7jFAEoVtjtMjMHojjM8eFVtMJ7VoG': 723,\n",
       " '11M7jjJGVEEJjH7jHeE8jMe7eoeJMRoE': 724,\n",
       " '11M7oJAtHoG1V7MGoGVRAJ7J11o18FRJ': 725,\n",
       " '11M8Aej1MFMttRFG1oMoAtARtEFe88FF': 726,\n",
       " '11M8FMVMHAJ7tAjGM7AEeHFEFttAMojE': 727,\n",
       " '11M8ejEeRtAVFEV787VFH7EVJV7oHGeM': 728,\n",
       " '11M8ettRFJEte7871EFRM1JJFHJERMtt': 729,\n",
       " '11M8o8GMeF1AGAGRejj8V7jA8VA1JEHR': 730,\n",
       " '11M8t1j7oR1V8FVGVA1GooH7t7VAoGoG': 731,\n",
       " '11MA8JRMJEEJetjtFVG7Ho1tj7FojFEG': 732,\n",
       " '11MAEMJG1JEeVJVHVJRVjHFVAFAR11FM': 733,\n",
       " '11MARGRA1E1tAGj8VREeEVJEMo1HoH8R': 734,\n",
       " '11ME17871RGjRtGEteAEHGoRtetEVV7E': 735,\n",
       " '11MEA1G1HAVGJH787oAERJ1MV77AMFjt': 736,\n",
       " '11MEHj7GeE8EFejA88o77ojAHEjVVoj1': 737,\n",
       " '11MERJVJVGJoEHRtGVFJ7tJjGG88eJH1': 738,\n",
       " '11MEjMj18M8eoFjEje788MjGJFetAjEE': 739,\n",
       " '11MEt8o81H88RFRoA8GoGRtFtR8VEoMG': 740,\n",
       " '11MF1V8GoFH1tFJ7AER1VMA8RAMGFjHo': 741,\n",
       " '11MF7jMVtV7J8MGJjVVJj17RRt1E81tV': 742,\n",
       " '11MFA1MJRMFJRRAJt8eHE7G7M7H7JVtj': 743,\n",
       " '11MFAJVGeFRRH1F1HGet171MMF8GEeJJ': 744,\n",
       " '11MFHHtHVoM1771R7oVRtAeFM77oJ8JA': 745,\n",
       " '11MGERHMtjRFEAJM8eoA1eMFMoeeVVeH': 746,\n",
       " '11MGJFJ77HGFVA1ReR7AHFMVR1tFHGFo': 747,\n",
       " '11MGt7GtMHA7JjRMA1RMRooA8JGJV8VR': 748,\n",
       " '11MH7GAA7j8VMV8jVHREGEFFMVFAtR7j': 749,\n",
       " '11MHAE17MHoEAEHFHeMVHFRR1H88eGER': 750,\n",
       " '11MHGoot11GeJFJAGHH7JjAAJt1FFjFR': 751,\n",
       " '11MHJoMHe8FG1MGeHVMHEFMAAjJeeoHJ': 752,\n",
       " '11MJG7MJj7M111MHtRJjjFMVVGoMVJte': 753,\n",
       " '11MJV7ejVttoFFFFJReHAFj81J1eGo88': 754,\n",
       " '11MMMFAAtRHMRMJAG77JVjEVVejRMej8': 755,\n",
       " '11MMMjoFVFJHJH8jjo7JVGAVFAMFAJeJ': 756,\n",
       " '11MR7EojJoJooGFteR8RtjtFVJ8eRMMR': 757,\n",
       " '11MRe81HHAM17HMFoJo1oeeF11EoARtF': 758,\n",
       " '11MRtVG1GFRoVAGee7o8JtMJJRMRoR1j': 759,\n",
       " '11MRtoMJG1R7joVHJoGEoeGHAVeEFJ1H': 760,\n",
       " '11MV1FJ11A7R87E8RVtoJjAEoEeeJjA7': 761,\n",
       " '11MVMjGVVJVRoj1EEF71AHFHEG8MEoEA': 762,\n",
       " '11MVoA7FH8ooJGEHeoAeFVoAVEtJ8FtG': 763,\n",
       " '11MeGVGJReJM1eeAHREjJH7FVJoEto78': 764,\n",
       " '11MeeFRMtJVRV7V87HAEooo1H7tMHH11': 765,\n",
       " '11MejJHejMVAeetoJVoF7GAt1eMjMJEV': 766,\n",
       " '11MetHMH11eRoVtjAt8t88RtoFteMAR7': 767,\n",
       " '11Mj1V7jHM1EGMHRH8FJFt1GFt1AjHHE': 768,\n",
       " '11MjGoRVGGEeeHj87eMJeAjM788JoHJj': 769,\n",
       " '11MjMeGHVVFFVtAV1GejJoRVFFHH8HH8': 770,\n",
       " '11MjMo7JVFo87eHjMGJooFEMJ7Mo1A8t': 771,\n",
       " '11MjMtGRAtRR7E1MAeHjFoEeVAJtRtVM': 772,\n",
       " '11MjRej1Aj7VAFRAM1FoMVjV8JMeMJjV': 773,\n",
       " '11MjeGJE8M7G1M7FVJj7EAoJFV78GtGF': 774,\n",
       " '11MjjF1EG1AVJ8HEeMFMHtEAGeFj8tRF': 775,\n",
       " '11MjoVMGRRVVFoFG8EtFeJJJjjRRRMEe': 776,\n",
       " '11Mjt7818tjHVoGt1JjV1oeeHMe8FVAt': 777,\n",
       " '11Mo87jeotF7FAMAMHGttjj7EAoMVRtj': 778,\n",
       " '11MoHtMEAtEAMAAGE7HJ8AjEtRAjVRHt': 779,\n",
       " '11MoJ78FRMHJGjJFA7GGVRoGGj7JMj8e': 780,\n",
       " '11MoJeGG8RGtRjEMA88tFFFeeHFG1HJt': 781,\n",
       " '11MoRFHjetFFJ77AJJR88ettGV8JA71R': 782,\n",
       " '11MoVtGtJHoj8RHVJ8HEHjeFttEH1VEM': 783,\n",
       " '11MtH8JFRVARoMtGFRttAHEo1Ft1jEHt': 784,\n",
       " '11MtRot7JJteHHRH7e8E71e17VRER8oH': 785,\n",
       " '11MtVMHMt7A8A771EVGjAEVGM1V7JRAV': 786,\n",
       " '11MtVV7REH78tR7EJRAooEEjA7E1t18H': 787,\n",
       " '11R1HMjMM1MMM1FHAJjj1EHVG18eGRFR': 788,\n",
       " '11R1oFeoF1FAVEEGeM1R1JH117GMoHj7': 789,\n",
       " '11R7EGF1REFj77Aj8GH8MR7tEEAJ78Ej': 790,\n",
       " '11R7EM1FeF7JAtVFetEtV1Roee7VJGJM': 791,\n",
       " '11R7JHj8jjjGRAFojRHtVAG7V7MFGoVF': 792,\n",
       " '11R7MM1GGeRGjVeEEMtHGHGJJGF88RHF': 793,\n",
       " '11R7oE1HH1JjjFe7HoVJVGFHEJjtEtjA': 794,\n",
       " '11R7oGteVJMjt1J7oMVeGoA8jMA87AjG': 795,\n",
       " '11R8HFjE1HAVjRFjjtEVjeeJVVVMREe8': 796,\n",
       " '11R8RAjttFeoEeGF17R8tAVojHjF7eFG': 797,\n",
       " '11R8REottREMHeJG8joM8jeetJtFRRRF': 798,\n",
       " '11R8jo7AGtFG781eoFtjEooJEF7GEjtV': 799,\n",
       " '11R8tjoVeGEoFMeEJjtAj1HM1t88jtMo': 800,\n",
       " '11RAEJeAjeVVeoEJ7oj1V1HoJ1JF8t1R': 801,\n",
       " '11RARjeRFV11t7MG8jotA1eo8VAMH8R7': 802,\n",
       " '11RAVt1GRH7EHVjHFRVoMot8j8tG7jRM': 803,\n",
       " '11RAeGVeGMejtoHte1GFH7o1tRt1oe7j': 804,\n",
       " '11RAteJE1AJFJMMHJRJoGHJeeHAM7eMt': 805,\n",
       " '11REHeRVFooooA7R11FjVGojH178oMHH': 806,\n",
       " '11REeAeMEEGGERteVe18JeMVte88teH7': 807,\n",
       " '11RF7jG1jFJ7jetG7EVttMAe78M7V7e7': 808,\n",
       " '11RFF8EFEE7oEH8FjA78jtJjRjAJAR8H': 809,\n",
       " '11RFHFooHRMVoAEtjoA7tVoFEAVHAF7G': 810,\n",
       " '11RFJMF7V8A8oMeH787Rt7GGMJVFjoJ8': 811,\n",
       " '11RFt8EJeoGEAGeGJJoJGJtGMHAAeGHH': 812,\n",
       " '11RG7JVjReFG7Gjo1J1EMGM7AJJ7GjMF': 813,\n",
       " '11RGjeFJejFj1EJFJtF87eteFeoMj7Gj': 814,\n",
       " '11RH1jJJJEtE1FMGREV8VtG8VGAeEGee': 815,\n",
       " '11RHEAJ1H8R11tGteeVH7tA7jARRe718': 816,\n",
       " '11RHRFeH8R1VGJJ8HoeH1JRRAjoJRJeE': 817,\n",
       " '11RHjREJ8HHAtE1MVHHMMAEV71G7HHoo': 818,\n",
       " '11RJHHeA1j7A1MEHJAReMjJ1AoHGH1Rj': 819,\n",
       " '11RJJj8JF7eMtMG7oGFEAE1HeJEMVEtR': 820,\n",
       " '11RJMVjHVE7EJJoJottJAGtVAHtoAjJ7': 821,\n",
       " '11RJRJGVHM18eEoFeMA17e8AotMRR8JJ': 822,\n",
       " '11RJVGRjHH8GMFGJttFGEAoHMJMGtJAF': 823,\n",
       " '11RJeAeMF8oEee1t8MV81R8FHjMFVeH7': 824,\n",
       " '11RJjoHHeAFtjM71GVHMEAJFtFFMVj8M': 825,\n",
       " '11RJtA1ee7oEAjVE7oF7e1otAHEt7oAR': 826,\n",
       " '11RJtjjFFV1MHEEJ8GVGEMtt7t7EHtH7': 827,\n",
       " '11RM1FRe7RJJoHEt1M1FAjHE1AA81HJR': 828,\n",
       " '11RMFoJF8JjRtMV11R7tE8GEE8FjjHoV': 829,\n",
       " '11RMJM8eAtMFJejVVE8oE17jJHA1e7FM': 830,\n",
       " '11RMMVR1MVt1jtR7A7oVG7o7JMVERRAo': 831,\n",
       " '11RMVGFGG7FoM7EVG7EReVVMtEVe1o1J': 832,\n",
       " '11RRHEHR1GJR78RRAHEG18eeGee8A1Re': 833,\n",
       " '11RRHGHEtVjj7eH1eGREMEVRj8EjAFVM': 834,\n",
       " '11RV78oR8tVMjJHo8oM1F77AGAHeA81o': 835,\n",
       " '11RVHAJF81o8GF8FoJetEAAJ7otGe87M': 836,\n",
       " '11RVoGFeAAJoee1Ro88RFA8oRVMotFFV': 837,\n",
       " '11ReAttJtReRMGJVeGMtVJoejJ7jME17': 838,\n",
       " '11RejAMHGVAeFMVeHtJtt1eG8ERo8eMV': 839,\n",
       " '11Ret1jJRMF1VRGRMtRtJ8G7EHMVoFFJ': 840,\n",
       " '11Rj8EVF7t78oFV1A1ReHEVGRJMGo1AE': 841,\n",
       " '11RjAEVJH7FEE78FFG1tJo8jF8HFVVtR': 842,\n",
       " '11RjAooA8jVHeJGjjFoHt8eVAoAFtMH1': 843,\n",
       " '11RjGoH1ooGFA117M8F1FA1MRRMG18jM': 844,\n",
       " '11RjJo7A1GjREFJ1oteGo7FH8FJH1FJE': 845,\n",
       " '11RjoAeHHHtGjG78JVeAH78EG7eE7j78': 846,\n",
       " '11RoFVj17HJRJEj7j7EMFAEHVEjREVA8': 847,\n",
       " '11RoJ1EAEFeH1811GG8FAoEtjo7t1718': 848,\n",
       " '11Rt1ttjoGjJ18jR11MRtH8MAReEM8Ao': 849,\n",
       " '11Rt77tMVAAtVRAVeRERG7oo7Aj88RVe': 850,\n",
       " '11Rt8RHj717MRMMHJjAJFt1HAVoRGJAJ': 851,\n",
       " '11RtAoReHHoHteEtJEoJ18F1FARJ8Eot': 852,\n",
       " '11RtR7GteAAEj1JeJH1A8G7AFFeJEtV1': 853,\n",
       " '11RtjE7RFRR71FAo71HoA81ejJJJjj7G': 854,\n",
       " '11V11AFtVAGeEjA8GVjReoHjVRAGAJ8E': 855,\n",
       " '11V17RHtRRJJo7HHoJoGA8FHHF7JootF': 856,\n",
       " '11V1RjJHtFoj81joj71VGFeR8JJG7V1J': 857,\n",
       " '11V1Ve7FJAMFG7F1GAF77AjteeH1EJRA': 858,\n",
       " '11V1oGEJAt7JRAtjEARoooJAR8RoeA7E': 859,\n",
       " '11V7EMEEj8MJ1MoF1jo1eF7FG1ttJ8oA': 860,\n",
       " '11V7FHAoJVA1Ge7E11o7MJAeRAGo7GEj': 861,\n",
       " '11V7FjF7jMjtFtFM1EjEoMeMM8HFVJRR': 862,\n",
       " '11V7MAA81GHV1J18eAE8Ro8HVAjHAteE': 863,\n",
       " '11V7eHtVMJGG1GEtEoER8eAHJE8e7eRH': 864,\n",
       " '11V8Ee7HEoeRoRRojMo7FVtJ1VtVoG18': 865,\n",
       " '11V8Mj7GG8F7HA7eAt1AeG7ARJF8Mt8F': 866,\n",
       " '11V8RRjj7888tVj1FFR7HRAMReJeHoRA': 867,\n",
       " '11VAHMMHeJe87AJEt1tGeMFote1oRE8E': 868,\n",
       " '11VAHooRGtVeHMjAHR7JGAj1eEEFAHM1': 869,\n",
       " '11VAJ77AoFMoMoJ8EVHFJetG8o881HHF': 870,\n",
       " '11VAeVjMeAe7eHJeVEEVJjJGFMoeGVJV': 871,\n",
       " '11VAtJt1F8HMJ1eEjVVGRRRE7E7e8Aee': 872,\n",
       " '11VAttVFeeGH8At7GjR8VG8JMjFtJVj7': 873,\n",
       " '11VE7GMMtEFHGjF7E7j7FAHHJjoR8FF7': 874,\n",
       " '11VEEG1Fo7EMRFV771FH8AJHeAHHJeR7': 875,\n",
       " '11VEERoJejRoVGeHGGe1F7JEFtG8RHeR': 876,\n",
       " '11VERGeM7Goe1A7E11GMRR11F7AMAVFF': 877,\n",
       " '11VEVG878EoFAjeFGHJt1tJAE7jeG8jF': 878,\n",
       " '11VEeMFA17AE8RE1RHJ17EFeGE1REV1R': 879,\n",
       " '11VEoGj8FeotM11M7E8etEJ7HEjRot1e': 880,\n",
       " '11VF7Ho8JeAF8HRoeReJEGHoRoEVMMR1': 881,\n",
       " '11VF81FjFJA1tEEMGMoF8H7MREJGRV8t': 882,\n",
       " '11VFGEH7tt18AAoJj7E7Ge1EMF1H8jHo': 883,\n",
       " '11VFoG7AtV7EMFVHeRRMF8J78171jHRM': 884,\n",
       " '11VFtjMtHF8JEJVF8AteVMFEME7JJtH8': 885,\n",
       " '11VG81Gt18RRMet1HAG1HJ88eHGHAFj7': 886,\n",
       " '11VGREjeH7eRtFE17VjtjetJE1MFeoot': 887,\n",
       " '11VGjjFReAAoEVJAEEtRjAjEtEV8eJ1e': 888,\n",
       " '11VGo7F7RJJAEMVtAVj1tooARRjVMjRo': 889,\n",
       " '11VH8FVFR8H877R8jFtj87RFEE1He7H8': 890,\n",
       " '11VH8e1FJVVM7ejGGH7AAejFEFH8MAjR': 891,\n",
       " '11VHARGH717HoFAM7F1EHEoRMH81t8JF': 892,\n",
       " '11VHEGJFojeJ7Me8MJ7JHM8MEJoooeJJ': 893,\n",
       " '11VHJA11JoGFF1HeAHt8E8JRejoH78tF': 894,\n",
       " '11VHJA8HeRe77ottoEHHoF7eGMjjJoFj': 895,\n",
       " '11VHJe1RRRJ78eeFJtA18FVJHRoeE7E1': 896,\n",
       " '11VHJoRjjMjoJoo7HEMMj7oJEetFMt1e': 897,\n",
       " '11VHMHEj88VHtJMEoFMtEMGJVttF81GA': 898,\n",
       " '11VHteeAjJRJVGt77jjetMAjGAVMJH7M': 899,\n",
       " '11VJERAMEtEFAtRAJMeAtJMoJ8oJR7V7': 900,\n",
       " '11VJGttEMEJ1RjVjAR8oAjoVJHHRGFe1': 901,\n",
       " '11VMAVM1R7GeMJJ7tFMjA8G1otjR1eH8': 902,\n",
       " '11VMEoVHRoM1EEJF1HoG1EGGt7HVE8jt': 903,\n",
       " '11VMHEHGtRFVEVAo8VH111HF1VHotjMA': 904,\n",
       " '11VMejVF7EVFe817JEHGo1oR1tjo7E8H': 905,\n",
       " '11VMjV1H78GAVGFM7FFJjetR8G777JoM': 906,\n",
       " '11VMoJjeEMJAMRVeJEJV1GGH8FEHtFo7': 907,\n",
       " '11VR1VAAAHFRteoRGtMFoAeMtMVtHAFo': 908,\n",
       " '11VR7RGM7tREeGjFoRtJMMVJjRV1EAtF': 909,\n",
       " '11VRE8MjAoRt81tVJFGJoeGEetHEtGJR': 910,\n",
       " '11VRJH8EoeJHAo1HeVR8oVFHMtEMtjeV': 911,\n",
       " '11VRJMeotVHM7HFtt7jjM1AMeMoV8HVj': 912,\n",
       " '11VRoAtJjoVooeMFH8HVeE8F7eeAF7V8': 913,\n",
       " '11VRoo8JARG87FMoVAAoMHAoH7VVMoMA': 914,\n",
       " '11VV1oM7JeGVoj7oMJFMJFV1JtEM8GEE': 915,\n",
       " '11VVAE7R8tA18EoF1ttto7e1AHtHAMEj': 916,\n",
       " '11VVH8AAHtotM11J8Rj1oARA187Fotee': 917,\n",
       " '11VVJ7Ho7FjJMHMeMMHEHJH8EHAAjHGE': 918,\n",
       " '11VVeM7HAj8e8t811oAoGtA7o1tFGMjt': 919,\n",
       " '11VeEEjR71AMooeMtREJJEoHGtJ77oAG': 920,\n",
       " '11VeF78RGojARoGMFEe8eG8tJtGtHMMA': 921,\n",
       " '11VeG81GjoFE71VVFtMVtoR8E11RMJJJ': 922,\n",
       " '11VeHFjJo8eHJ7R1e7RA1RVje7oEFo7G': 923,\n",
       " '11Veee7EFVV8joGRAjjRJ7EGR7M7FVjJ': 924,\n",
       " '11Veo8VMMoGRR87MMGEVEGHeAAMtHVGV': 925,\n",
       " '11Vj1jJ1RF88FEEjRHttR1eRo8H888MH': 926,\n",
       " '11Vj1jMFjeetjV8EAoVH8Aj7HJoF1FeG': 927,\n",
       " '11VjHtMJ1RoeojGF77HVVFJF1RGJ7GGA': 928,\n",
       " '11VjJGjE8Jtt8AoeH8Re1JeHJetRM8MJ': 929,\n",
       " '11VjMR7ooFGVAeVtGVJJAMFoH1MFGtVJ': 930,\n",
       " '11VjeeeoteE1AMEJ781eVHRGVEEt7VGG': 931,\n",
       " '11VjteJRj7j1MRVFF7MH8HoAVHA1EG1E': 932,\n",
       " '11Vo1M817GtoRt7HeRH87tHHFGEtjEjM': 933,\n",
       " '11Vo7ejHtAetGAH8AG78AMV8FREFHjt8': 934,\n",
       " '11VoAEte1GHJEjEeEH1EtRFHE18jG1AF': 935,\n",
       " '11VtAHt8GHGJ8tE1VJ8j8A8RFHFHRtFE': 936,\n",
       " '11VtE8joF7t7J8AGj7HtRe81tAjF8M7A': 937,\n",
       " '11VtEAGJ771AVJA181e88jMAoVjRoJHG': 938,\n",
       " '11VtEGEe8JAJVEeRFjFGMRejRMtJo178': 939,\n",
       " '11VtF8oE77R7F11He8Joo78FeE1HoM1A': 940,\n",
       " '11VtM1MMMttV1GoGeHoAtj7HHjjoAoEV': 941,\n",
       " '11VtjG1eM7oHG7EVHj1Jj88oAHVtHA17': 942,\n",
       " '11VtjGAVJ81RVJGJRMetHJMG1AA8HReJ': 943,\n",
       " '11VtoE7M1M1eMRMEGoFjo8V8GttGH7oR': 944,\n",
       " '11VtoeAeFjj8HEH88HetVGFRHFeVMRoV': 945,\n",
       " '11e1ERAM7GMER1oJJJojoHe8EE7te7MV': 946,\n",
       " '11e1HRGjAAJGtHHHtA8eJ8GjHoVeJEoj': 947,\n",
       " '11e7AG8E8VMjMtHejFJGHJEFGMV7VE7e': 948,\n",
       " '11e7E7MMVjtVJAooeoFoJ8tGG7AooJRH': 949,\n",
       " '11e7FVAAttA7FMeeFE78EER1E1jH7JeE': 950,\n",
       " '11e7RRREJMVtVJGMAE7MtREteRjHH7VH': 951,\n",
       " '11e7V1GHA18j1MAMVFAFeFREJ1H7MV1A': 952,\n",
       " '11e7t18EMoE7RHJHR17E8RGoj7V1A7Mt': 953,\n",
       " '11e7t7VjV7FMJe7FVERMoHAHAoVG1tJe': 954,\n",
       " '11e87GttJttjoo17JoJ8HF8E8ojFRVVt': 955,\n",
       " '11e88jE1A8GFt71o1EtG8jA8oEAoH7Fj': 956,\n",
       " '11e8E8Mj8He871FGFHto11JRMMV18H1R': 957,\n",
       " '11e8EHEVEo8teoJV8oG1VRVHJ8AVjHJE': 958,\n",
       " '11e8JRoE1ojoeEeeeVFoJHMF7j18GeAA': 959,\n",
       " '11e8RoFAF8EVFt8AVGtjV8JAoHVjFVeG': 960,\n",
       " '11e8eGFA8FoVt78tRHoHGj1GjHoEMeet': 961,\n",
       " '11eA8HR8eGVVe7MReH1EAGAVAFAjFA1E': 962,\n",
       " '11eAGteAtEVHJGG1VeA8AVtoJVE8JtJe': 963,\n",
       " '11eAMF77MHAHt1FR18E1FEJeReA8oJVJ': 964,\n",
       " '11eAVFEotJFA7jE1VAGJHoJJ8MRA7Jjj': 965,\n",
       " '11eAeeAAttjRVV8H7MV78oAFH7tjj1V7': 966,\n",
       " '11eAjEe17177M11J8eFGotEVt8VHFAtF': 967,\n",
       " '11eAte18jeGFVVA8FMVeG11oReJHeVj7': 968,\n",
       " '11eE11eH1JAeotMF1oJ8HjJ1te7oHMFR': 969,\n",
       " '11eE8GF8F7oH7VVVj7tRMFeH1RJFG8o7': 970,\n",
       " '11eEAt8eJtjtRHJMeo8eJHFJMoo8FG8R': 971,\n",
       " '11eEJJtJ7EV1HeVAJEH7jVjeJRt1eejE': 972,\n",
       " '11eEM7GMEEF8tHFt7tMFGejFjGJ77eoj': 973,\n",
       " '11eERjojoVVEFRGe7eR8Ve8A1o78RtAF': 974,\n",
       " '11eEVMtoH8tj1H1EAje8EeHH1VVMGe8t': 975,\n",
       " '11eEjAFAtGHHJ7EHJAG7tFJFojFRe1G8': 976,\n",
       " '11eEooEJVMoGHj1o1oMJoAHFMVGRAJRo': 977,\n",
       " '11eEtF1Ree1JG1A88HRtFR11Ve1VGje8': 978,\n",
       " '11eFj1VH88FJV7F1JMVVARj8AVFJoGtR': 979,\n",
       " '11eFoGGJJotMFAGjVGAoReVHeoRetG81': 980,\n",
       " '11eFtGteRHJoeMo7FGJoAMMjAHEetEVJ': 981,\n",
       " '11eG1AFoF7M7RVtHtGjjtMjAAeE778MJ': 982,\n",
       " '11eGAeRFRH8Fjj1R7Ho1GGJ1RFR7MGFV': 983,\n",
       " '11eGEJReGJ8M7GtjVF1JRooJjJotGGj7': 984,\n",
       " '11eGFJGtoFj7MEJRFjeMjAeRjEEAtFRJ': 985,\n",
       " '11eGG7HeAMFGooooj7Vj1e111jt1o1MG': 986,\n",
       " '11eGGGjVRjJMjt8AeM7GtHJVjAjMReJ1': 987,\n",
       " '11eGJRJGR7ARMAHotMe1AM1eo7RRMR7V': 988,\n",
       " '11eGoojRMGG71Jtt8oVAFoJto88t8Aoe': 989,\n",
       " '11eHAV8F1GR71FAHjR7REVE1JeH7eHF1': 990,\n",
       " '11eHMEAoRj7eHeAjoAtMJooHM8MMoRAt': 991,\n",
       " '11eHVV71AoeV8ejAJ1GjeVRt118EAMeo': 992,\n",
       " '11eHjHR8J188A1MJAoVjHMAV78oMGo1G': 993,\n",
       " '11eHtRRJJ8VtEV1EGJJFVeF7VtAoEJG8': 994,\n",
       " '11eJ8AGA88RVMRGRGRRJJoFoERt87AEF': 995,\n",
       " '11eJEGF7FAeE7eetHEtVeFVHtVJJj7t7': 996,\n",
       " '11eJeVGE1RE7jMRG7MoEVJEVHG1VMo7A': 997,\n",
       " '11eJt7j8RtF7JteE8FGHjJtH7jEt818j': 998,\n",
       " '11eMA1EFHAHtAtoFjGteoJJA8HJtVAMH': 999,\n",
       " ...}"
      ]
     },
     "execution_count": 14,
     "metadata": {},
     "output_type": "execute_result"
    }
   ],
   "source": [
    "# Create a mapping from CustID to a unique integer (converted data to integer)\n",
    "custid_mapping = {custid: idx for idx, custid in enumerate(df['CustID'].unique())}\n",
    "custid_mapping"
   ]
  },
  {
   "cell_type": "code",
   "execution_count": 15,
   "id": "f105dccc-1558-4158-b0c7-c1f533cdd63b",
   "metadata": {},
   "outputs": [
    {
     "data": {
      "text/plain": [
       "0                0\n",
       "1                0\n",
       "2                0\n",
       "3                0\n",
       "4                0\n",
       "             ...  \n",
       "10912587    371215\n",
       "10912588    371215\n",
       "10912589    371215\n",
       "10912590    371215\n",
       "10912591    371215\n",
       "Name: CustID, Length: 10912592, dtype: int64"
      ]
     },
     "execution_count": 15,
     "metadata": {},
     "output_type": "execute_result"
    }
   ],
   "source": [
    "# Map CustID to integers (uses the mapping to replace each CustID with its corresponding integer.)\n",
    "df['CustID'] = df['CustID'].map(custid_mapping)\n",
    "df['CustID']"
   ]
  },
  {
   "cell_type": "code",
   "execution_count": 16,
   "id": "43d43d52-ec8d-458c-9042-f8c91290cf4b",
   "metadata": {},
   "outputs": [
    {
     "data": {
      "text/html": [
       "<div>\n",
       "<style scoped>\n",
       "    .dataframe tbody tr th:only-of-type {\n",
       "        vertical-align: middle;\n",
       "    }\n",
       "\n",
       "    .dataframe tbody tr th {\n",
       "        vertical-align: top;\n",
       "    }\n",
       "\n",
       "    .dataframe thead th {\n",
       "        text-align: right;\n",
       "    }\n",
       "</style>\n",
       "<table border=\"1\" class=\"dataframe\">\n",
       "  <thead>\n",
       "    <tr style=\"text-align: right;\">\n",
       "      <th></th>\n",
       "      <th>CustID</th>\n",
       "      <th>status</th>\n",
       "      <th>Campaign_Exec_Date</th>\n",
       "      <th>Campaign_Channel</th>\n",
       "    </tr>\n",
       "  </thead>\n",
       "  <tbody>\n",
       "    <tr>\n",
       "      <th>0</th>\n",
       "      <td>0</td>\n",
       "      <td>viewed</td>\n",
       "      <td>2019-05-28</td>\n",
       "      <td>Email</td>\n",
       "    </tr>\n",
       "    <tr>\n",
       "      <th>1</th>\n",
       "      <td>0</td>\n",
       "      <td>delivered</td>\n",
       "      <td>2019-05-29</td>\n",
       "      <td>Email</td>\n",
       "    </tr>\n",
       "    <tr>\n",
       "      <th>2</th>\n",
       "      <td>0</td>\n",
       "      <td>delivered</td>\n",
       "      <td>2019-05-30</td>\n",
       "      <td>Email</td>\n",
       "    </tr>\n",
       "    <tr>\n",
       "      <th>3</th>\n",
       "      <td>0</td>\n",
       "      <td>delivered</td>\n",
       "      <td>2019-06-03</td>\n",
       "      <td>Email</td>\n",
       "    </tr>\n",
       "    <tr>\n",
       "      <th>4</th>\n",
       "      <td>0</td>\n",
       "      <td>delivered</td>\n",
       "      <td>2019-06-04</td>\n",
       "      <td>Email</td>\n",
       "    </tr>\n",
       "  </tbody>\n",
       "</table>\n",
       "</div>"
      ],
      "text/plain": [
       "   CustID     status Campaign_Exec_Date Campaign_Channel\n",
       "0       0     viewed         2019-05-28            Email\n",
       "1       0  delivered         2019-05-29            Email\n",
       "2       0  delivered         2019-05-30            Email\n",
       "3       0  delivered         2019-06-03            Email\n",
       "4       0  delivered         2019-06-04            Email"
      ]
     },
     "execution_count": 16,
     "metadata": {},
     "output_type": "execute_result"
    }
   ],
   "source": [
    "df.head()"
   ]
  },
  {
   "cell_type": "markdown",
   "id": "6f0201a4-526d-479b-b5e2-7fdb2ba33a5b",
   "metadata": {},
   "source": [
    "**Campaign_Exec_Date - convert object datatype to date**"
   ]
  },
  {
   "cell_type": "code",
   "execution_count": 17,
   "id": "7bce7a6e-748d-41fd-98c3-5d642614a241",
   "metadata": {},
   "outputs": [
    {
     "data": {
      "text/plain": [
       "0           2019-05-28\n",
       "1           2019-05-29\n",
       "2           2019-05-30\n",
       "3           2019-06-03\n",
       "4           2019-06-04\n",
       "               ...    \n",
       "10912587    2020-11-24\n",
       "10912588    2020-11-25\n",
       "10912589    2020-11-26\n",
       "10912590    2020-11-27\n",
       "10912591    2020-11-28\n",
       "Name: Campaign_Exec_Date, Length: 10912592, dtype: object"
      ]
     },
     "execution_count": 17,
     "metadata": {},
     "output_type": "execute_result"
    }
   ],
   "source": [
    "df['Campaign_Exec_Date']"
   ]
  },
  {
   "cell_type": "code",
   "execution_count": 18,
   "id": "5a494740-3f7f-4875-bc42-85a724c15443",
   "metadata": {},
   "outputs": [
    {
     "data": {
      "text/plain": [
       "0          2019-05-28\n",
       "1          2019-05-29\n",
       "2          2019-05-30\n",
       "3          2019-06-03\n",
       "4          2019-06-04\n",
       "              ...    \n",
       "10912587   2020-11-24\n",
       "10912588   2020-11-25\n",
       "10912589   2020-11-26\n",
       "10912590   2020-11-27\n",
       "10912591   2020-11-28\n",
       "Name: Campaign_Exec_Date, Length: 10912592, dtype: datetime64[ns]"
      ]
     },
     "execution_count": 18,
     "metadata": {},
     "output_type": "execute_result"
    }
   ],
   "source": [
    "df['Campaign_Exec_Date'] = pd.to_datetime(df['Campaign_Exec_Date'], format='%Y-%m-%d')  # Change the format as needed\n",
    "df['Campaign_Exec_Date']"
   ]
  },
  {
   "cell_type": "code",
   "execution_count": 19,
   "id": "fe5464e5-b75f-4202-8bab-6a727a4cbe91",
   "metadata": {},
   "outputs": [
    {
     "data": {
      "text/plain": [
       "count                         10912592\n",
       "mean     2020-03-05 09:35:02.544583424\n",
       "min                2019-01-01 00:00:00\n",
       "25%                2019-09-11 00:00:00\n",
       "50%                2019-12-29 00:00:00\n",
       "75%                2020-10-20 00:00:00\n",
       "max                2021-02-04 00:00:00\n",
       "Name: Campaign_Exec_Date, dtype: object"
      ]
     },
     "execution_count": 19,
     "metadata": {},
     "output_type": "execute_result"
    }
   ],
   "source": [
    "df['Campaign_Exec_Date'].describe()"
   ]
  },
  {
   "cell_type": "code",
   "execution_count": 20,
   "id": "091963a1-6fc8-40af-ba04-f59e6beb33de",
   "metadata": {},
   "outputs": [
    {
     "data": {
      "text/plain": [
       "array(['Email', 'SMS'], dtype=object)"
      ]
     },
     "execution_count": 20,
     "metadata": {},
     "output_type": "execute_result"
    }
   ],
   "source": [
    "df['Campaign_Channel'].unique()"
   ]
  },
  {
   "cell_type": "code",
   "execution_count": 21,
   "id": "86e67e7b-3e06-4b0c-af79-8baf7a0945a5",
   "metadata": {},
   "outputs": [
    {
     "data": {
      "text/plain": [
       "array(['viewed', 'delivered', 'click', 'clicked'], dtype=object)"
      ]
     },
     "execution_count": 21,
     "metadata": {},
     "output_type": "execute_result"
    }
   ],
   "source": [
    "df['status'].unique()"
   ]
  },
  {
   "cell_type": "markdown",
   "id": "e7618cf4-6156-4542-9459-f104acbe1c76",
   "metadata": {},
   "source": [
    "**Encoding Categorical Variables - Convert Categorical Features to Numerical Values**"
   ]
  },
  {
   "cell_type": "markdown",
   "id": "4025615e-29ba-4629-876c-cc9a2e0cd00e",
   "metadata": {},
   "source": [
    "**Converting all objects values to numeric form**"
   ]
  },
  {
   "cell_type": "code",
   "execution_count": 22,
   "id": "cdb75036-162f-4722-bc79-8da2d654f365",
   "metadata": {},
   "outputs": [],
   "source": [
    "cat_col = df.select_dtypes('object')"
   ]
  },
  {
   "cell_type": "code",
   "execution_count": 23,
   "id": "f258af8e-a58d-492a-a0e2-ffbebf9aa92f",
   "metadata": {},
   "outputs": [
    {
     "data": {
      "text/html": [
       "<div>\n",
       "<style scoped>\n",
       "    .dataframe tbody tr th:only-of-type {\n",
       "        vertical-align: middle;\n",
       "    }\n",
       "\n",
       "    .dataframe tbody tr th {\n",
       "        vertical-align: top;\n",
       "    }\n",
       "\n",
       "    .dataframe thead th {\n",
       "        text-align: right;\n",
       "    }\n",
       "</style>\n",
       "<table border=\"1\" class=\"dataframe\">\n",
       "  <thead>\n",
       "    <tr style=\"text-align: right;\">\n",
       "      <th></th>\n",
       "      <th>status</th>\n",
       "      <th>Campaign_Channel</th>\n",
       "    </tr>\n",
       "  </thead>\n",
       "  <tbody>\n",
       "    <tr>\n",
       "      <th>0</th>\n",
       "      <td>viewed</td>\n",
       "      <td>Email</td>\n",
       "    </tr>\n",
       "    <tr>\n",
       "      <th>1</th>\n",
       "      <td>delivered</td>\n",
       "      <td>Email</td>\n",
       "    </tr>\n",
       "    <tr>\n",
       "      <th>2</th>\n",
       "      <td>delivered</td>\n",
       "      <td>Email</td>\n",
       "    </tr>\n",
       "    <tr>\n",
       "      <th>3</th>\n",
       "      <td>delivered</td>\n",
       "      <td>Email</td>\n",
       "    </tr>\n",
       "    <tr>\n",
       "      <th>4</th>\n",
       "      <td>delivered</td>\n",
       "      <td>Email</td>\n",
       "    </tr>\n",
       "    <tr>\n",
       "      <th>...</th>\n",
       "      <td>...</td>\n",
       "      <td>...</td>\n",
       "    </tr>\n",
       "    <tr>\n",
       "      <th>10912587</th>\n",
       "      <td>viewed</td>\n",
       "      <td>Email</td>\n",
       "    </tr>\n",
       "    <tr>\n",
       "      <th>10912588</th>\n",
       "      <td>viewed</td>\n",
       "      <td>Email</td>\n",
       "    </tr>\n",
       "    <tr>\n",
       "      <th>10912589</th>\n",
       "      <td>viewed</td>\n",
       "      <td>Email</td>\n",
       "    </tr>\n",
       "    <tr>\n",
       "      <th>10912590</th>\n",
       "      <td>delivered</td>\n",
       "      <td>Email</td>\n",
       "    </tr>\n",
       "    <tr>\n",
       "      <th>10912591</th>\n",
       "      <td>delivered</td>\n",
       "      <td>Email</td>\n",
       "    </tr>\n",
       "  </tbody>\n",
       "</table>\n",
       "<p>10912592 rows × 2 columns</p>\n",
       "</div>"
      ],
      "text/plain": [
       "             status Campaign_Channel\n",
       "0            viewed            Email\n",
       "1         delivered            Email\n",
       "2         delivered            Email\n",
       "3         delivered            Email\n",
       "4         delivered            Email\n",
       "...             ...              ...\n",
       "10912587     viewed            Email\n",
       "10912588     viewed            Email\n",
       "10912589     viewed            Email\n",
       "10912590  delivered            Email\n",
       "10912591  delivered            Email\n",
       "\n",
       "[10912592 rows x 2 columns]"
      ]
     },
     "execution_count": 23,
     "metadata": {},
     "output_type": "execute_result"
    }
   ],
   "source": [
    "cat_col"
   ]
  },
  {
   "cell_type": "code",
   "execution_count": 24,
   "id": "d31cb369-7cbe-4d73-a21a-f54ef7b18108",
   "metadata": {},
   "outputs": [],
   "source": [
    "from sklearn.preprocessing import LabelEncoder"
   ]
  },
  {
   "cell_type": "code",
   "execution_count": 25,
   "id": "99a7c39b-038c-4242-8c24-d75442d2b032",
   "metadata": {},
   "outputs": [],
   "source": [
    "lbl = LabelEncoder()"
   ]
  },
  {
   "cell_type": "code",
   "execution_count": 26,
   "id": "1eddc624-2a36-400d-b537-c8954f5819bd",
   "metadata": {},
   "outputs": [
    {
     "data": {
      "text/plain": [
       "array([3, 2, 2, ..., 3, 2, 2])"
      ]
     },
     "execution_count": 26,
     "metadata": {},
     "output_type": "execute_result"
    }
   ],
   "source": [
    "lbl.fit_transform(cat_col['status'])"
   ]
  },
  {
   "cell_type": "code",
   "execution_count": 27,
   "id": "a73d840e-a2f5-4e7f-a02b-b2c4be5e6c28",
   "metadata": {},
   "outputs": [],
   "source": [
    "for i in cat_col:\n",
    "    cat_col[i] = lbl.fit_transform(cat_col[i])"
   ]
  },
  {
   "cell_type": "code",
   "execution_count": 28,
   "id": "3150e4b0-a3df-4f3b-b1f2-17a708d372ee",
   "metadata": {},
   "outputs": [
    {
     "data": {
      "text/html": [
       "<div>\n",
       "<style scoped>\n",
       "    .dataframe tbody tr th:only-of-type {\n",
       "        vertical-align: middle;\n",
       "    }\n",
       "\n",
       "    .dataframe tbody tr th {\n",
       "        vertical-align: top;\n",
       "    }\n",
       "\n",
       "    .dataframe thead th {\n",
       "        text-align: right;\n",
       "    }\n",
       "</style>\n",
       "<table border=\"1\" class=\"dataframe\">\n",
       "  <thead>\n",
       "    <tr style=\"text-align: right;\">\n",
       "      <th></th>\n",
       "      <th>status</th>\n",
       "      <th>Campaign_Channel</th>\n",
       "    </tr>\n",
       "  </thead>\n",
       "  <tbody>\n",
       "    <tr>\n",
       "      <th>0</th>\n",
       "      <td>3</td>\n",
       "      <td>0</td>\n",
       "    </tr>\n",
       "    <tr>\n",
       "      <th>1</th>\n",
       "      <td>2</td>\n",
       "      <td>0</td>\n",
       "    </tr>\n",
       "    <tr>\n",
       "      <th>2</th>\n",
       "      <td>2</td>\n",
       "      <td>0</td>\n",
       "    </tr>\n",
       "    <tr>\n",
       "      <th>3</th>\n",
       "      <td>2</td>\n",
       "      <td>0</td>\n",
       "    </tr>\n",
       "    <tr>\n",
       "      <th>4</th>\n",
       "      <td>2</td>\n",
       "      <td>0</td>\n",
       "    </tr>\n",
       "    <tr>\n",
       "      <th>...</th>\n",
       "      <td>...</td>\n",
       "      <td>...</td>\n",
       "    </tr>\n",
       "    <tr>\n",
       "      <th>10912587</th>\n",
       "      <td>3</td>\n",
       "      <td>0</td>\n",
       "    </tr>\n",
       "    <tr>\n",
       "      <th>10912588</th>\n",
       "      <td>3</td>\n",
       "      <td>0</td>\n",
       "    </tr>\n",
       "    <tr>\n",
       "      <th>10912589</th>\n",
       "      <td>3</td>\n",
       "      <td>0</td>\n",
       "    </tr>\n",
       "    <tr>\n",
       "      <th>10912590</th>\n",
       "      <td>2</td>\n",
       "      <td>0</td>\n",
       "    </tr>\n",
       "    <tr>\n",
       "      <th>10912591</th>\n",
       "      <td>2</td>\n",
       "      <td>0</td>\n",
       "    </tr>\n",
       "  </tbody>\n",
       "</table>\n",
       "<p>10912592 rows × 2 columns</p>\n",
       "</div>"
      ],
      "text/plain": [
       "          status  Campaign_Channel\n",
       "0              3                 0\n",
       "1              2                 0\n",
       "2              2                 0\n",
       "3              2                 0\n",
       "4              2                 0\n",
       "...          ...               ...\n",
       "10912587       3                 0\n",
       "10912588       3                 0\n",
       "10912589       3                 0\n",
       "10912590       2                 0\n",
       "10912591       2                 0\n",
       "\n",
       "[10912592 rows x 2 columns]"
      ]
     },
     "execution_count": 28,
     "metadata": {},
     "output_type": "execute_result"
    }
   ],
   "source": [
    "cat_col"
   ]
  },
  {
   "cell_type": "code",
   "execution_count": 29,
   "id": "74d93886-0079-434d-9670-ecd6a3944373",
   "metadata": {
    "scrolled": true
   },
   "outputs": [
    {
     "data": {
      "text/html": [
       "<div>\n",
       "<style scoped>\n",
       "    .dataframe tbody tr th:only-of-type {\n",
       "        vertical-align: middle;\n",
       "    }\n",
       "\n",
       "    .dataframe tbody tr th {\n",
       "        vertical-align: top;\n",
       "    }\n",
       "\n",
       "    .dataframe thead th {\n",
       "        text-align: right;\n",
       "    }\n",
       "</style>\n",
       "<table border=\"1\" class=\"dataframe\">\n",
       "  <thead>\n",
       "    <tr style=\"text-align: right;\">\n",
       "      <th></th>\n",
       "      <th>CustID</th>\n",
       "      <th>status</th>\n",
       "      <th>Campaign_Exec_Date</th>\n",
       "      <th>Campaign_Channel</th>\n",
       "    </tr>\n",
       "  </thead>\n",
       "  <tbody>\n",
       "    <tr>\n",
       "      <th>0</th>\n",
       "      <td>0</td>\n",
       "      <td>viewed</td>\n",
       "      <td>2019-05-28</td>\n",
       "      <td>Email</td>\n",
       "    </tr>\n",
       "    <tr>\n",
       "      <th>1</th>\n",
       "      <td>0</td>\n",
       "      <td>delivered</td>\n",
       "      <td>2019-05-29</td>\n",
       "      <td>Email</td>\n",
       "    </tr>\n",
       "    <tr>\n",
       "      <th>2</th>\n",
       "      <td>0</td>\n",
       "      <td>delivered</td>\n",
       "      <td>2019-05-30</td>\n",
       "      <td>Email</td>\n",
       "    </tr>\n",
       "    <tr>\n",
       "      <th>3</th>\n",
       "      <td>0</td>\n",
       "      <td>delivered</td>\n",
       "      <td>2019-06-03</td>\n",
       "      <td>Email</td>\n",
       "    </tr>\n",
       "    <tr>\n",
       "      <th>4</th>\n",
       "      <td>0</td>\n",
       "      <td>delivered</td>\n",
       "      <td>2019-06-04</td>\n",
       "      <td>Email</td>\n",
       "    </tr>\n",
       "  </tbody>\n",
       "</table>\n",
       "</div>"
      ],
      "text/plain": [
       "   CustID     status Campaign_Exec_Date Campaign_Channel\n",
       "0       0     viewed         2019-05-28            Email\n",
       "1       0  delivered         2019-05-29            Email\n",
       "2       0  delivered         2019-05-30            Email\n",
       "3       0  delivered         2019-06-03            Email\n",
       "4       0  delivered         2019-06-04            Email"
      ]
     },
     "execution_count": 29,
     "metadata": {},
     "output_type": "execute_result"
    }
   ],
   "source": [
    "df.head()"
   ]
  },
  {
   "cell_type": "code",
   "execution_count": 228,
   "id": "74cd2d0a-c7ca-4720-a346-597a4a1cbfd5",
   "metadata": {},
   "outputs": [],
   "source": [
    "# Save DataFrame to CSV\n",
    "df.to_csv('df.csv', index=False)"
   ]
  },
  {
   "cell_type": "markdown",
   "id": "94e67f7b-6c77-478e-9ab8-194b2142079a",
   "metadata": {},
   "source": [
    "# Customer_Master_Data "
   ]
  },
  {
   "cell_type": "code",
   "execution_count": 30,
   "id": "82dad705-5b11-4983-9f83-3f7949886a2d",
   "metadata": {},
   "outputs": [
    {
     "data": {
      "text/html": [
       "<div>\n",
       "<style scoped>\n",
       "    .dataframe tbody tr th:only-of-type {\n",
       "        vertical-align: middle;\n",
       "    }\n",
       "\n",
       "    .dataframe tbody tr th {\n",
       "        vertical-align: top;\n",
       "    }\n",
       "\n",
       "    .dataframe thead th {\n",
       "        text-align: right;\n",
       "    }\n",
       "</style>\n",
       "<table border=\"1\" class=\"dataframe\">\n",
       "  <thead>\n",
       "    <tr style=\"text-align: right;\">\n",
       "      <th></th>\n",
       "      <th>CustID</th>\n",
       "      <th>Gender</th>\n",
       "      <th>Marital_Status</th>\n",
       "      <th>Pincode</th>\n",
       "      <th>State</th>\n",
       "    </tr>\n",
       "  </thead>\n",
       "  <tbody>\n",
       "    <tr>\n",
       "      <th>0</th>\n",
       "      <td>7teAttAeH</td>\n",
       "      <td>NaN</td>\n",
       "      <td>NaN</td>\n",
       "      <td>678506.0</td>\n",
       "      <td>Keral</td>\n",
       "    </tr>\n",
       "    <tr>\n",
       "      <th>1</th>\n",
       "      <td>7t8tJJHt7</td>\n",
       "      <td>NaN</td>\n",
       "      <td>NaN</td>\n",
       "      <td>770001.0</td>\n",
       "      <td>Odisha</td>\n",
       "    </tr>\n",
       "    <tr>\n",
       "      <th>2</th>\n",
       "      <td>787t17tJt</td>\n",
       "      <td>NaN</td>\n",
       "      <td>NaN</td>\n",
       "      <td>245101.0</td>\n",
       "      <td>Uttar Pradesh</td>\n",
       "    </tr>\n",
       "    <tr>\n",
       "      <th>3</th>\n",
       "      <td>787ttJtHH</td>\n",
       "      <td>NaN</td>\n",
       "      <td>NaN</td>\n",
       "      <td>673008.0</td>\n",
       "      <td>Keral</td>\n",
       "    </tr>\n",
       "    <tr>\n",
       "      <th>4</th>\n",
       "      <td>7878HHoHo</td>\n",
       "      <td>NaN</td>\n",
       "      <td>NaN</td>\n",
       "      <td>501510.0</td>\n",
       "      <td>Telangana</td>\n",
       "    </tr>\n",
       "  </tbody>\n",
       "</table>\n",
       "</div>"
      ],
      "text/plain": [
       "      CustID Gender Marital_Status   Pincode          State\n",
       "0  7teAttAeH    NaN            NaN  678506.0          Keral\n",
       "1  7t8tJJHt7    NaN            NaN  770001.0         Odisha\n",
       "2  787t17tJt    NaN            NaN  245101.0  Uttar Pradesh\n",
       "3  787ttJtHH    NaN            NaN  673008.0          Keral\n",
       "4  7878HHoHo    NaN            NaN  501510.0      Telangana"
      ]
     },
     "execution_count": 30,
     "metadata": {},
     "output_type": "execute_result"
    }
   ],
   "source": [
    "mst_df.head()"
   ]
  },
  {
   "cell_type": "code",
   "execution_count": 31,
   "id": "8af8fdba-55ef-4983-9564-fdc29b586125",
   "metadata": {},
   "outputs": [
    {
     "name": "stdout",
     "output_type": "stream",
     "text": [
      "<class 'pandas.core.frame.DataFrame'>\n",
      "RangeIndex: 502121 entries, 0 to 502120\n",
      "Data columns (total 5 columns):\n",
      " #   Column          Non-Null Count   Dtype \n",
      "---  ------          --------------   ----- \n",
      " 0   CustID          502121 non-null  object\n",
      " 1   Gender          364467 non-null  object\n",
      " 2   Marital_Status  67995 non-null   object\n",
      " 3   Pincode         492249 non-null  object\n",
      " 4   State           492181 non-null  object\n",
      "dtypes: object(5)\n",
      "memory usage: 19.2+ MB\n"
     ]
    }
   ],
   "source": [
    "mst_df.info()"
   ]
  },
  {
   "cell_type": "code",
   "execution_count": 32,
   "id": "2452a835-7ebc-47a9-8a51-5e2cb90f8d3f",
   "metadata": {},
   "outputs": [],
   "source": [
    "# finding null value percentage to further steps"
   ]
  },
  {
   "cell_type": "code",
   "execution_count": 33,
   "id": "5088af69-0b1e-483f-8442-ba9f222a7da4",
   "metadata": {},
   "outputs": [
    {
     "data": {
      "text/plain": [
       "0.7258549234148741"
      ]
     },
     "execution_count": 33,
     "metadata": {},
     "output_type": "execute_result"
    }
   ],
   "source": [
    "364467/502121"
   ]
  },
  {
   "cell_type": "code",
   "execution_count": 34,
   "id": "4b284ec1-96c4-4fa5-a5bd-2353e0a8bf03",
   "metadata": {},
   "outputs": [
    {
     "data": {
      "text/plain": [
       "0.13541556716408992"
      ]
     },
     "execution_count": 34,
     "metadata": {},
     "output_type": "execute_result"
    }
   ],
   "source": [
    "67995/502121"
   ]
  },
  {
   "cell_type": "code",
   "execution_count": 35,
   "id": "01dd6460-790c-45e6-9154-22f70eff7f6c",
   "metadata": {},
   "outputs": [
    {
     "data": {
      "text/plain": [
       "0.9803394002640797"
      ]
     },
     "execution_count": 35,
     "metadata": {},
     "output_type": "execute_result"
    }
   ],
   "source": [
    "492249/502121"
   ]
  },
  {
   "cell_type": "code",
   "execution_count": 36,
   "id": "2adf5449-4218-4be1-955a-4591d3840e41",
   "metadata": {},
   "outputs": [
    {
     "data": {
      "text/plain": [
       "0.9802039747391565"
      ]
     },
     "execution_count": 36,
     "metadata": {},
     "output_type": "execute_result"
    }
   ],
   "source": [
    "492181/502121"
   ]
  },
  {
   "cell_type": "code",
   "execution_count": 37,
   "id": "c5537464-3387-4f3b-baba-209b8963f9a6",
   "metadata": {},
   "outputs": [
    {
     "data": {
      "text/html": [
       "<div>\n",
       "<style scoped>\n",
       "    .dataframe tbody tr th:only-of-type {\n",
       "        vertical-align: middle;\n",
       "    }\n",
       "\n",
       "    .dataframe tbody tr th {\n",
       "        vertical-align: top;\n",
       "    }\n",
       "\n",
       "    .dataframe thead th {\n",
       "        text-align: right;\n",
       "    }\n",
       "</style>\n",
       "<table border=\"1\" class=\"dataframe\">\n",
       "  <thead>\n",
       "    <tr style=\"text-align: right;\">\n",
       "      <th></th>\n",
       "      <th>CustID</th>\n",
       "      <th>Gender</th>\n",
       "      <th>Marital_Status</th>\n",
       "      <th>Pincode</th>\n",
       "      <th>State</th>\n",
       "    </tr>\n",
       "  </thead>\n",
       "  <tbody>\n",
       "    <tr>\n",
       "      <th>count</th>\n",
       "      <td>502121</td>\n",
       "      <td>364467</td>\n",
       "      <td>67995</td>\n",
       "      <td>492249.0</td>\n",
       "      <td>492181</td>\n",
       "    </tr>\n",
       "    <tr>\n",
       "      <th>unique</th>\n",
       "      <td>502121</td>\n",
       "      <td>3</td>\n",
       "      <td>2</td>\n",
       "      <td>17407.0</td>\n",
       "      <td>36</td>\n",
       "    </tr>\n",
       "    <tr>\n",
       "      <th>top</th>\n",
       "      <td>7teAttAeH</td>\n",
       "      <td>Male</td>\n",
       "      <td>Unmarried</td>\n",
       "      <td>122001.0</td>\n",
       "      <td>Maharashtra</td>\n",
       "    </tr>\n",
       "    <tr>\n",
       "      <th>freq</th>\n",
       "      <td>1</td>\n",
       "      <td>292764</td>\n",
       "      <td>45242</td>\n",
       "      <td>7055.0</td>\n",
       "      <td>129345</td>\n",
       "    </tr>\n",
       "  </tbody>\n",
       "</table>\n",
       "</div>"
      ],
      "text/plain": [
       "           CustID  Gender Marital_Status   Pincode        State\n",
       "count      502121  364467          67995  492249.0       492181\n",
       "unique     502121       3              2   17407.0           36\n",
       "top     7teAttAeH    Male      Unmarried  122001.0  Maharashtra\n",
       "freq            1  292764          45242    7055.0       129345"
      ]
     },
     "execution_count": 37,
     "metadata": {},
     "output_type": "execute_result"
    }
   ],
   "source": [
    "mst_df.describe()"
   ]
  },
  {
   "cell_type": "code",
   "execution_count": 38,
   "id": "4c4bc99c-f33a-4c09-99f4-f95a7f627e0c",
   "metadata": {},
   "outputs": [
    {
     "name": "stdout",
     "output_type": "stream",
     "text": [
      "CustID 0\n",
      "Gender 137654\n",
      "Marital_Status 434126\n",
      "Pincode 9872\n",
      "State 9940\n"
     ]
    }
   ],
   "source": [
    "for i in mst_df.columns:\n",
    "    print(i, mst_df[i].isnull().sum())"
   ]
  },
  {
   "cell_type": "code",
   "execution_count": 39,
   "id": "18ebfb37-6b60-429f-9f84-6f5e691e6e0c",
   "metadata": {},
   "outputs": [
    {
     "data": {
      "text/plain": [
       "array([nan, 'Male', 'Female', 'Transgender'], dtype=object)"
      ]
     },
     "execution_count": 39,
     "metadata": {},
     "output_type": "execute_result"
    }
   ],
   "source": [
    "mst_df['Gender'].unique()"
   ]
  },
  {
   "cell_type": "code",
   "execution_count": 40,
   "id": "3c429afb-aed8-4105-a014-96de47ba867f",
   "metadata": {},
   "outputs": [
    {
     "data": {
      "text/plain": [
       "array([nan, 'Unmarried', 'Married'], dtype=object)"
      ]
     },
     "execution_count": 40,
     "metadata": {},
     "output_type": "execute_result"
    }
   ],
   "source": [
    "mst_df['Marital_Status'].unique()"
   ]
  },
  {
   "cell_type": "code",
   "execution_count": 41,
   "id": "b3b1c54b-fa89-41ea-98f5-84a2e054f4ca",
   "metadata": {},
   "outputs": [
    {
     "data": {
      "text/plain": [
       "array([678506.0, 770001.0, 245101.0, ..., 522613.0, 388550.0, 756133.0],\n",
       "      dtype=object)"
      ]
     },
     "execution_count": 41,
     "metadata": {},
     "output_type": "execute_result"
    }
   ],
   "source": [
    "mst_df['Pincode'].unique()"
   ]
  },
  {
   "cell_type": "code",
   "execution_count": 42,
   "id": "00e9ce81-f4ec-48ff-9bd4-8dae5829f37d",
   "metadata": {},
   "outputs": [
    {
     "data": {
      "text/plain": [
       "array(['Keral', 'Odisha', 'Uttar Pradesh', 'Telangana', nan,\n",
       "       'West Bengal', 'Delhi', 'Andhra Pradesh', 'Maharashtra',\n",
       "       'Karnataka', 'Gujarat', 'Tamil Nadu', 'Haryana', 'Madhya Pradesh',\n",
       "       'Punjab', 'Rajasthan', 'Himachal Pradesh', 'Chhatisgarh', 'Bihar',\n",
       "       'Assam', 'Goa', 'Uttarakhand', 'Jharkhand', 'Tripura',\n",
       "       'Jammu & Kashmir', 'Jammu And Kashmir', 'Diu & Daman',\n",
       "       'Andaman & Nicobar', 'Manipur', 'Arunachal Pradesh', 'Pondicherry',\n",
       "       'Leh Ladhak', 'Meghalaya', 'Nagaland', 'Sikkim', 'Mizoram',\n",
       "       'Gurugram'], dtype=object)"
      ]
     },
     "execution_count": 42,
     "metadata": {},
     "output_type": "execute_result"
    }
   ],
   "source": [
    "mst_df['State'].unique()"
   ]
  },
  {
   "cell_type": "code",
   "execution_count": 43,
   "id": "48abb9fc-1206-48c3-8bea-cba802b6c464",
   "metadata": {},
   "outputs": [
    {
     "data": {
      "text/plain": [
       "array(['7teAttAeH', '7t8tJJHt7', '787t17tJt', ...,\n",
       "       'EEEEoREMHejJJjoEoReGRJ1Fe771ERGJ',\n",
       "       'EEEE81e8oHt7HAFGjt8M81MGRM8JjVtj',\n",
       "       'EEEEEHR1AtVJ11E1GF7MG8EFEEF1MGGM'], dtype=object)"
      ]
     },
     "execution_count": 43,
     "metadata": {},
     "output_type": "execute_result"
    }
   ],
   "source": [
    "mst_df['CustID'].unique()"
   ]
  },
  {
   "cell_type": "code",
   "execution_count": 44,
   "id": "36210640-f540-4cf2-86ff-47d08f3c9a0a",
   "metadata": {},
   "outputs": [
    {
     "data": {
      "text/plain": [
       "0              0\n",
       "1              1\n",
       "2              2\n",
       "3              3\n",
       "4              4\n",
       "           ...  \n",
       "502116    502116\n",
       "502117    502117\n",
       "502118    502118\n",
       "502119    502119\n",
       "502120    502120\n",
       "Name: CustID, Length: 502121, dtype: int64"
      ]
     },
     "execution_count": 44,
     "metadata": {},
     "output_type": "execute_result"
    }
   ],
   "source": [
    "# Create a mapping from CustID to a unique integer (converted data to integer)\n",
    "custid_map = {custid: idx for idx, custid in enumerate(mst_df['CustID'].unique())}\n",
    "custid_map\n",
    "\n",
    "# Map CustID to integers (uses the mapping to replace each CustID with its corresponding integer.)\n",
    "mst_df['CustID'] = mst_df['CustID'].map(custid_map)\n",
    "mst_df['CustID']"
   ]
  },
  {
   "cell_type": "code",
   "execution_count": 45,
   "id": "6079ca6e-80b7-4253-8043-2a61cafd16c3",
   "metadata": {},
   "outputs": [],
   "source": [
    "# Convert Pincode to numeric, forcing errors to NaN (if any non-numeric values)\n",
    "mst_df['Pincode'] = pd.to_numeric(mst_df['Pincode'], errors='coerce')"
   ]
  },
  {
   "cell_type": "code",
   "execution_count": 46,
   "id": "dfd84ca5-c9f6-43e0-8193-5368d55efd98",
   "metadata": {},
   "outputs": [],
   "source": [
    "# Handle NaN values if needed (e.g., replace with a default value or drop)\n",
    "mst_df['Pincode'] = mst_df['Pincode'].fillna(-1)  # Replace NaNs with -1\n",
    "\n",
    "# Convert to integer\n",
    "mst_df['Pincode'] = mst_df['Pincode'].astype(int)"
   ]
  },
  {
   "cell_type": "code",
   "execution_count": 47,
   "id": "d1c4a0ea-c250-47c7-9f5f-9c273ac237d7",
   "metadata": {},
   "outputs": [
    {
     "data": {
      "text/plain": [
       "0         678506\n",
       "1         770001\n",
       "2         245101\n",
       "3         673008\n",
       "4         501510\n",
       "           ...  \n",
       "502116    141010\n",
       "502117    560059\n",
       "502118    560085\n",
       "502119    411007\n",
       "502120    400614\n",
       "Name: Pincode, Length: 502121, dtype: int32"
      ]
     },
     "execution_count": 47,
     "metadata": {},
     "output_type": "execute_result"
    }
   ],
   "source": [
    "mst_df['Pincode']"
   ]
  },
  {
   "cell_type": "code",
   "execution_count": 48,
   "id": "a8d110db-02c2-409e-8eac-55c1cc7f303f",
   "metadata": {},
   "outputs": [],
   "source": [
    "# Gender column - the percentage of nan values was 0.7258549234148741 (72%)so we had remove the nan value from this column"
   ]
  },
  {
   "cell_type": "code",
   "execution_count": 49,
   "id": "35078dc6-b65b-4a38-b4e6-3ee9c31c585b",
   "metadata": {},
   "outputs": [],
   "source": [
    "most_freq_gender = mst_df['Gender'].mode()[0]\n",
    "\n",
    "# Impute missing values with the mode\n",
    "mst_df['Gender'].fillna(most_freq_gender, inplace=True)"
   ]
  },
  {
   "cell_type": "code",
   "execution_count": 50,
   "id": "8d381f5f-a990-459c-aeaa-c1385b9bc1e2",
   "metadata": {},
   "outputs": [],
   "source": [
    "# Pincode column - the percentage of nan values was 0.9803394002640797 (98%) so we had remove the nan value from this column"
   ]
  },
  {
   "cell_type": "code",
   "execution_count": 51,
   "id": "9356e01e-4b6e-4b37-9907-db85e0e6ebb2",
   "metadata": {},
   "outputs": [],
   "source": [
    "# Mean and Median: Not suitable for categorical or ordinal data like pincodes.\n",
    "# Mode: May not be effective due to the high percentage of missing data.\n",
    "# Drop Column: Often the most practical solution if the column is not critical.\n",
    "# Impute with Placeholder: Useful if you need to keep the column with an indication of missing data."
   ]
  },
  {
   "cell_type": "code",
   "execution_count": 52,
   "id": "e24beb1c-eb77-4d89-a313-5a6971531f27",
   "metadata": {},
   "outputs": [],
   "source": [
    "# Remove rows where 'pincode' column has NaN values (so we have drop the column)\n",
    "Pincode = mst_df.drop(columns=['Pincode'], inplace=True)"
   ]
  },
  {
   "cell_type": "code",
   "execution_count": 53,
   "id": "28c343ef-c1cc-425c-b72b-d4f6fa0371ec",
   "metadata": {},
   "outputs": [],
   "source": [
    "# state column - the percentage of nan values was 0.9802039747391565 (98%) so we have use the mode to replace nan value from this column"
   ]
  },
  {
   "cell_type": "code",
   "execution_count": 54,
   "id": "7682d6a1-b2fd-4d03-8b50-f263262293c7",
   "metadata": {},
   "outputs": [],
   "source": [
    "# Calculate the mode of the 'State' column\n",
    "mode_state = mst_df['State'].mode()[0]  # mode() returns a Series; [0] gets the first mode\n",
    "\n",
    "# Impute missing values with the mode\n",
    "mst_df['State'].fillna(mode_state, inplace=True)"
   ]
  },
  {
   "cell_type": "code",
   "execution_count": 55,
   "id": "c5edf2bd-2d8e-45fe-b64e-8ced2a9ee5e9",
   "metadata": {},
   "outputs": [],
   "source": [
    "# Calculate the mode of the 'Marital_Status' column\n",
    "mode_status = mst_df['Marital_Status'].mode()[0]\n",
    "\n",
    "# Impute missing values with the mode\n",
    "mst_df['Marital_Status'].fillna(mode_status, inplace=True)"
   ]
  },
  {
   "cell_type": "code",
   "execution_count": 56,
   "id": "5fcd3fc3-ce3d-424f-b016-594b4d5093c0",
   "metadata": {},
   "outputs": [
    {
     "data": {
      "text/html": [
       "<div>\n",
       "<style scoped>\n",
       "    .dataframe tbody tr th:only-of-type {\n",
       "        vertical-align: middle;\n",
       "    }\n",
       "\n",
       "    .dataframe tbody tr th {\n",
       "        vertical-align: top;\n",
       "    }\n",
       "\n",
       "    .dataframe thead th {\n",
       "        text-align: right;\n",
       "    }\n",
       "</style>\n",
       "<table border=\"1\" class=\"dataframe\">\n",
       "  <thead>\n",
       "    <tr style=\"text-align: right;\">\n",
       "      <th></th>\n",
       "      <th>CustID</th>\n",
       "      <th>Gender</th>\n",
       "      <th>Marital_Status</th>\n",
       "      <th>State</th>\n",
       "    </tr>\n",
       "  </thead>\n",
       "  <tbody>\n",
       "    <tr>\n",
       "      <th>0</th>\n",
       "      <td>0</td>\n",
       "      <td>Male</td>\n",
       "      <td>Unmarried</td>\n",
       "      <td>Keral</td>\n",
       "    </tr>\n",
       "    <tr>\n",
       "      <th>1</th>\n",
       "      <td>1</td>\n",
       "      <td>Male</td>\n",
       "      <td>Unmarried</td>\n",
       "      <td>Odisha</td>\n",
       "    </tr>\n",
       "    <tr>\n",
       "      <th>2</th>\n",
       "      <td>2</td>\n",
       "      <td>Male</td>\n",
       "      <td>Unmarried</td>\n",
       "      <td>Uttar Pradesh</td>\n",
       "    </tr>\n",
       "    <tr>\n",
       "      <th>3</th>\n",
       "      <td>3</td>\n",
       "      <td>Male</td>\n",
       "      <td>Unmarried</td>\n",
       "      <td>Keral</td>\n",
       "    </tr>\n",
       "    <tr>\n",
       "      <th>4</th>\n",
       "      <td>4</td>\n",
       "      <td>Male</td>\n",
       "      <td>Unmarried</td>\n",
       "      <td>Telangana</td>\n",
       "    </tr>\n",
       "    <tr>\n",
       "      <th>...</th>\n",
       "      <td>...</td>\n",
       "      <td>...</td>\n",
       "      <td>...</td>\n",
       "      <td>...</td>\n",
       "    </tr>\n",
       "    <tr>\n",
       "      <th>502116</th>\n",
       "      <td>502116</td>\n",
       "      <td>Male</td>\n",
       "      <td>Unmarried</td>\n",
       "      <td>Punjab</td>\n",
       "    </tr>\n",
       "    <tr>\n",
       "      <th>502117</th>\n",
       "      <td>502117</td>\n",
       "      <td>Female</td>\n",
       "      <td>Married</td>\n",
       "      <td>Karnataka</td>\n",
       "    </tr>\n",
       "    <tr>\n",
       "      <th>502118</th>\n",
       "      <td>502118</td>\n",
       "      <td>Male</td>\n",
       "      <td>Unmarried</td>\n",
       "      <td>Karnataka</td>\n",
       "    </tr>\n",
       "    <tr>\n",
       "      <th>502119</th>\n",
       "      <td>502119</td>\n",
       "      <td>Male</td>\n",
       "      <td>Unmarried</td>\n",
       "      <td>Maharashtra</td>\n",
       "    </tr>\n",
       "    <tr>\n",
       "      <th>502120</th>\n",
       "      <td>502120</td>\n",
       "      <td>Male</td>\n",
       "      <td>Unmarried</td>\n",
       "      <td>Maharashtra</td>\n",
       "    </tr>\n",
       "  </tbody>\n",
       "</table>\n",
       "<p>502121 rows × 4 columns</p>\n",
       "</div>"
      ],
      "text/plain": [
       "        CustID  Gender Marital_Status          State\n",
       "0            0    Male      Unmarried          Keral\n",
       "1            1    Male      Unmarried         Odisha\n",
       "2            2    Male      Unmarried  Uttar Pradesh\n",
       "3            3    Male      Unmarried          Keral\n",
       "4            4    Male      Unmarried      Telangana\n",
       "...        ...     ...            ...            ...\n",
       "502116  502116    Male      Unmarried         Punjab\n",
       "502117  502117  Female        Married      Karnataka\n",
       "502118  502118    Male      Unmarried      Karnataka\n",
       "502119  502119    Male      Unmarried    Maharashtra\n",
       "502120  502120    Male      Unmarried    Maharashtra\n",
       "\n",
       "[502121 rows x 4 columns]"
      ]
     },
     "execution_count": 56,
     "metadata": {},
     "output_type": "execute_result"
    }
   ],
   "source": [
    "mst_df"
   ]
  },
  {
   "cell_type": "code",
   "execution_count": 57,
   "id": "b049456d-1176-4974-bc8f-6a38eaa9c333",
   "metadata": {},
   "outputs": [
    {
     "data": {
      "text/plain": [
       "CustID            0\n",
       "Gender            0\n",
       "Marital_Status    0\n",
       "State             0\n",
       "dtype: int64"
      ]
     },
     "execution_count": 57,
     "metadata": {},
     "output_type": "execute_result"
    }
   ],
   "source": [
    "mst_df.isnull().sum()"
   ]
  },
  {
   "cell_type": "markdown",
   "id": "e3ea2643-0d3e-4eff-85aa-3b50923e333f",
   "metadata": {},
   "source": []
  },
  {
   "cell_type": "code",
   "execution_count": null,
   "id": "cfe94ed0-f8ea-40c5-a101-5ea8261c2b31",
   "metadata": {},
   "outputs": [],
   "source": []
  },
  {
   "cell_type": "markdown",
   "id": "80e4a29a-ba9c-4616-9ac4-5921adb19882",
   "metadata": {},
   "source": [
    "# Customer_Transaction_Data"
   ]
  },
  {
   "cell_type": "code",
   "execution_count": 58,
   "id": "91e64615-5a9e-468f-aeea-41dcb0911c26",
   "metadata": {},
   "outputs": [],
   "source": [
    "cst_trn_df = pd.read_csv('Customer_Transaction_Data.csv')"
   ]
  },
  {
   "cell_type": "code",
   "execution_count": 59,
   "id": "319c3cd7-7971-4f27-a80c-545dd3283756",
   "metadata": {},
   "outputs": [
    {
     "name": "stdout",
     "output_type": "stream",
     "text": [
      "<class 'pandas.core.frame.DataFrame'>\n",
      "RangeIndex: 1625393 entries, 0 to 1625392\n",
      "Data columns (total 16 columns):\n",
      " #   Column                    Non-Null Count    Dtype  \n",
      "---  ------                    --------------    -----  \n",
      " 0   CustID                    1625393 non-null  object \n",
      " 1   ItemDesc                  1615527 non-null  object \n",
      " 2   MerchCategoryDescription  1615527 non-null  object \n",
      " 3   MerchClassDescription     1613558 non-null  object \n",
      " 4   MerchGroupDescription     1613558 non-null  object \n",
      " 5   SaleValue                 1625384 non-null  float64\n",
      " 6   OrderedQuantity           1625393 non-null  int64  \n",
      " 7   OrderDate                 1625393 non-null  object \n",
      " 8   ReturnFlag                77239 non-null    object \n",
      " 9   SalesChannelCode          1625393 non-null  object \n",
      " 10  Ecom_BnM_Indicator        1625393 non-null  object \n",
      " 11  StoreID                   1625374 non-null  float64\n",
      " 12  StoreCode                 1625390 non-null  object \n",
      " 13  StoreCity                 1500269 non-null  object \n",
      " 14  StoreState                1442466 non-null  object \n",
      " 15  StorePincode              1442466 non-null  object \n",
      "dtypes: float64(2), int64(1), object(13)\n",
      "memory usage: 198.4+ MB\n"
     ]
    }
   ],
   "source": [
    "cst_trn_df.info()"
   ]
  },
  {
   "cell_type": "code",
   "execution_count": 60,
   "id": "57baad74-3573-4fdc-8799-7127a7e928c3",
   "metadata": {},
   "outputs": [
    {
     "data": {
      "text/html": [
       "<div>\n",
       "<style scoped>\n",
       "    .dataframe tbody tr th:only-of-type {\n",
       "        vertical-align: middle;\n",
       "    }\n",
       "\n",
       "    .dataframe tbody tr th {\n",
       "        vertical-align: top;\n",
       "    }\n",
       "\n",
       "    .dataframe thead th {\n",
       "        text-align: right;\n",
       "    }\n",
       "</style>\n",
       "<table border=\"1\" class=\"dataframe\">\n",
       "  <thead>\n",
       "    <tr style=\"text-align: right;\">\n",
       "      <th></th>\n",
       "      <th>CustID</th>\n",
       "      <th>ItemDesc</th>\n",
       "      <th>MerchCategoryDescription</th>\n",
       "      <th>MerchClassDescription</th>\n",
       "      <th>MerchGroupDescription</th>\n",
       "      <th>SaleValue</th>\n",
       "      <th>OrderedQuantity</th>\n",
       "      <th>OrderDate</th>\n",
       "      <th>ReturnFlag</th>\n",
       "      <th>SalesChannelCode</th>\n",
       "      <th>Ecom_BnM_Indicator</th>\n",
       "      <th>StoreID</th>\n",
       "      <th>StoreCode</th>\n",
       "      <th>StoreCity</th>\n",
       "      <th>StoreState</th>\n",
       "      <th>StorePincode</th>\n",
       "    </tr>\n",
       "  </thead>\n",
       "  <tbody>\n",
       "    <tr>\n",
       "      <th>0</th>\n",
       "      <td>JFRGRFjeEJVG8RJF8R1Foj8AJJ7Et8oH</td>\n",
       "      <td>APPLE PROTECTION PLAN MACBOOK PRO</td>\n",
       "      <td>APPLE PROTECTION PLAN MACBOOK PRO</td>\n",
       "      <td>Mobile Computing</td>\n",
       "      <td>Computers Peripherals</td>\n",
       "      <td>-25398.00</td>\n",
       "      <td>-1</td>\n",
       "      <td>2019-01-01</td>\n",
       "      <td>NaN</td>\n",
       "      <td>RS</td>\n",
       "      <td>B&amp;M</td>\n",
       "      <td>83.0</td>\n",
       "      <td>A129</td>\n",
       "      <td>Pune</td>\n",
       "      <td>Maharashtra</td>\n",
       "      <td>411014</td>\n",
       "    </tr>\n",
       "    <tr>\n",
       "      <th>1</th>\n",
       "      <td>JFRGRFjeEJVG8RJF8R1Foj8AJJ7Et8oH</td>\n",
       "      <td>MacBook Pro 16 2.6GH i7 9G 16GB 512GB SG</td>\n",
       "      <td>MacBook Pro 16 2.6GH i7 9G 16GB 512GB SG</td>\n",
       "      <td>Mobile Computing</td>\n",
       "      <td>Computers Peripherals</td>\n",
       "      <td>-193703.10</td>\n",
       "      <td>-1</td>\n",
       "      <td>2019-01-01</td>\n",
       "      <td>NaN</td>\n",
       "      <td>RS</td>\n",
       "      <td>B&amp;M</td>\n",
       "      <td>83.0</td>\n",
       "      <td>A129</td>\n",
       "      <td>Pune</td>\n",
       "      <td>Maharashtra</td>\n",
       "      <td>411014</td>\n",
       "    </tr>\n",
       "    <tr>\n",
       "      <th>2</th>\n",
       "      <td>V1AG7tA7E1tMVjt7tVH7JARR11AVotet</td>\n",
       "      <td>Samsung Galaxy A70 S 6GB White</td>\n",
       "      <td>Samsung Galaxy A70 S 6GB White</td>\n",
       "      <td>Smart Phones (OS Based)</td>\n",
       "      <td>Communication</td>\n",
       "      <td>26518.98</td>\n",
       "      <td>1</td>\n",
       "      <td>2019-01-01</td>\n",
       "      <td>NaN</td>\n",
       "      <td>RS</td>\n",
       "      <td>B&amp;M</td>\n",
       "      <td>79.0</td>\n",
       "      <td>A122</td>\n",
       "      <td>Ghaziabad</td>\n",
       "      <td>Delhi NCR</td>\n",
       "      <td>201001</td>\n",
       "    </tr>\n",
       "    <tr>\n",
       "      <th>3</th>\n",
       "      <td>V1AG7tA7E1tMVjt7tVH7JARR11AVotet</td>\n",
       "      <td>Wireless Earphones ITFIT Freebie Red</td>\n",
       "      <td>Wireless Earphones ITFIT Freebie Red</td>\n",
       "      <td>Free Gifts</td>\n",
       "      <td>Miscellaneous</td>\n",
       "      <td>0.00</td>\n",
       "      <td>1</td>\n",
       "      <td>2019-01-01</td>\n",
       "      <td>NaN</td>\n",
       "      <td>RS</td>\n",
       "      <td>B&amp;M</td>\n",
       "      <td>79.0</td>\n",
       "      <td>A122</td>\n",
       "      <td>Ghaziabad</td>\n",
       "      <td>Delhi NCR</td>\n",
       "      <td>201001</td>\n",
       "    </tr>\n",
       "    <tr>\n",
       "      <th>4</th>\n",
       "      <td>tAEVH8jEG1Eoe1GE1JEojJetVtMGFjto</td>\n",
       "      <td>DELL New bag pack</td>\n",
       "      <td>DELL New bag pack</td>\n",
       "      <td>Mobile Computing</td>\n",
       "      <td>Computers Peripherals</td>\n",
       "      <td>-1120.98</td>\n",
       "      <td>-1</td>\n",
       "      <td>2019-01-01</td>\n",
       "      <td>NaN</td>\n",
       "      <td>RS</td>\n",
       "      <td>B&amp;M</td>\n",
       "      <td>8.0</td>\n",
       "      <td>A010</td>\n",
       "      <td>Surat</td>\n",
       "      <td>Gujarat</td>\n",
       "      <td>395007</td>\n",
       "    </tr>\n",
       "  </tbody>\n",
       "</table>\n",
       "</div>"
      ],
      "text/plain": [
       "                             CustID                                  ItemDesc  \\\n",
       "0  JFRGRFjeEJVG8RJF8R1Foj8AJJ7Et8oH         APPLE PROTECTION PLAN MACBOOK PRO   \n",
       "1  JFRGRFjeEJVG8RJF8R1Foj8AJJ7Et8oH  MacBook Pro 16 2.6GH i7 9G 16GB 512GB SG   \n",
       "2  V1AG7tA7E1tMVjt7tVH7JARR11AVotet            Samsung Galaxy A70 S 6GB White   \n",
       "3  V1AG7tA7E1tMVjt7tVH7JARR11AVotet      Wireless Earphones ITFIT Freebie Red   \n",
       "4  tAEVH8jEG1Eoe1GE1JEojJetVtMGFjto                         DELL New bag pack   \n",
       "\n",
       "                   MerchCategoryDescription    MerchClassDescription  \\\n",
       "0         APPLE PROTECTION PLAN MACBOOK PRO         Mobile Computing   \n",
       "1  MacBook Pro 16 2.6GH i7 9G 16GB 512GB SG         Mobile Computing   \n",
       "2            Samsung Galaxy A70 S 6GB White  Smart Phones (OS Based)   \n",
       "3      Wireless Earphones ITFIT Freebie Red               Free Gifts   \n",
       "4                         DELL New bag pack         Mobile Computing   \n",
       "\n",
       "   MerchGroupDescription  SaleValue  OrderedQuantity   OrderDate ReturnFlag  \\\n",
       "0  Computers Peripherals  -25398.00               -1  2019-01-01        NaN   \n",
       "1  Computers Peripherals -193703.10               -1  2019-01-01        NaN   \n",
       "2          Communication   26518.98                1  2019-01-01        NaN   \n",
       "3          Miscellaneous       0.00                1  2019-01-01        NaN   \n",
       "4  Computers Peripherals   -1120.98               -1  2019-01-01        NaN   \n",
       "\n",
       "  SalesChannelCode Ecom_BnM_Indicator  StoreID StoreCode  StoreCity  \\\n",
       "0               RS                B&M     83.0      A129       Pune   \n",
       "1               RS                B&M     83.0      A129       Pune   \n",
       "2               RS                B&M     79.0      A122  Ghaziabad   \n",
       "3               RS                B&M     79.0      A122  Ghaziabad   \n",
       "4               RS                B&M      8.0      A010      Surat   \n",
       "\n",
       "    StoreState StorePincode  \n",
       "0  Maharashtra       411014  \n",
       "1  Maharashtra       411014  \n",
       "2    Delhi NCR       201001  \n",
       "3    Delhi NCR       201001  \n",
       "4      Gujarat       395007  "
      ]
     },
     "execution_count": 60,
     "metadata": {},
     "output_type": "execute_result"
    }
   ],
   "source": [
    "cst_trn_df.head()"
   ]
  },
  {
   "cell_type": "code",
   "execution_count": 61,
   "id": "20b958c1-eed9-4593-9899-d37f7b6267bc",
   "metadata": {},
   "outputs": [
    {
     "data": {
      "text/plain": [
       "CustID\n",
       "jRAMMo7RVG1jH7oMje7jFtREARGRtFHE    6709\n",
       "VGtVR8EJGGVVRHoJHFtojHGVFE7ojJjo    1563\n",
       "VAJAtJ1VJHAoAFEFtAoV7tRMMG8AAJR7    1315\n",
       "etjjj8oEJGtFeHEoMeAG7eMMFEVAoEHG     833\n",
       "RRe1EREMR8E8oHGRjVEVGjetVRoHAjVM     757\n",
       "                                    ... \n",
       "VHHtR8oEeH1jMV7tH8HVeR7jjHotHGAo       1\n",
       "tGt8V7RE71tjttVRJM78JMRVj8GtHJJF       1\n",
       "oJGEHj81EGRtA1877joeeeF8jV1eAoFV       1\n",
       "J7A7j11RoRHGJEF1VHVGHM7FVVFEeM7F       1\n",
       "JH1EVjVA778GeE18A7RHJtGAHjJMtEo7       1\n",
       "Name: count, Length: 502121, dtype: int64"
      ]
     },
     "execution_count": 61,
     "metadata": {},
     "output_type": "execute_result"
    }
   ],
   "source": [
    "cst_trn_df['CustID'].value_counts()"
   ]
  },
  {
   "cell_type": "markdown",
   "id": "380dadde-fe70-4451-9ebb-5a777b27db6b",
   "metadata": {},
   "source": [
    "**Changing datatype for some column which needed**"
   ]
  },
  {
   "cell_type": "code",
   "execution_count": 62,
   "id": "ceb6e31e-fcae-4999-ab8c-6031d24569d3",
   "metadata": {},
   "outputs": [
    {
     "data": {
      "text/plain": [
       "0               0\n",
       "1               0\n",
       "2               1\n",
       "3               1\n",
       "4               2\n",
       "            ...  \n",
       "1625388    222341\n",
       "1625389     27571\n",
       "1625390    276236\n",
       "1625391     12233\n",
       "1625392    274840\n",
       "Name: CustID, Length: 1625393, dtype: int64"
      ]
     },
     "execution_count": 62,
     "metadata": {},
     "output_type": "execute_result"
    }
   ],
   "source": [
    "# Create a mapping from CustID to a unique integer (converted data to integer)\n",
    "cust_id_map = {custid: idx for idx, custid in enumerate(cst_trn_df['CustID'].unique())}\n",
    "cust_id_map\n",
    "\n",
    "# Map CustID to integers (uses the mapping to replace each CustID with its corresponding integer.)\n",
    "cst_trn_df['CustID'] = cst_trn_df['CustID'].map(cust_id_map)\n",
    "cst_trn_df['CustID']"
   ]
  },
  {
   "cell_type": "code",
   "execution_count": 63,
   "id": "191b38ae-7049-4c65-bc1c-b629d8157668",
   "metadata": {},
   "outputs": [
    {
     "data": {
      "text/plain": [
       "0         2019-01-01\n",
       "1         2019-01-01\n",
       "2         2019-01-01\n",
       "3         2019-01-01\n",
       "4         2019-01-01\n",
       "             ...    \n",
       "1625388   2021-12-31\n",
       "1625389   2021-12-31\n",
       "1625390   2021-12-31\n",
       "1625391   2021-12-31\n",
       "1625392   2021-12-31\n",
       "Name: OrderDate, Length: 1625393, dtype: datetime64[ns]"
      ]
     },
     "execution_count": 63,
     "metadata": {},
     "output_type": "execute_result"
    }
   ],
   "source": [
    "cst_trn_df['OrderDate'] = pd.to_datetime(cst_trn_df['OrderDate'])\n",
    "cst_trn_df['OrderDate']"
   ]
  },
  {
   "cell_type": "code",
   "execution_count": 64,
   "id": "b046eb3b-1f1a-4632-bd7b-84e8b623e741",
   "metadata": {},
   "outputs": [],
   "source": [
    "# Converting to a categorical type is useful when you have a limited number of unique values,\n",
    "# as it can save memory and may be beneficial for certain types of analyses or visualizations."
   ]
  },
  {
   "cell_type": "code",
   "execution_count": 65,
   "id": "3bcc0866-4f3e-4c84-8dce-499d188d066b",
   "metadata": {},
   "outputs": [
    {
     "data": {
      "text/plain": [
       "0          411014\n",
       "1          411014\n",
       "2          201001\n",
       "3          201001\n",
       "4          395007\n",
       "            ...  \n",
       "1625388    110034\n",
       "1625389    452016\n",
       "1625390    382449\n",
       "1625391    395010\n",
       "1625392       NaN\n",
       "Name: StorePincode, Length: 1625393, dtype: category\n",
       "Categories (289, object): ['110001', '110002', '110005', '110007', ..., '751022', '751024', '826004', '831001']"
      ]
     },
     "execution_count": 65,
     "metadata": {},
     "output_type": "execute_result"
    }
   ],
   "source": [
    "# Convert 'StorePincode' to categorical\n",
    "cst_trn_df['StorePincode'] = cst_trn_df['StorePincode'].astype('category')\n",
    "cst_trn_df['StorePincode']"
   ]
  },
  {
   "cell_type": "code",
   "execution_count": 66,
   "id": "270d0ce5-d662-4843-8008-140a850584bf",
   "metadata": {},
   "outputs": [
    {
     "data": {
      "text/plain": [
       "['411014', '201001', '395007', '411007', '560043', ..., '132103', '431203', '523001', '521108', '711204']\n",
       "Length: 290\n",
       "Categories (289, object): ['110001', '110002', '110005', '110007', ..., '751022', '751024', '826004', '831001']"
      ]
     },
     "execution_count": 66,
     "metadata": {},
     "output_type": "execute_result"
    }
   ],
   "source": [
    "cst_trn_df['StorePincode'].unique()"
   ]
  },
  {
   "cell_type": "markdown",
   "id": "bde73c6e-c7ba-414b-8841-385d02a7bece",
   "metadata": {},
   "source": [
    "**Cleaning - remove or replace nan value as per requirement of data**"
   ]
  },
  {
   "cell_type": "code",
   "execution_count": 67,
   "id": "f739c9e9-e0a7-4128-80af-40f3eade1477",
   "metadata": {},
   "outputs": [
    {
     "data": {
      "text/plain": [
       "CustID                            0\n",
       "ItemDesc                       9866\n",
       "MerchCategoryDescription       9866\n",
       "MerchClassDescription         11835\n",
       "MerchGroupDescription         11835\n",
       "SaleValue                         9\n",
       "OrderedQuantity                   0\n",
       "OrderDate                         0\n",
       "ReturnFlag                  1548154\n",
       "SalesChannelCode                  0\n",
       "Ecom_BnM_Indicator                0\n",
       "StoreID                          19\n",
       "StoreCode                         3\n",
       "StoreCity                    125124\n",
       "StoreState                   182927\n",
       "StorePincode                 182927\n",
       "dtype: int64"
      ]
     },
     "execution_count": 67,
     "metadata": {},
     "output_type": "execute_result"
    }
   ],
   "source": [
    "cst_trn_df.isnull().sum()"
   ]
  },
  {
   "cell_type": "code",
   "execution_count": 68,
   "id": "136a241f-eb3f-40ce-b3b9-4918a8afb2d6",
   "metadata": {},
   "outputs": [
    {
     "data": {
      "text/plain": [
       "ItemDesc\n",
       "Apple 20W USB-C Power Adapter                                                                                            14558\n",
       "Shipping Charges                                                                                                         11457\n",
       "BodyGuard Mobile Security Personal                                                                                        7045\n",
       "E-CROMA MIXER GRINDER 500W CRAK4184                                                                                       7009\n",
       "HP Basic carrycase                                                                                                        6721\n",
       "                                                                                                                         ...  \n",
       "BELKIN BRD USB C TO USB C CBL BLCK (HSN-85444299)                                                                            1\n",
       "Eureka Forbes 4 Stages of Purification Technology Air Purifier (Advanced HEPA -11 Filters, FAP 7000i, White)                 1\n",
       "Philips HL7703/0 1000W 4 yr waranty card                                                                                     1\n",
       "realme 9 Speed Edition 5G (8GB RAM, 128GB, Azure Glow)                                                                       1\n",
       "Fire-Boltt Mercury BSW006 Smartwatch with Camera & Music Control (45mm HD Display, IP67 Water Resistant, Beige Strap)        1\n",
       "Name: count, Length: 40359, dtype: int64"
      ]
     },
     "execution_count": 68,
     "metadata": {},
     "output_type": "execute_result"
    }
   ],
   "source": [
    "cst_trn_df['ItemDesc'].value_counts()"
   ]
  },
  {
   "cell_type": "code",
   "execution_count": 69,
   "id": "b07b0962-8bf4-49ae-96bd-78797abeb6f3",
   "metadata": {},
   "outputs": [
    {
     "data": {
      "text/plain": [
       "array(['APPLE PROTECTION PLAN MACBOOK PRO',\n",
       "       'MacBook Pro 16 2.6GH i7 9G 16GB 512GB SG',\n",
       "       'Samsung Galaxy A70 S 6GB White', ...,\n",
       "       'Sony BT Speaker SRS-XG300 Blk',\n",
       "       'boAt Stone 1000 14W Portable Bluetooth Speaker (IPX5 Waterproof, 10 Hours Playtime, Stereo Channel, Blue)',\n",
       "       'Fire-Boltt Mercury BSW006 Smartwatch with Camera & Music Control (45mm HD Display, IP67 Water Resistant, Beige Strap)'],\n",
       "      dtype=object)"
      ]
     },
     "execution_count": 69,
     "metadata": {},
     "output_type": "execute_result"
    }
   ],
   "source": [
    "cst_trn_df['ItemDesc'].unique()"
   ]
  },
  {
   "cell_type": "code",
   "execution_count": 70,
   "id": "76a84146-4e12-48c7-9f9c-d6f12b14aa15",
   "metadata": {},
   "outputs": [
    {
     "data": {
      "text/plain": [
       "0                          APPLE PROTECTION PLAN MACBOOK PRO\n",
       "1                   MacBook Pro 16 2.6GH i7 9G 16GB 512GB SG\n",
       "2                             Samsung Galaxy A70 S 6GB White\n",
       "3                       Wireless Earphones ITFIT Freebie Red\n",
       "4                                          DELL New bag pack\n",
       "                                 ...                        \n",
       "1625388                               SONY Ephone EX14AP Blk\n",
       "1625389                    SAMSUNG LED 189CM 75AU7700 UHD/4K\n",
       "1625390                Galaxy Watch 4 Classic BT 42mm Silver\n",
       "1625391    Philips Beardtrimmer Series 3000 Stainless Ste...\n",
       "1625392                   Apple iPhone 14 Plus (256GB, Blue)\n",
       "Name: ItemDesc, Length: 1625393, dtype: object"
      ]
     },
     "execution_count": 70,
     "metadata": {},
     "output_type": "execute_result"
    }
   ],
   "source": [
    "# Find the most frequent value\n",
    "most_frequent = cst_trn_df['ItemDesc'].mode()[0]\n",
    "most_frequent\n",
    "\n",
    "# Fill NaN values with the most frequent value\n",
    "cst_trn_df['ItemDesc'] = cst_trn_df['ItemDesc'].fillna(most_frequent)\n",
    "cst_trn_df['ItemDesc']"
   ]
  },
  {
   "cell_type": "code",
   "execution_count": 71,
   "id": "29a260e4-df55-4ccf-9649-3c77ecac0505",
   "metadata": {},
   "outputs": [
    {
     "data": {
      "text/plain": [
       "0                          APPLE PROTECTION PLAN MACBOOK PRO\n",
       "1                   MacBook Pro 16 2.6GH i7 9G 16GB 512GB SG\n",
       "2                             Samsung Galaxy A70 S 6GB White\n",
       "3                       Wireless Earphones ITFIT Freebie Red\n",
       "4                                          DELL New bag pack\n",
       "                                 ...                        \n",
       "1625388                               SONY Ephone EX14AP Blk\n",
       "1625389                    SAMSUNG LED 189CM 75AU7700 UHD/4K\n",
       "1625390                Galaxy Watch 4 Classic BT 42mm Silver\n",
       "1625391    Philips Beardtrimmer Series 3000 Stainless Ste...\n",
       "1625392                   Apple iPhone 14 Plus (256GB, Blue)\n",
       "Name: MerchCategoryDescription, Length: 1625393, dtype: object"
      ]
     },
     "execution_count": 71,
     "metadata": {},
     "output_type": "execute_result"
    }
   ],
   "source": [
    "# Find the most frequent value\n",
    "most_freq = cst_trn_df['MerchCategoryDescription'].mode()[0]\n",
    "\n",
    "# Fill NaN values with the most frequent value\n",
    "cst_trn_df['MerchCategoryDescription'] = cst_trn_df['MerchCategoryDescription'].fillna(most_freq)\n",
    "cst_trn_df['MerchCategoryDescription']"
   ]
  },
  {
   "cell_type": "code",
   "execution_count": 72,
   "id": "59887338-0ec9-478e-a301-5b634b891cfd",
   "metadata": {},
   "outputs": [
    {
     "data": {
      "text/plain": [
       "0                 Mobile Computing\n",
       "1                 Mobile Computing\n",
       "2          Smart Phones (OS Based)\n",
       "3                       Free Gifts\n",
       "4                 Mobile Computing\n",
       "                    ...           \n",
       "1625388       Earphones/Headphones\n",
       "1625389                     TV LCD\n",
       "1625390      Lifestyle & Wearables\n",
       "1625391     Health & Personal Care\n",
       "1625392    Smart Phones (OS Based)\n",
       "Name: MerchClassDescription, Length: 1625393, dtype: object"
      ]
     },
     "execution_count": 72,
     "metadata": {},
     "output_type": "execute_result"
    }
   ],
   "source": [
    "# Find the most frequent value\n",
    "freq = cst_trn_df['MerchClassDescription'].mode()[0]\n",
    "\n",
    "# Fill NaN values with the most frequent value\n",
    "cst_trn_df['MerchClassDescription'] = cst_trn_df['MerchClassDescription'].fillna(freq)\n",
    "cst_trn_df['MerchClassDescription']"
   ]
  },
  {
   "cell_type": "code",
   "execution_count": 73,
   "id": "da565aed-9bd8-4a63-b84a-c695d168a0fa",
   "metadata": {},
   "outputs": [
    {
     "data": {
      "text/plain": [
       "0          Computers Peripherals\n",
       "1          Computers Peripherals\n",
       "2                  Communication\n",
       "3                  Miscellaneous\n",
       "4          Computers Peripherals\n",
       "                   ...          \n",
       "1625388            Entertainment\n",
       "1625389            Entertainment\n",
       "1625390            Communication\n",
       "1625391         Small Appliances\n",
       "1625392            Communication\n",
       "Name: MerchGroupDescription, Length: 1625393, dtype: object"
      ]
     },
     "execution_count": 73,
     "metadata": {},
     "output_type": "execute_result"
    }
   ],
   "source": [
    "# Find the most frequent value\n",
    "most_fre = cst_trn_df['MerchGroupDescription'].mode()[0]\n",
    "\n",
    "# Fill NaN values with the most frequent value\n",
    "cst_trn_df['MerchGroupDescription'] = cst_trn_df['MerchGroupDescription'].fillna(most_fre)\n",
    "cst_trn_df['MerchGroupDescription']"
   ]
  },
  {
   "cell_type": "code",
   "execution_count": 74,
   "id": "3610686e-b818-4ce6-a0a5-ae8044cfab86",
   "metadata": {},
   "outputs": [
    {
     "data": {
      "text/plain": [
       "9919.976846498308"
      ]
     },
     "execution_count": 74,
     "metadata": {},
     "output_type": "execute_result"
    }
   ],
   "source": [
    "cst_trn_df['SaleValue'].mean()"
   ]
  },
  {
   "cell_type": "code",
   "execution_count": 75,
   "id": "d8e00b5b-8043-4c50-af0d-ef2ed8bb7b60",
   "metadata": {},
   "outputs": [
    {
     "data": {
      "text/plain": [
       "1834.98"
      ]
     },
     "execution_count": 75,
     "metadata": {},
     "output_type": "execute_result"
    }
   ],
   "source": [
    "cst_trn_df['SaleValue'].median()"
   ]
  },
  {
   "cell_type": "code",
   "execution_count": 76,
   "id": "1f653c38-6bc9-43a2-ac3b-b67dc7dab324",
   "metadata": {},
   "outputs": [
    {
     "data": {
      "text/plain": [
       "0    0.0102\n",
       "Name: SaleValue, dtype: float64"
      ]
     },
     "execution_count": 76,
     "metadata": {},
     "output_type": "execute_result"
    }
   ],
   "source": [
    "cst_trn_df['SaleValue'].mode()"
   ]
  },
  {
   "cell_type": "code",
   "execution_count": 77,
   "id": "b95398f5-bb6a-4e29-aa82-5e89091f7308",
   "metadata": {},
   "outputs": [
    {
     "data": {
      "text/plain": [
       "0          -25398.00\n",
       "1         -193703.10\n",
       "2           26518.98\n",
       "3               0.00\n",
       "4           -1120.98\n",
       "             ...    \n",
       "1625388       610.98\n",
       "1625389    111424.80\n",
       "1625390     14779.80\n",
       "1625391      1127.10\n",
       "1625392     94849.80\n",
       "Name: SaleValue, Length: 1625393, dtype: float64"
      ]
     },
     "execution_count": 77,
     "metadata": {},
     "output_type": "execute_result"
    }
   ],
   "source": [
    "# Median: Best choice for filling NaN values in skewed distributions, as it represents the central tendency better than the mean in such cases.\n",
    "# Median value based on your data\n",
    "median_value = 1834.98\n",
    "\n",
    "# Fill NaN values with the median\n",
    "cst_trn_df['SaleValue'] = cst_trn_df['SaleValue'].fillna(median_value)\n",
    "cst_trn_df['SaleValue']"
   ]
  },
  {
   "cell_type": "code",
   "execution_count": 78,
   "id": "b8db5d66-cec6-4813-bbb3-609030a542dd",
   "metadata": {},
   "outputs": [
    {
     "data": {
      "text/plain": [
       "0          No Return\n",
       "1          No Return\n",
       "2          No Return\n",
       "3          No Return\n",
       "4          No Return\n",
       "             ...    \n",
       "1625388    No Return\n",
       "1625389    No Return\n",
       "1625390    No Return\n",
       "1625391    No Return\n",
       "1625392    No Return\n",
       "Name: ReturnFlag, Length: 1625393, dtype: object"
      ]
     },
     "execution_count": 78,
     "metadata": {},
     "output_type": "execute_result"
    }
   ],
   "source": [
    "# if the nan value is 1548154/1625393 \n",
    "# so i have Fill NaN values with 'No Return'\n",
    "cst_trn_df['ReturnFlag'] = cst_trn_df['ReturnFlag'].fillna('No Return')\n",
    "cst_trn_df['ReturnFlag'] "
   ]
  },
  {
   "cell_type": "code",
   "execution_count": 79,
   "id": "136bccf1-9265-47ff-9df9-083f4ebbe048",
   "metadata": {},
   "outputs": [
    {
     "data": {
      "text/plain": [
       "array(['No Return', 'F', 'P'], dtype=object)"
      ]
     },
     "execution_count": 79,
     "metadata": {},
     "output_type": "execute_result"
    }
   ],
   "source": [
    "cst_trn_df['ReturnFlag'].unique()"
   ]
  },
  {
   "cell_type": "code",
   "execution_count": 80,
   "id": "7a1e828e-b579-4487-afda-ae81076b5905",
   "metadata": {},
   "outputs": [
    {
     "data": {
      "text/plain": [
       "123.38706045500912"
      ]
     },
     "execution_count": 80,
     "metadata": {},
     "output_type": "execute_result"
    }
   ],
   "source": [
    "cst_trn_df['StoreID'].mean()"
   ]
  },
  {
   "cell_type": "code",
   "execution_count": 81,
   "id": "84a6c866-288f-4044-ad5d-08496635549f",
   "metadata": {},
   "outputs": [
    {
     "data": {
      "text/plain": [
       "82.0"
      ]
     },
     "execution_count": 81,
     "metadata": {},
     "output_type": "execute_result"
    }
   ],
   "source": [
    "cst_trn_df['StoreID'].median()"
   ]
  },
  {
   "cell_type": "code",
   "execution_count": 82,
   "id": "59d548cd-1a6a-4870-93b3-3ad807c2b317",
   "metadata": {},
   "outputs": [
    {
     "data": {
      "text/plain": [
       "0   -1.0\n",
       "Name: StoreID, dtype: float64"
      ]
     },
     "execution_count": 82,
     "metadata": {},
     "output_type": "execute_result"
    }
   ],
   "source": [
    "cst_trn_df['StoreID'].mode()"
   ]
  },
  {
   "cell_type": "code",
   "execution_count": 83,
   "id": "2685fc74-bdfc-496a-a6b4-f93633f9829b",
   "metadata": {},
   "outputs": [],
   "source": [
    "# Mode: Best used if -1.0 is intended as a placeholder or special value for missing entries.\n",
    "# Median: Could be used if you expect the StoreID values to be generally distributed around the median.\n",
    "# Mean: Typically not suitable for categorical or identifier columns due to its sensitivity to outliers.\n",
    "# In this case, filling with the mode seems the most logical choice, especially if -1.0 has specific significance in your dataset."
   ]
  },
  {
   "cell_type": "code",
   "execution_count": 84,
   "id": "01e82876-025b-4759-a655-e8def6e56d17",
   "metadata": {},
   "outputs": [],
   "source": [
    "# Using the Mode value if -1.0 is a placeholder or special flag for missing values. \n",
    "# This approach will preserve any inherent meaning of -1.0 in your dataset and is often the most \n",
    "# appropriate for categorical or identifier fields where such placeholder values are used."
   ]
  },
  {
   "cell_type": "code",
   "execution_count": 85,
   "id": "5476bc8c-169a-448d-9bc2-9a3bf59faf99",
   "metadata": {},
   "outputs": [
    {
     "data": {
      "text/plain": [
       "0           83.0\n",
       "1           83.0\n",
       "2           79.0\n",
       "3           79.0\n",
       "4            8.0\n",
       "           ...  \n",
       "1625388    258.0\n",
       "1625389    668.0\n",
       "1625390    717.0\n",
       "1625391    157.0\n",
       "1625392     -1.0\n",
       "Name: StoreID, Length: 1625393, dtype: float64"
      ]
     },
     "execution_count": 85,
     "metadata": {},
     "output_type": "execute_result"
    }
   ],
   "source": [
    "# Mode value based on your data\n",
    "mode_value = -1.0\n",
    "\n",
    "# Fill NaN values with the mode\n",
    "cst_trn_df['StoreID'] = cst_trn_df['StoreID'].fillna(mode_value)\n",
    "cst_trn_df['StoreID']"
   ]
  },
  {
   "cell_type": "code",
   "execution_count": 86,
   "id": "455dc082-9de4-49a7-8c21-c02ebc9b5f0d",
   "metadata": {},
   "outputs": [
    {
     "data": {
      "text/plain": [
       "0                A129\n",
       "1                A129\n",
       "2                A122\n",
       "3                A122\n",
       "4                A010\n",
       "              ...    \n",
       "1625388          A258\n",
       "1625389          A348\n",
       "1625390          A411\n",
       "1625391          A209\n",
       "1625392    DEFAULT_TN\n",
       "Name: StoreCode, Length: 1625393, dtype: object"
      ]
     },
     "execution_count": 86,
     "metadata": {},
     "output_type": "execute_result"
    }
   ],
   "source": [
    "# Fill missing values\n",
    "# Fill with 0: Use if 0 is a valid placeholder or if no other method is more appropriate.\n",
    "cst_trn_df['StoreCode'] = cst_trn_df['StoreCode'].fillna(0)  # or use ffill or bfill if applicable\n",
    "cst_trn_df['StoreCode']"
   ]
  },
  {
   "cell_type": "code",
   "execution_count": 87,
   "id": "6ebc0e41-07d6-4948-9997-18bdc89bcf10",
   "metadata": {},
   "outputs": [
    {
     "data": {
      "text/plain": [
       "0               Pune\n",
       "1               Pune\n",
       "2          Ghaziabad\n",
       "3          Ghaziabad\n",
       "4              Surat\n",
       "             ...    \n",
       "1625388    New Delhi\n",
       "1625389       Indore\n",
       "1625390    Ahmedabad\n",
       "1625391        Surat\n",
       "1625392      No city\n",
       "Name: StoreCity, Length: 1625393, dtype: object"
      ]
     },
     "execution_count": 87,
     "metadata": {},
     "output_type": "execute_result"
    }
   ],
   "source": [
    "cst_trn_df['StoreCity'] = cst_trn_df['StoreCity'].fillna('No city')\n",
    "cst_trn_df['StoreCity']"
   ]
  },
  {
   "cell_type": "code",
   "execution_count": 88,
   "id": "c8d8fdae-ce28-478f-8f82-a6d8945e5030",
   "metadata": {},
   "outputs": [
    {
     "data": {
      "text/plain": [
       "0             Maharashtra\n",
       "1             Maharashtra\n",
       "2               Delhi NCR\n",
       "3               Delhi NCR\n",
       "4                 Gujarat\n",
       "                ...      \n",
       "1625388         Delhi NCR\n",
       "1625389    Madhya Pradesh\n",
       "1625390           Gujarat\n",
       "1625391           Gujarat\n",
       "1625392          No state\n",
       "Name: StoreState, Length: 1625393, dtype: object"
      ]
     },
     "execution_count": 88,
     "metadata": {},
     "output_type": "execute_result"
    }
   ],
   "source": [
    "cst_trn_df['StoreState'] = cst_trn_df['StoreState'].fillna('No state')\n",
    "cst_trn_df['StoreState']"
   ]
  },
  {
   "cell_type": "code",
   "execution_count": 89,
   "id": "c73c91e3-ca11-40ef-8232-5ef8e1dc337b",
   "metadata": {},
   "outputs": [
    {
     "data": {
      "text/plain": [
       "0              411014\n",
       "1              411014\n",
       "2              201001\n",
       "3              201001\n",
       "4              395007\n",
       "              ...    \n",
       "1625388        110034\n",
       "1625389        452016\n",
       "1625390        382449\n",
       "1625391        395010\n",
       "1625392    No pincode\n",
       "Name: StorePincode, Length: 1625393, dtype: category\n",
       "Categories (290, object): ['110001', '110002', '110005', '110007', ..., '751024', '826004', '831001', 'No pincode']"
      ]
     },
     "execution_count": 89,
     "metadata": {},
     "output_type": "execute_result"
    }
   ],
   "source": [
    "# Add the new category\n",
    "cst_trn_df['StorePincode'] = cst_trn_df['StorePincode'].cat.add_categories('No pincode')\n",
    "\n",
    "# Fill NaN with the new category\n",
    "cst_trn_df['StorePincode'] = cst_trn_df['StorePincode'].fillna('No pincode')\n",
    "cst_trn_df['StorePincode']"
   ]
  },
  {
   "cell_type": "code",
   "execution_count": 90,
   "id": "88137048-1d7e-42c4-a22a-90c296322771",
   "metadata": {},
   "outputs": [
    {
     "data": {
      "text/plain": [
       "CustID                      0\n",
       "ItemDesc                    0\n",
       "MerchCategoryDescription    0\n",
       "MerchClassDescription       0\n",
       "MerchGroupDescription       0\n",
       "SaleValue                   0\n",
       "OrderedQuantity             0\n",
       "OrderDate                   0\n",
       "ReturnFlag                  0\n",
       "SalesChannelCode            0\n",
       "Ecom_BnM_Indicator          0\n",
       "StoreID                     0\n",
       "StoreCode                   0\n",
       "StoreCity                   0\n",
       "StoreState                  0\n",
       "StorePincode                0\n",
       "dtype: int64"
      ]
     },
     "execution_count": 90,
     "metadata": {},
     "output_type": "execute_result"
    }
   ],
   "source": [
    "cst_trn_df.isnull().sum()"
   ]
  },
  {
   "cell_type": "code",
   "execution_count": 91,
   "id": "8fafdc8b-ee01-479c-9d18-9e93a10585f8",
   "metadata": {},
   "outputs": [],
   "source": [
    "# Save DataFrame to CSV(to run in tableau)\n",
    "# cst_trn_df.to_csv('cst_trn_df.csv', index=False)"
   ]
  },
  {
   "cell_type": "code",
   "execution_count": null,
   "id": "289e8cb0-1cb1-492e-8146-75f93a879a20",
   "metadata": {},
   "outputs": [],
   "source": []
  },
  {
   "cell_type": "markdown",
   "id": "b7a990d8-2c7c-465f-ac47-b0c187b54f69",
   "metadata": {},
   "source": [
    "# Customer Reviews column name and data"
   ]
  },
  {
   "cell_type": "code",
   "execution_count": 92,
   "id": "973aad53-1ce3-4dc2-b164-6a695229c1bf",
   "metadata": {},
   "outputs": [
    {
     "data": {
      "text/html": [
       "<div>\n",
       "<style scoped>\n",
       "    .dataframe tbody tr th:only-of-type {\n",
       "        vertical-align: middle;\n",
       "    }\n",
       "\n",
       "    .dataframe tbody tr th {\n",
       "        vertical-align: top;\n",
       "    }\n",
       "\n",
       "    .dataframe thead th {\n",
       "        text-align: right;\n",
       "    }\n",
       "</style>\n",
       "<table border=\"1\" class=\"dataframe\">\n",
       "  <thead>\n",
       "    <tr style=\"text-align: right;\">\n",
       "      <th></th>\n",
       "      <th>UID</th>\n",
       "      <th>group_description</th>\n",
       "      <th>category_description</th>\n",
       "      <th>product_description</th>\n",
       "      <th>city</th>\n",
       "      <th>Feedback</th>\n",
       "    </tr>\n",
       "  </thead>\n",
       "  <tbody>\n",
       "    <tr>\n",
       "      <th>0</th>\n",
       "      <td>1</td>\n",
       "      <td>Large Appliances</td>\n",
       "      <td>Washing Machines</td>\n",
       "      <td>LG W/M FL 6KG FHT1006ZNW WHT 5S</td>\n",
       "      <td>Faridabad</td>\n",
       "      <td>NaN</td>\n",
       "    </tr>\n",
       "    <tr>\n",
       "      <th>1</th>\n",
       "      <td>2</td>\n",
       "      <td>Entertainment</td>\n",
       "      <td>TV LCD</td>\n",
       "      <td>Croma Led HDR FireTv 32in EL7364 3Yr Wty</td>\n",
       "      <td>Surat</td>\n",
       "      <td>NaN</td>\n",
       "    </tr>\n",
       "    <tr>\n",
       "      <th>2</th>\n",
       "      <td>3</td>\n",
       "      <td>Large Appliances</td>\n",
       "      <td>Air Conditioners</td>\n",
       "      <td>LG INV/AC 1.5T MSQ18SWZD WF 5S</td>\n",
       "      <td>Ahmedabad</td>\n",
       "      <td>Very good service</td>\n",
       "    </tr>\n",
       "    <tr>\n",
       "      <th>3</th>\n",
       "      <td>4</td>\n",
       "      <td>Large Appliances</td>\n",
       "      <td>Air Conditioners</td>\n",
       "      <td>LG INV/AC 1.5T MSQ18ANZA 5S</td>\n",
       "      <td>Ahmedabad</td>\n",
       "      <td>NaN</td>\n",
       "    </tr>\n",
       "    <tr>\n",
       "      <th>4</th>\n",
       "      <td>5</td>\n",
       "      <td>Large Appliances</td>\n",
       "      <td>Air Conditioners</td>\n",
       "      <td>LG W/AC INV 1T JW-Q12WUZA 5S</td>\n",
       "      <td>Chennai</td>\n",
       "      <td>Quick and to the point service</td>\n",
       "    </tr>\n",
       "  </tbody>\n",
       "</table>\n",
       "</div>"
      ],
      "text/plain": [
       "   UID group_description category_description  \\\n",
       "0    1  Large Appliances     Washing Machines   \n",
       "1    2     Entertainment               TV LCD   \n",
       "2    3  Large Appliances     Air Conditioners   \n",
       "3    4  Large Appliances     Air Conditioners   \n",
       "4    5  Large Appliances     Air Conditioners   \n",
       "\n",
       "                        product_description       city  \\\n",
       "0           LG W/M FL 6KG FHT1006ZNW WHT 5S  Faridabad   \n",
       "1  Croma Led HDR FireTv 32in EL7364 3Yr Wty      Surat   \n",
       "2            LG INV/AC 1.5T MSQ18SWZD WF 5S  Ahmedabad   \n",
       "3               LG INV/AC 1.5T MSQ18ANZA 5S  Ahmedabad   \n",
       "4              LG W/AC INV 1T JW-Q12WUZA 5S    Chennai   \n",
       "\n",
       "                          Feedback  \n",
       "0                              NaN  \n",
       "1                              NaN  \n",
       "2               Very good service   \n",
       "3                              NaN  \n",
       "4  Quick and to the point service   "
      ]
     },
     "execution_count": 92,
     "metadata": {},
     "output_type": "execute_result"
    }
   ],
   "source": [
    "cust_df.head()"
   ]
  },
  {
   "cell_type": "code",
   "execution_count": 93,
   "id": "0ee4480d-9847-41b1-b8fc-a54fbb8ee9b8",
   "metadata": {},
   "outputs": [
    {
     "name": "stdout",
     "output_type": "stream",
     "text": [
      "<class 'pandas.core.frame.DataFrame'>\n",
      "RangeIndex: 849965 entries, 0 to 849964\n",
      "Data columns (total 6 columns):\n",
      " #   Column                Non-Null Count   Dtype \n",
      "---  ------                --------------   ----- \n",
      " 0   UID                   849965 non-null  int64 \n",
      " 1   group_description     849965 non-null  object\n",
      " 2   category_description  849965 non-null  object\n",
      " 3   product_description   849963 non-null  object\n",
      " 4   city                  849965 non-null  object\n",
      " 5   Feedback              715296 non-null  object\n",
      "dtypes: int64(1), object(5)\n",
      "memory usage: 38.9+ MB\n"
     ]
    }
   ],
   "source": [
    "cust_df.info()"
   ]
  },
  {
   "cell_type": "code",
   "execution_count": 94,
   "id": "d7ce7949-d53d-41b8-b5c6-c4a242965833",
   "metadata": {},
   "outputs": [
    {
     "data": {
      "text/plain": [
       "UID                          0\n",
       "group_description            0\n",
       "category_description         0\n",
       "product_description          2\n",
       "city                         0\n",
       "Feedback                134669\n",
       "dtype: int64"
      ]
     },
     "execution_count": 94,
     "metadata": {},
     "output_type": "execute_result"
    }
   ],
   "source": [
    "cust_df.isnull().sum()"
   ]
  },
  {
   "cell_type": "code",
   "execution_count": 95,
   "id": "b4ea982d-0a74-45ea-8e46-7c664284f249",
   "metadata": {},
   "outputs": [
    {
     "data": {
      "text/plain": [
       "0                  LG W/M FL 6KG FHT1006ZNW WHT 5S\n",
       "1         Croma Led HDR FireTv 32in EL7364 3Yr Wty\n",
       "2                   LG INV/AC 1.5T MSQ18SWZD WF 5S\n",
       "3                      LG INV/AC 1.5T MSQ18ANZA 5S\n",
       "4                     LG W/AC INV 1T JW-Q12WUZA 5S\n",
       "                            ...                   \n",
       "849960     Pebble PBCC10 Type C/USB Charging 1m Wh\n",
       "849961              Boat BT Ephone Rockerz255R Blk\n",
       "849962       Asus 15 BQ562TS 11Gi5 8GBN 512SSD +OF\n",
       "849963          Oneplus Nord2 5G (12GB+256GB) Grey\n",
       "849964     Croma MicUSB braided Cbl CRCMA0104sMU12\n",
       "Name: product_description, Length: 849965, dtype: object"
      ]
     },
     "execution_count": 95,
     "metadata": {},
     "output_type": "execute_result"
    }
   ],
   "source": [
    "# Fill null values with a placeholder text\n",
    "cust_df['product_description'] = cust_df['product_description'].fillna('Description not available')\n",
    "cust_df['product_description']"
   ]
  },
  {
   "cell_type": "code",
   "execution_count": 96,
   "id": "0ac99b5b-7aa3-43c4-8552-cb6944f9d858",
   "metadata": {},
   "outputs": [
    {
     "data": {
      "text/html": [
       "<div>\n",
       "<style scoped>\n",
       "    .dataframe tbody tr th:only-of-type {\n",
       "        vertical-align: middle;\n",
       "    }\n",
       "\n",
       "    .dataframe tbody tr th {\n",
       "        vertical-align: top;\n",
       "    }\n",
       "\n",
       "    .dataframe thead th {\n",
       "        text-align: right;\n",
       "    }\n",
       "</style>\n",
       "<table border=\"1\" class=\"dataframe\">\n",
       "  <thead>\n",
       "    <tr style=\"text-align: right;\">\n",
       "      <th></th>\n",
       "      <th>UID</th>\n",
       "      <th>group_description</th>\n",
       "      <th>category_description</th>\n",
       "      <th>product_description</th>\n",
       "      <th>city</th>\n",
       "      <th>Feedback</th>\n",
       "    </tr>\n",
       "  </thead>\n",
       "  <tbody>\n",
       "    <tr>\n",
       "      <th>0</th>\n",
       "      <td>1</td>\n",
       "      <td>Large Appliances</td>\n",
       "      <td>Washing Machines</td>\n",
       "      <td>LG W/M FL 6KG FHT1006ZNW WHT 5S</td>\n",
       "      <td>Faridabad</td>\n",
       "      <td>NaN</td>\n",
       "    </tr>\n",
       "    <tr>\n",
       "      <th>1</th>\n",
       "      <td>2</td>\n",
       "      <td>Entertainment</td>\n",
       "      <td>TV LCD</td>\n",
       "      <td>Croma Led HDR FireTv 32in EL7364 3Yr Wty</td>\n",
       "      <td>Surat</td>\n",
       "      <td>NaN</td>\n",
       "    </tr>\n",
       "    <tr>\n",
       "      <th>2</th>\n",
       "      <td>3</td>\n",
       "      <td>Large Appliances</td>\n",
       "      <td>Air Conditioners</td>\n",
       "      <td>LG INV/AC 1.5T MSQ18SWZD WF 5S</td>\n",
       "      <td>Ahmedabad</td>\n",
       "      <td>Very good service</td>\n",
       "    </tr>\n",
       "    <tr>\n",
       "      <th>3</th>\n",
       "      <td>4</td>\n",
       "      <td>Large Appliances</td>\n",
       "      <td>Air Conditioners</td>\n",
       "      <td>LG INV/AC 1.5T MSQ18ANZA 5S</td>\n",
       "      <td>Ahmedabad</td>\n",
       "      <td>NaN</td>\n",
       "    </tr>\n",
       "    <tr>\n",
       "      <th>4</th>\n",
       "      <td>5</td>\n",
       "      <td>Large Appliances</td>\n",
       "      <td>Air Conditioners</td>\n",
       "      <td>LG W/AC INV 1T JW-Q12WUZA 5S</td>\n",
       "      <td>Chennai</td>\n",
       "      <td>Quick and to the point service</td>\n",
       "    </tr>\n",
       "    <tr>\n",
       "      <th>...</th>\n",
       "      <td>...</td>\n",
       "      <td>...</td>\n",
       "      <td>...</td>\n",
       "      <td>...</td>\n",
       "      <td>...</td>\n",
       "      <td>...</td>\n",
       "    </tr>\n",
       "    <tr>\n",
       "      <th>849960</th>\n",
       "      <td>849961</td>\n",
       "      <td>Communication</td>\n",
       "      <td>Phones Mobile Accessories</td>\n",
       "      <td>Pebble PBCC10 Type C/USB Charging 1m Wh</td>\n",
       "      <td>Baroda</td>\n",
       "      <td>The salesman Mr. Vivek (looking after computer...</td>\n",
       "    </tr>\n",
       "    <tr>\n",
       "      <th>849961</th>\n",
       "      <td>849962</td>\n",
       "      <td>Entertainment</td>\n",
       "      <td>Earphones/Headphones</td>\n",
       "      <td>Boat BT Ephone Rockerz255R Blk</td>\n",
       "      <td>Pune</td>\n",
       "      <td>Staffs behaviour and support is very good</td>\n",
       "    </tr>\n",
       "    <tr>\n",
       "      <th>849962</th>\n",
       "      <td>849963</td>\n",
       "      <td>Computers Peripherals</td>\n",
       "      <td>Mobile Computing</td>\n",
       "      <td>Asus 15 BQ562TS 11Gi5 8GBN 512SSD +OF</td>\n",
       "      <td>Ahmedabad</td>\n",
       "      <td>Nice service</td>\n",
       "    </tr>\n",
       "    <tr>\n",
       "      <th>849963</th>\n",
       "      <td>849964</td>\n",
       "      <td>Communication</td>\n",
       "      <td>Smart Phones (OS Based)</td>\n",
       "      <td>Oneplus Nord2 5G (12GB+256GB) Grey</td>\n",
       "      <td>Bangalore</td>\n",
       "      <td>NaN</td>\n",
       "    </tr>\n",
       "    <tr>\n",
       "      <th>849964</th>\n",
       "      <td>849965</td>\n",
       "      <td>Communication</td>\n",
       "      <td>Phones Mobile Accessories</td>\n",
       "      <td>Croma MicUSB braided Cbl CRCMA0104sMU12</td>\n",
       "      <td>Jamnagar</td>\n",
       "      <td>......</td>\n",
       "    </tr>\n",
       "  </tbody>\n",
       "</table>\n",
       "<p>849965 rows × 6 columns</p>\n",
       "</div>"
      ],
      "text/plain": [
       "           UID      group_description       category_description  \\\n",
       "0            1       Large Appliances           Washing Machines   \n",
       "1            2          Entertainment                     TV LCD   \n",
       "2            3       Large Appliances           Air Conditioners   \n",
       "3            4       Large Appliances           Air Conditioners   \n",
       "4            5       Large Appliances           Air Conditioners   \n",
       "...        ...                    ...                        ...   \n",
       "849960  849961          Communication  Phones Mobile Accessories   \n",
       "849961  849962          Entertainment       Earphones/Headphones   \n",
       "849962  849963  Computers Peripherals           Mobile Computing   \n",
       "849963  849964          Communication    Smart Phones (OS Based)   \n",
       "849964  849965          Communication  Phones Mobile Accessories   \n",
       "\n",
       "                             product_description       city  \\\n",
       "0                LG W/M FL 6KG FHT1006ZNW WHT 5S  Faridabad   \n",
       "1       Croma Led HDR FireTv 32in EL7364 3Yr Wty      Surat   \n",
       "2                 LG INV/AC 1.5T MSQ18SWZD WF 5S  Ahmedabad   \n",
       "3                    LG INV/AC 1.5T MSQ18ANZA 5S  Ahmedabad   \n",
       "4                   LG W/AC INV 1T JW-Q12WUZA 5S    Chennai   \n",
       "...                                          ...        ...   \n",
       "849960   Pebble PBCC10 Type C/USB Charging 1m Wh     Baroda   \n",
       "849961            Boat BT Ephone Rockerz255R Blk       Pune   \n",
       "849962     Asus 15 BQ562TS 11Gi5 8GBN 512SSD +OF  Ahmedabad   \n",
       "849963        Oneplus Nord2 5G (12GB+256GB) Grey  Bangalore   \n",
       "849964   Croma MicUSB braided Cbl CRCMA0104sMU12   Jamnagar   \n",
       "\n",
       "                                                 Feedback  \n",
       "0                                                     NaN  \n",
       "1                                                     NaN  \n",
       "2                                      Very good service   \n",
       "3                                                     NaN  \n",
       "4                         Quick and to the point service   \n",
       "...                                                   ...  \n",
       "849960  The salesman Mr. Vivek (looking after computer...  \n",
       "849961         Staffs behaviour and support is very good   \n",
       "849962                                       Nice service  \n",
       "849963                                                NaN  \n",
       "849964                                             ......  \n",
       "\n",
       "[849965 rows x 6 columns]"
      ]
     },
     "execution_count": 96,
     "metadata": {},
     "output_type": "execute_result"
    }
   ],
   "source": [
    "cust_df"
   ]
  },
  {
   "cell_type": "code",
   "execution_count": 97,
   "id": "a4d2e5c7-9932-4dc5-8d23-a79d84d74d10",
   "metadata": {},
   "outputs": [],
   "source": [
    "# to replace all the nan values i have use the forward and backward fill to this column"
   ]
  },
  {
   "cell_type": "code",
   "execution_count": 98,
   "id": "5cc005b9-ce1b-452b-959b-c6e6321903c6",
   "metadata": {},
   "outputs": [
    {
     "data": {
      "text/plain": [
       "0                                                       NaN\n",
       "1                                                       NaN\n",
       "2                                        Very good service \n",
       "3                                        Very good service \n",
       "4                           Quick and to the point service \n",
       "                                ...                        \n",
       "849960    The salesman Mr. Vivek (looking after computer...\n",
       "849961           Staffs behaviour and support is very good \n",
       "849962                                         Nice service\n",
       "849963                                         Nice service\n",
       "849964                                               ......\n",
       "Name: Feedback, Length: 849965, dtype: object"
      ]
     },
     "execution_count": 98,
     "metadata": {},
     "output_type": "execute_result"
    }
   ],
   "source": [
    "cust_df['Feedback'] = cust_df['Feedback'].fillna(method='ffill')  # forward fill\n",
    "cust_df['Feedback']"
   ]
  },
  {
   "cell_type": "code",
   "execution_count": 99,
   "id": "3e552ce5-9e20-40f7-a1e4-cb5e452420c9",
   "metadata": {},
   "outputs": [
    {
     "data": {
      "text/plain": [
       "Feedback\n",
       "Good service                                                                                                                                                                                                                                                                                                                                                                                    26515\n",
       "Very good                                                                                                                                                                                                                                                                                                                                                                                       14833\n",
       "Good service                                                                                                                                                                                                                                                                                                                                                                                    12444\n",
       "Good experience                                                                                                                                                                                                                                                                                                                                                                                 11263\n",
       "Excellent                                                                                                                                                                                                                                                                                                                                                                                       10963\n",
       "                                                                                                                                                                                                                                                                                                                                                                                                ...  \n",
       "Very friendly professional service. The person who guided me in purchasing the mobile phone was very polite and helped me to make my decision easy. The mobile I purchased was the Samsung Galaxy A31. Kudos to the sales rep who assisted. I regret not asking what his name was. Either ways he is a hard worker and definitely deserves a raise and if not, better opportunities in life.        1\n",
       "Nice service and good offers                                                                                                                                                                                                                                                                                                                                                                        1\n",
       "my experience was great , the staff was very friendly and helpful                                                                                                                                                                                                                                                                                                                                   1\n",
       "your service responce very wll                                                                                                                                                                                                                                                                                                                                                                      1\n",
       "I think good                                                                                                                                                                                                                                                                                                                                                                                        1\n",
       "Name: count, Length: 27349, dtype: int64"
      ]
     },
     "execution_count": 99,
     "metadata": {},
     "output_type": "execute_result"
    }
   ],
   "source": [
    "cust_df['Feedback'].value_counts()"
   ]
  },
  {
   "cell_type": "code",
   "execution_count": 100,
   "id": "5369b7d8-b0d4-4481-a10d-488a075ab8fe",
   "metadata": {},
   "outputs": [
    {
     "data": {
      "text/plain": [
       "0                                        Very good service \n",
       "1                                        Very good service \n",
       "2                                        Very good service \n",
       "3                                        Very good service \n",
       "4                           Quick and to the point service \n",
       "                                ...                        \n",
       "849960    The salesman Mr. Vivek (looking after computer...\n",
       "849961           Staffs behaviour and support is very good \n",
       "849962                                         Nice service\n",
       "849963                                         Nice service\n",
       "849964                                               ......\n",
       "Name: Feedback, Length: 849965, dtype: object"
      ]
     },
     "execution_count": 100,
     "metadata": {},
     "output_type": "execute_result"
    }
   ],
   "source": [
    "cust_df['Feedback'] = cust_df['Feedback'].fillna(method='bfill') #backward fill\n",
    "cust_df['Feedback']"
   ]
  },
  {
   "cell_type": "code",
   "execution_count": 101,
   "id": "eb48baca-5d1b-4b1d-9aae-c7036c071d10",
   "metadata": {},
   "outputs": [
    {
     "data": {
      "text/plain": [
       "0"
      ]
     },
     "execution_count": 101,
     "metadata": {},
     "output_type": "execute_result"
    }
   ],
   "source": [
    "cust_df['Feedback'].isnull().sum()"
   ]
  },
  {
   "cell_type": "code",
   "execution_count": null,
   "id": "d4205948-404c-4794-983f-224f7adc2eaf",
   "metadata": {},
   "outputs": [],
   "source": []
  },
  {
   "cell_type": "code",
   "execution_count": null,
   "id": "57ebc3e0-1d50-481c-a60d-7e71587825a0",
   "metadata": {},
   "outputs": [],
   "source": []
  },
  {
   "cell_type": "markdown",
   "id": "a38bbca2-aa44-4278-a0d1-53809b04e85b",
   "metadata": {},
   "source": [
    "# Customer_Delivery_Data  column name and data"
   ]
  },
  {
   "cell_type": "code",
   "execution_count": 102,
   "id": "9c3de073-4290-4fc3-9722-5983f8023947",
   "metadata": {},
   "outputs": [
    {
     "data": {
      "text/html": [
       "<div>\n",
       "<style scoped>\n",
       "    .dataframe tbody tr th:only-of-type {\n",
       "        vertical-align: middle;\n",
       "    }\n",
       "\n",
       "    .dataframe tbody tr th {\n",
       "        vertical-align: top;\n",
       "    }\n",
       "\n",
       "    .dataframe thead th {\n",
       "        text-align: right;\n",
       "    }\n",
       "</style>\n",
       "<table border=\"1\" class=\"dataframe\">\n",
       "  <thead>\n",
       "    <tr style=\"text-align: right;\">\n",
       "      <th></th>\n",
       "      <th>orderdate</th>\n",
       "      <th>articletype</th>\n",
       "      <th>originalreqdeliverydate</th>\n",
       "      <th>currentstatus</th>\n",
       "      <th>currentstatustimestamp</th>\n",
       "      <th>sale_timestamp</th>\n",
       "      <th>readytopick_timestamp</th>\n",
       "      <th>readytoship_timestamp</th>\n",
       "      <th>packed_timestamp</th>\n",
       "      <th>connecttocarrier_timestamp</th>\n",
       "      <th>...</th>\n",
       "      <th>outfordelivery_timestamp</th>\n",
       "      <th>delivered_timestamp</th>\n",
       "      <th>articlename</th>\n",
       "      <th>merchcategorydescription</th>\n",
       "      <th>merchclassdescription</th>\n",
       "      <th>merchgroupdescription</th>\n",
       "      <th>itemdesc</th>\n",
       "      <th>shiptozipcode</th>\n",
       "      <th>shiptocity</th>\n",
       "      <th>shiptostate</th>\n",
       "    </tr>\n",
       "  </thead>\n",
       "  <tbody>\n",
       "    <tr>\n",
       "      <th>0</th>\n",
       "      <td>2022-11-15</td>\n",
       "      <td>ZPLU</td>\n",
       "      <td>21-11-2022 00:00</td>\n",
       "      <td>Order Delivered</td>\n",
       "      <td>17-11-2022 19:00</td>\n",
       "      <td>15-11-2022 18:39</td>\n",
       "      <td>15-11-2022 20:53</td>\n",
       "      <td>16-11-2022 08:15</td>\n",
       "      <td>16-11-2022 08:23</td>\n",
       "      <td>16-11-2022 08:24</td>\n",
       "      <td>...</td>\n",
       "      <td>17-11-2022 19:00</td>\n",
       "      <td>17-11-2022 19:00</td>\n",
       "      <td>Lenovo 10.3 Tab X606V 2ndG 4+128GB Grey</td>\n",
       "      <td>Tablets &amp; Detachables - D</td>\n",
       "      <td>Tablets &amp; Detachables</td>\n",
       "      <td>Computers Peripherals</td>\n",
       "      <td>Lenovo 10.3 Tab X606V 2ndG 4+128GB Grey</td>\n",
       "      <td>226010.0</td>\n",
       "      <td>LUCKNOW</td>\n",
       "      <td>Uttar Pradesh</td>\n",
       "    </tr>\n",
       "    <tr>\n",
       "      <th>1</th>\n",
       "      <td>2022-11-16</td>\n",
       "      <td>ZPLU</td>\n",
       "      <td>16-11-2022 00:00</td>\n",
       "      <td>Order Delivered</td>\n",
       "      <td>19-11-2022 13:28</td>\n",
       "      <td>16-11-2022 17:30</td>\n",
       "      <td>16-11-2022 18:25</td>\n",
       "      <td>16-11-2022 19:34</td>\n",
       "      <td>16-11-2022 20:51</td>\n",
       "      <td>16-11-2022 20:51</td>\n",
       "      <td>...</td>\n",
       "      <td>19-11-2022 11:44</td>\n",
       "      <td>19-11-2022 13:28</td>\n",
       "      <td>SAMSUNG FF 253L RT28T3042S8/NL EL INX 2S</td>\n",
       "      <td>Refrigerator Frost Free &lt;300L</td>\n",
       "      <td>Refrigerators</td>\n",
       "      <td>Large Appliances</td>\n",
       "      <td>SAMSUNG FF 253L RT28T3042S8/NL EL INX 2S</td>\n",
       "      <td>389350.0</td>\n",
       "      <td>HALOL</td>\n",
       "      <td>Gujarat</td>\n",
       "    </tr>\n",
       "    <tr>\n",
       "      <th>2</th>\n",
       "      <td>2022-11-16</td>\n",
       "      <td>ZPLU</td>\n",
       "      <td>16-11-2022 00:00</td>\n",
       "      <td>Order Delivered</td>\n",
       "      <td>21-11-2022 17:34</td>\n",
       "      <td>16-11-2022 17:59</td>\n",
       "      <td>16-11-2022 19:51</td>\n",
       "      <td>16-11-2022 23:41</td>\n",
       "      <td>17-11-2022 01:54</td>\n",
       "      <td>17-11-2022 01:54</td>\n",
       "      <td>...</td>\n",
       "      <td>21-11-2022 13:13</td>\n",
       "      <td>21-11-2022 17:34</td>\n",
       "      <td>BOAT 2.1Ch Soundbar Aavante 1550 RTL</td>\n",
       "      <td>Sound Bars_H</td>\n",
       "      <td>Home Theatre</td>\n",
       "      <td>Entertainment</td>\n",
       "      <td>BOAT 2.1Ch Soundbar Aavante 1550 RTL</td>\n",
       "      <td>493221.0</td>\n",
       "      <td>RAIPUR</td>\n",
       "      <td>Chhattisgarh</td>\n",
       "    </tr>\n",
       "    <tr>\n",
       "      <th>3</th>\n",
       "      <td>2022-11-16</td>\n",
       "      <td>ZPLU</td>\n",
       "      <td>16-11-2022 00:00</td>\n",
       "      <td>Order Delivered</td>\n",
       "      <td>18-11-2022 15:24</td>\n",
       "      <td>16-11-2022 22:22</td>\n",
       "      <td>17-11-2022 02:22</td>\n",
       "      <td>17-11-2022 03:40</td>\n",
       "      <td>17-11-2022 05:10</td>\n",
       "      <td>17-11-2022 05:10</td>\n",
       "      <td>...</td>\n",
       "      <td>18-11-2022 12:53</td>\n",
       "      <td>18-11-2022 15:24</td>\n",
       "      <td>Croma LedFHD OA 40in 1Y CREL040FOF024601</td>\n",
       "      <td>LED Panels 40\"</td>\n",
       "      <td>TV LCD</td>\n",
       "      <td>Entertainment</td>\n",
       "      <td>E-Croma LedFHD OA40in1Y CREL040FOF024601</td>\n",
       "      <td>250001.0</td>\n",
       "      <td>MEERUT</td>\n",
       "      <td>Uttar Pradesh</td>\n",
       "    </tr>\n",
       "    <tr>\n",
       "      <th>4</th>\n",
       "      <td>2022-11-16</td>\n",
       "      <td>ZPLU</td>\n",
       "      <td>16-11-2022 00:00</td>\n",
       "      <td>Order Delivered</td>\n",
       "      <td>17-11-2022 18:36</td>\n",
       "      <td>16-11-2022 22:14</td>\n",
       "      <td>16-11-2022 23:20</td>\n",
       "      <td>16-11-2022 23:45</td>\n",
       "      <td>17-11-2022 07:48</td>\n",
       "      <td>17-11-2022 07:48</td>\n",
       "      <td>...</td>\n",
       "      <td>17-11-2022 08:58</td>\n",
       "      <td>17-11-2022 18:36</td>\n",
       "      <td>Croma LedFHD OA 40in 1Y CREL040FOF024601</td>\n",
       "      <td>LED Panels 40\"</td>\n",
       "      <td>TV LCD</td>\n",
       "      <td>Entertainment</td>\n",
       "      <td>E-Croma LedFHD OA40in1Y CREL040FOF024601</td>\n",
       "      <td>711102.0</td>\n",
       "      <td>HOWRAH</td>\n",
       "      <td>West Bengal</td>\n",
       "    </tr>\n",
       "  </tbody>\n",
       "</table>\n",
       "<p>5 rows × 22 columns</p>\n",
       "</div>"
      ],
      "text/plain": [
       "    orderdate articletype originalreqdeliverydate    currentstatus  \\\n",
       "0  2022-11-15        ZPLU        21-11-2022 00:00  Order Delivered   \n",
       "1  2022-11-16        ZPLU        16-11-2022 00:00  Order Delivered   \n",
       "2  2022-11-16        ZPLU        16-11-2022 00:00  Order Delivered   \n",
       "3  2022-11-16        ZPLU        16-11-2022 00:00  Order Delivered   \n",
       "4  2022-11-16        ZPLU        16-11-2022 00:00  Order Delivered   \n",
       "\n",
       "  currentstatustimestamp    sale_timestamp readytopick_timestamp  \\\n",
       "0       17-11-2022 19:00  15-11-2022 18:39      15-11-2022 20:53   \n",
       "1       19-11-2022 13:28  16-11-2022 17:30      16-11-2022 18:25   \n",
       "2       21-11-2022 17:34  16-11-2022 17:59      16-11-2022 19:51   \n",
       "3       18-11-2022 15:24  16-11-2022 22:22      17-11-2022 02:22   \n",
       "4       17-11-2022 18:36  16-11-2022 22:14      16-11-2022 23:20   \n",
       "\n",
       "  readytoship_timestamp  packed_timestamp connecttocarrier_timestamp  ...  \\\n",
       "0      16-11-2022 08:15  16-11-2022 08:23           16-11-2022 08:24  ...   \n",
       "1      16-11-2022 19:34  16-11-2022 20:51           16-11-2022 20:51  ...   \n",
       "2      16-11-2022 23:41  17-11-2022 01:54           17-11-2022 01:54  ...   \n",
       "3      17-11-2022 03:40  17-11-2022 05:10           17-11-2022 05:10  ...   \n",
       "4      16-11-2022 23:45  17-11-2022 07:48           17-11-2022 07:48  ...   \n",
       "\n",
       "  outfordelivery_timestamp delivered_timestamp  \\\n",
       "0         17-11-2022 19:00    17-11-2022 19:00   \n",
       "1         19-11-2022 11:44    19-11-2022 13:28   \n",
       "2         21-11-2022 13:13    21-11-2022 17:34   \n",
       "3         18-11-2022 12:53    18-11-2022 15:24   \n",
       "4         17-11-2022 08:58    17-11-2022 18:36   \n",
       "\n",
       "                                articlename       merchcategorydescription  \\\n",
       "0   Lenovo 10.3 Tab X606V 2ndG 4+128GB Grey      Tablets & Detachables - D   \n",
       "1  SAMSUNG FF 253L RT28T3042S8/NL EL INX 2S  Refrigerator Frost Free <300L   \n",
       "2      BOAT 2.1Ch Soundbar Aavante 1550 RTL                   Sound Bars_H   \n",
       "3  Croma LedFHD OA 40in 1Y CREL040FOF024601                 LED Panels 40\"   \n",
       "4  Croma LedFHD OA 40in 1Y CREL040FOF024601                 LED Panels 40\"   \n",
       "\n",
       "   merchclassdescription  merchgroupdescription  \\\n",
       "0  Tablets & Detachables  Computers Peripherals   \n",
       "1          Refrigerators       Large Appliances   \n",
       "2           Home Theatre          Entertainment   \n",
       "3                 TV LCD          Entertainment   \n",
       "4                 TV LCD          Entertainment   \n",
       "\n",
       "                                   itemdesc shiptozipcode shiptocity  \\\n",
       "0   Lenovo 10.3 Tab X606V 2ndG 4+128GB Grey      226010.0    LUCKNOW   \n",
       "1  SAMSUNG FF 253L RT28T3042S8/NL EL INX 2S      389350.0      HALOL   \n",
       "2      BOAT 2.1Ch Soundbar Aavante 1550 RTL      493221.0     RAIPUR   \n",
       "3  E-Croma LedFHD OA40in1Y CREL040FOF024601      250001.0     MEERUT   \n",
       "4  E-Croma LedFHD OA40in1Y CREL040FOF024601      711102.0     HOWRAH   \n",
       "\n",
       "     shiptostate  \n",
       "0  Uttar Pradesh  \n",
       "1        Gujarat  \n",
       "2   Chhattisgarh  \n",
       "3  Uttar Pradesh  \n",
       "4    West Bengal  \n",
       "\n",
       "[5 rows x 22 columns]"
      ]
     },
     "execution_count": 102,
     "metadata": {},
     "output_type": "execute_result"
    }
   ],
   "source": [
    "deliv_df.head()"
   ]
  },
  {
   "cell_type": "code",
   "execution_count": 103,
   "id": "b18131a2-e719-4346-a38b-0c016802023e",
   "metadata": {},
   "outputs": [
    {
     "data": {
      "text/plain": [
       "Index(['orderdate', 'articletype', 'originalreqdeliverydate', 'currentstatus',\n",
       "       'currentstatustimestamp', 'sale_timestamp', 'readytopick_timestamp',\n",
       "       'readytoship_timestamp', 'packed_timestamp',\n",
       "       'connecttocarrier_timestamp', 'handedovertocarrier_timestamp',\n",
       "       'deliveryinprogress_timestamp', 'outfordelivery_timestamp',\n",
       "       'delivered_timestamp', 'articlename', 'merchcategorydescription',\n",
       "       'merchclassdescription', 'merchgroupdescription', 'itemdesc',\n",
       "       'shiptozipcode', 'shiptocity', 'shiptostate'],\n",
       "      dtype='object')"
      ]
     },
     "execution_count": 103,
     "metadata": {},
     "output_type": "execute_result"
    }
   ],
   "source": [
    "deliv_df.columns"
   ]
  },
  {
   "cell_type": "code",
   "execution_count": 104,
   "id": "5e0691c6-9a5f-40f2-9ec4-8546dfb4b107",
   "metadata": {},
   "outputs": [
    {
     "name": "stdout",
     "output_type": "stream",
     "text": [
      "<class 'pandas.core.frame.DataFrame'>\n",
      "RangeIndex: 232536 entries, 0 to 232535\n",
      "Data columns (total 22 columns):\n",
      " #   Column                         Non-Null Count   Dtype  \n",
      "---  ------                         --------------   -----  \n",
      " 0   orderdate                      232536 non-null  object \n",
      " 1   articletype                    232536 non-null  object \n",
      " 2   originalreqdeliverydate        227834 non-null  object \n",
      " 3   currentstatus                  232536 non-null  object \n",
      " 4   currentstatustimestamp         232536 non-null  object \n",
      " 5   sale_timestamp                 69007 non-null   object \n",
      " 6   readytopick_timestamp          52446 non-null   object \n",
      " 7   readytoship_timestamp          50458 non-null   object \n",
      " 8   packed_timestamp               51825 non-null   object \n",
      " 9   connecttocarrier_timestamp     51554 non-null   object \n",
      " 10  handedovertocarrier_timestamp  51390 non-null   object \n",
      " 11  deliveryinprogress_timestamp   50589 non-null   object \n",
      " 12  outfordelivery_timestamp       51615 non-null   object \n",
      " 13  delivered_timestamp            232536 non-null  object \n",
      " 14  articlename                    215962 non-null  object \n",
      " 15  merchcategorydescription       220055 non-null  object \n",
      " 16  merchclassdescription          220055 non-null  object \n",
      " 17  merchgroupdescription          220055 non-null  object \n",
      " 18  itemdesc                       220355 non-null  object \n",
      " 19  shiptozipcode                  220329 non-null  float64\n",
      " 20  shiptocity                     220045 non-null  object \n",
      " 21  shiptostate                    220033 non-null  object \n",
      "dtypes: float64(1), object(21)\n",
      "memory usage: 39.0+ MB\n"
     ]
    }
   ],
   "source": [
    "deliv_df.info()"
   ]
  },
  {
   "cell_type": "code",
   "execution_count": 105,
   "id": "871e821b-50eb-4a8f-9ab1-fbb52b3acca3",
   "metadata": {},
   "outputs": [
    {
     "data": {
      "text/html": [
       "<div>\n",
       "<style scoped>\n",
       "    .dataframe tbody tr th:only-of-type {\n",
       "        vertical-align: middle;\n",
       "    }\n",
       "\n",
       "    .dataframe tbody tr th {\n",
       "        vertical-align: top;\n",
       "    }\n",
       "\n",
       "    .dataframe thead th {\n",
       "        text-align: right;\n",
       "    }\n",
       "</style>\n",
       "<table border=\"1\" class=\"dataframe\">\n",
       "  <thead>\n",
       "    <tr style=\"text-align: right;\">\n",
       "      <th></th>\n",
       "      <th>shiptozipcode</th>\n",
       "    </tr>\n",
       "  </thead>\n",
       "  <tbody>\n",
       "    <tr>\n",
       "      <th>count</th>\n",
       "      <td>220329.000000</td>\n",
       "    </tr>\n",
       "    <tr>\n",
       "      <th>mean</th>\n",
       "      <td>381302.998915</td>\n",
       "    </tr>\n",
       "    <tr>\n",
       "      <th>std</th>\n",
       "      <td>171219.802698</td>\n",
       "    </tr>\n",
       "    <tr>\n",
       "      <th>min</th>\n",
       "      <td>110001.000000</td>\n",
       "    </tr>\n",
       "    <tr>\n",
       "      <th>25%</th>\n",
       "      <td>226010.000000</td>\n",
       "    </tr>\n",
       "    <tr>\n",
       "      <th>50%</th>\n",
       "      <td>400071.000000</td>\n",
       "    </tr>\n",
       "    <tr>\n",
       "      <th>75%</th>\n",
       "      <td>500060.000000</td>\n",
       "    </tr>\n",
       "    <tr>\n",
       "      <th>max</th>\n",
       "      <td>854301.000000</td>\n",
       "    </tr>\n",
       "  </tbody>\n",
       "</table>\n",
       "</div>"
      ],
      "text/plain": [
       "       shiptozipcode\n",
       "count  220329.000000\n",
       "mean   381302.998915\n",
       "std    171219.802698\n",
       "min    110001.000000\n",
       "25%    226010.000000\n",
       "50%    400071.000000\n",
       "75%    500060.000000\n",
       "max    854301.000000"
      ]
     },
     "execution_count": 105,
     "metadata": {},
     "output_type": "execute_result"
    }
   ],
   "source": [
    "deliv_df.describe()"
   ]
  },
  {
   "cell_type": "markdown",
   "id": "2502d15b-761c-4ca3-8e51-ab3333294019",
   "metadata": {},
   "source": [
    "# CLEANING DATASET FOR CUSTOMER DELIVERY DATA"
   ]
  },
  {
   "cell_type": "markdown",
   "id": "ab5ac1c2-6b9b-431e-ae1c-58cd647b713e",
   "metadata": {},
   "source": [
    "**value count to see the data is right or wrong**"
   ]
  },
  {
   "cell_type": "code",
   "execution_count": 106,
   "id": "4fbe6419-5896-437f-ba7b-9ca429f41574",
   "metadata": {},
   "outputs": [
    {
     "data": {
      "text/plain": [
       "originalreqdeliverydate\n",
       "21-11-2022 00:00    9086\n",
       "20-11-2022 00:00    8239\n",
       "19-11-2022 00:00    7793\n",
       "22-11-2022 00:00    7140\n",
       "18-11-2022 00:00    5286\n",
       "                    ... \n",
       "21-11-2022 05:43       1\n",
       "18-11-2022 08:48       1\n",
       "18-11-2022 06:53       1\n",
       "21-11-2022 08:25       1\n",
       "18-11-2022 07:13       1\n",
       "Name: count, Length: 5373, dtype: int64"
      ]
     },
     "execution_count": 106,
     "metadata": {},
     "output_type": "execute_result"
    }
   ],
   "source": [
    "deliv_df['originalreqdeliverydate'].value_counts()"
   ]
  },
  {
   "cell_type": "code",
   "execution_count": 107,
   "id": "030b436e-d3c9-4e79-9482-87efba033de9",
   "metadata": {},
   "outputs": [
    {
     "data": {
      "text/plain": [
       "array(['21-11-2022 00:00', '16-11-2022 00:00', '18-11-2022 00:00', ...,\n",
       "       '15-11-2022 09:02', '15-11-2022 10:24', '18-11-2022 07:13'],\n",
       "      dtype=object)"
      ]
     },
     "execution_count": 107,
     "metadata": {},
     "output_type": "execute_result"
    }
   ],
   "source": [
    "deliv_df['originalreqdeliverydate'].unique()"
   ]
  },
  {
   "cell_type": "code",
   "execution_count": 108,
   "id": "6f7e98e0-da66-4969-b157-4f1ce91ad488",
   "metadata": {},
   "outputs": [
    {
     "data": {
      "text/plain": [
       "array(['2022-11-15', '2022-11-16', '2022-11-18', '2022-11-17',\n",
       "       '2022-11-19', '2022-11-12', '2022-11-20', '2022-11-21',\n",
       "       '2022-11-22'], dtype=object)"
      ]
     },
     "execution_count": 108,
     "metadata": {},
     "output_type": "execute_result"
    }
   ],
   "source": [
    "deliv_df['orderdate'].unique()"
   ]
  },
  {
   "cell_type": "code",
   "execution_count": 109,
   "id": "d3492c83-6b0c-4440-996f-69d04bfb9244",
   "metadata": {},
   "outputs": [
    {
     "data": {
      "text/plain": [
       "array(['ZPLU', 'ZPAK', 'ZCOM', 'ZEXW', 'ZCHG', 'ZTIN', 'ZQGP', 'DIEN',\n",
       "       'ZSCR', 'ZEGV'], dtype=object)"
      ]
     },
     "execution_count": 109,
     "metadata": {},
     "output_type": "execute_result"
    }
   ],
   "source": [
    "deliv_df['articletype'].unique()"
   ]
  },
  {
   "cell_type": "code",
   "execution_count": 110,
   "id": "18cbba4a-4b5c-4b98-8413-fdb9b41214fb",
   "metadata": {},
   "outputs": [
    {
     "data": {
      "text/plain": [
       "array(['Order Delivered'], dtype=object)"
      ]
     },
     "execution_count": 110,
     "metadata": {},
     "output_type": "execute_result"
    }
   ],
   "source": [
    "deliv_df['currentstatus'].unique()"
   ]
  },
  {
   "cell_type": "code",
   "execution_count": 111,
   "id": "3f2f37ba-cfe2-4bdc-904b-7a14a8c1634b",
   "metadata": {},
   "outputs": [
    {
     "data": {
      "text/plain": [
       "array(['17-11-2022 19:00', '19-11-2022 13:28', '21-11-2022 17:34', ...,\n",
       "       '14-11-2022 14:59', '18-11-2022 07:15', '20-11-2022 09:35'],\n",
       "      dtype=object)"
      ]
     },
     "execution_count": 111,
     "metadata": {},
     "output_type": "execute_result"
    }
   ],
   "source": [
    "deliv_df['currentstatustimestamp'].unique()"
   ]
  },
  {
   "cell_type": "markdown",
   "id": "c3f15fd7-4563-409b-a51e-c9475a502411",
   "metadata": {},
   "source": [
    "**Datatype- convert datatype from obejct to datetime format**"
   ]
  },
  {
   "cell_type": "code",
   "execution_count": 112,
   "id": "fd59d6cd-a8a6-4d56-9d44-163d84e7f370",
   "metadata": {},
   "outputs": [],
   "source": [
    "# converted all the object datatype to datetime format by using list & for loop"
   ]
  },
  {
   "cell_type": "code",
   "execution_count": 113,
   "id": "6ef18ffe-547e-4093-811e-535444cebc99",
   "metadata": {
    "scrolled": true
   },
   "outputs": [
    {
     "name": "stdout",
     "output_type": "stream",
     "text": [
      "        orderdate articletype originalreqdeliverydate    currentstatus  \\\n",
      "0      2022-11-15        ZPLU     2022-11-21 00:00:00  Order Delivered   \n",
      "1      2022-11-16        ZPLU     2022-11-16 00:00:00  Order Delivered   \n",
      "2      2022-11-16        ZPLU     2022-11-16 00:00:00  Order Delivered   \n",
      "3      2022-11-16        ZPLU     2022-11-16 00:00:00  Order Delivered   \n",
      "4      2022-11-16        ZPLU     2022-11-16 00:00:00  Order Delivered   \n",
      "...           ...         ...                     ...              ...   \n",
      "232531 2022-11-19        ZPLU     2022-11-22 00:00:00  Order Delivered   \n",
      "232532 2022-11-19        ZPLU     2022-11-22 00:00:00  Order Delivered   \n",
      "232533 2022-11-19        ZPLU     2022-11-23 00:00:00  Order Delivered   \n",
      "232534 2022-11-15        ZPLU     2022-11-16 08:30:00  Order Delivered   \n",
      "232535 2022-11-15        ZPLU     2022-11-16 08:30:00  Order Delivered   \n",
      "\n",
      "       currentstatustimestamp      sale_timestamp readytopick_timestamp  \\\n",
      "0         2022-11-17 19:00:00 2022-11-15 18:39:00   2022-11-15 20:53:00   \n",
      "1         2022-11-19 13:28:00 2022-11-16 17:30:00   2022-11-16 18:25:00   \n",
      "2         2022-11-21 17:34:00 2022-11-16 17:59:00   2022-11-16 19:51:00   \n",
      "3         2022-11-18 15:24:00 2022-11-16 22:22:00   2022-11-17 02:22:00   \n",
      "4         2022-11-17 18:36:00 2022-11-16 22:14:00   2022-11-16 23:20:00   \n",
      "...                       ...                 ...                   ...   \n",
      "232531    2022-11-21 11:51:00 2022-11-19 23:26:00   2022-11-20 04:39:00   \n",
      "232532    2022-11-21 19:42:00 2022-11-19 23:56:00   2022-11-20 00:29:00   \n",
      "232533    2022-11-21 19:14:00 2022-11-19 23:23:00   2022-11-20 00:20:00   \n",
      "232534    2022-11-18 17:21:00 2022-11-15 23:20:00   2022-11-16 08:30:00   \n",
      "232535    2022-11-17 18:01:00 2022-11-15 21:30:00   2022-11-16 07:08:00   \n",
      "\n",
      "       readytoship_timestamp    packed_timestamp connecttocarrier_timestamp  \\\n",
      "0        2022-11-16 08:15:00 2022-11-16 08:23:00        2022-11-16 08:24:00   \n",
      "1        2022-11-16 19:34:00 2022-11-16 20:51:00        2022-11-16 20:51:00   \n",
      "2        2022-11-16 23:41:00 2022-11-17 01:54:00        2022-11-17 01:54:00   \n",
      "3        2022-11-17 03:40:00 2022-11-17 05:10:00        2022-11-17 05:10:00   \n",
      "4        2022-11-16 23:45:00 2022-11-17 07:48:00        2022-11-17 07:48:00   \n",
      "...                      ...                 ...                        ...   \n",
      "232531   2022-11-20 05:56:00 2022-11-20 09:40:00        2022-11-20 09:40:00   \n",
      "232532   2022-11-20 01:25:00 2022-11-20 02:25:00        2022-11-20 02:25:00   \n",
      "232533   2022-11-20 01:35:00 2022-11-20 03:32:00        2022-11-20 03:32:00   \n",
      "232534   2022-11-16 12:19:00 2022-11-17 12:57:00        2022-11-17 13:06:00   \n",
      "232535   2022-11-16 08:04:00 2022-11-16 08:45:00        2022-11-16 08:45:00   \n",
      "\n",
      "        ... outfordelivery_timestamp delivered_timestamp  \\\n",
      "0       ...      2022-11-17 19:00:00 2022-11-17 19:00:00   \n",
      "1       ...      2022-11-19 11:44:00 2022-11-19 13:28:00   \n",
      "2       ...      2022-11-21 13:13:00 2022-11-21 17:34:00   \n",
      "3       ...      2022-11-18 12:53:00 2022-11-18 15:24:00   \n",
      "4       ...      2022-11-17 08:58:00 2022-11-17 18:36:00   \n",
      "...     ...                      ...                 ...   \n",
      "232531  ...      2022-11-21 11:15:00 2022-11-21 11:51:00   \n",
      "232532  ...      2022-11-21 16:31:00 2022-11-21 19:42:00   \n",
      "232533  ...      2022-11-21 16:15:00 2022-11-21 19:14:00   \n",
      "232534  ...      2022-11-18 17:21:00 2022-11-18 17:21:00   \n",
      "232535  ...      2022-11-17 18:01:00 2022-11-17 18:01:00   \n",
      "\n",
      "                                     articlename  \\\n",
      "0        Lenovo 10.3 Tab X606V 2ndG 4+128GB Grey   \n",
      "1       SAMSUNG FF 253L RT28T3042S8/NL EL INX 2S   \n",
      "2           BOAT 2.1Ch Soundbar Aavante 1550 RTL   \n",
      "3       Croma LedFHD OA 40in 1Y CREL040FOF024601   \n",
      "4       Croma LedFHD OA 40in 1Y CREL040FOF024601   \n",
      "...                                          ...   \n",
      "232531          Croma Kettle 1.2L 1500W CRAK3057   \n",
      "232532            Apple iPhone 11 64GB Black_New   \n",
      "232533            Apple iPhone 11 64GB Black_New   \n",
      "232534       E-CROMA MIXER GRINDER 500W CRAK4184   \n",
      "232535        Croma power bank 10000mAh CRCA0083   \n",
      "\n",
      "             merchcategorydescription      merchclassdescription  \\\n",
      "0           Tablets & Detachables - D      Tablets & Detachables   \n",
      "1       Refrigerator Frost Free <300L              Refrigerators   \n",
      "2                        Sound Bars_H               Home Theatre   \n",
      "3                      LED Panels 40\"                     TV LCD   \n",
      "4                      LED Panels 40\"                     TV LCD   \n",
      "...                               ...                        ...   \n",
      "232531                        Kettles         Kitchen Appliances   \n",
      "232532                       I phones    Smart Phones (OS Based)   \n",
      "232533                       I phones    Smart Phones (OS Based)   \n",
      "232534                         JMG/MG         Kitchen Appliances   \n",
      "232535          Power bank/ Batteries  Phones Mobile Accessories   \n",
      "\n",
      "        merchgroupdescription  \\\n",
      "0       Computers Peripherals   \n",
      "1            Large Appliances   \n",
      "2               Entertainment   \n",
      "3               Entertainment   \n",
      "4               Entertainment   \n",
      "...                       ...   \n",
      "232531       Small Appliances   \n",
      "232532          Communication   \n",
      "232533          Communication   \n",
      "232534       Small Appliances   \n",
      "232535          Communication   \n",
      "\n",
      "                                                 itemdesc shiptozipcode  \\\n",
      "0                 Lenovo 10.3 Tab X606V 2ndG 4+128GB Grey      226010.0   \n",
      "1                SAMSUNG FF 253L RT28T3042S8/NL EL INX 2S      389350.0   \n",
      "2                    BOAT 2.1Ch Soundbar Aavante 1550 RTL      493221.0   \n",
      "3                E-Croma LedFHD OA40in1Y CREL040FOF024601      250001.0   \n",
      "4                E-Croma LedFHD OA40in1Y CREL040FOF024601      711102.0   \n",
      "...                                                   ...           ...   \n",
      "232531  Croma 1.2 Litres 1500 Watts Electric Kettle (D...      201009.0   \n",
      "232532                      Apple iPhone 11 (64GB, Black)      110085.0   \n",
      "232533                      Apple iPhone 11 (64GB, Black)      110085.0   \n",
      "232534                E-CROMA MIXER GRINDER 500W CRAK4184      560034.0   \n",
      "232535                 CROMA POWER BANK 10000MAH CRCA0083      124501.0   \n",
      "\n",
      "       shiptocity    shiptostate  \n",
      "0         LUCKNOW  Uttar Pradesh  \n",
      "1           HALOL        Gujarat  \n",
      "2          RAIPUR   Chhattisgarh  \n",
      "3          MEERUT  Uttar Pradesh  \n",
      "4          HOWRAH    West Bengal  \n",
      "...           ...            ...  \n",
      "232531  GHAZIABAD  Uttar Pradesh  \n",
      "232532      DELHI          Delhi  \n",
      "232533      DELHI          Delhi  \n",
      "232534  BENGALURU      Karnataka  \n",
      "232535     SAMPLA        Haryana  \n",
      "\n",
      "[232536 rows x 22 columns]\n",
      "orderdate                        datetime64[ns]\n",
      "articletype                              object\n",
      "originalreqdeliverydate          datetime64[ns]\n",
      "currentstatus                            object\n",
      "currentstatustimestamp           datetime64[ns]\n",
      "sale_timestamp                   datetime64[ns]\n",
      "readytopick_timestamp            datetime64[ns]\n",
      "readytoship_timestamp            datetime64[ns]\n",
      "packed_timestamp                 datetime64[ns]\n",
      "connecttocarrier_timestamp       datetime64[ns]\n",
      "handedovertocarrier_timestamp    datetime64[ns]\n",
      "deliveryinprogress_timestamp     datetime64[ns]\n",
      "outfordelivery_timestamp         datetime64[ns]\n",
      "delivered_timestamp              datetime64[ns]\n",
      "articlename                              object\n",
      "merchcategorydescription                 object\n",
      "merchclassdescription                    object\n",
      "merchgroupdescription                    object\n",
      "itemdesc                                 object\n",
      "shiptozipcode                           float64\n",
      "shiptocity                               object\n",
      "shiptostate                              object\n",
      "dtype: object\n"
     ]
    }
   ],
   "source": [
    "# List of timestamp columns to convert\n",
    "timestamp_columns = [\n",
    "    'originalreqdeliverydate','orderdate','currentstatustimestamp','sale_timestamp', \n",
    "    'readytopick_timestamp', 'readytoship_timestamp', \n",
    "    'packed_timestamp', 'connecttocarrier_timestamp', \n",
    "    'handedovertocarrier_timestamp', 'deliveryinprogress_timestamp', \n",
    "    'outfordelivery_timestamp', 'delivered_timestamp'\n",
    "]\n",
    "\n",
    "# Convert each column to datetime format\n",
    "for column in timestamp_columns:\n",
    "    deliv_df[column] = pd.to_datetime(deliv_df[column], errors='coerce')  # errors='coerce' will handle any invalid parsing\n",
    "\n",
    "# Check the result\n",
    "print(deliv_df)\n",
    "print(deliv_df.dtypes)  # Check the data types to confirm the conversion"
   ]
  },
  {
   "cell_type": "markdown",
   "id": "25c2e996-3961-4317-b2ad-1b46a39f6d57",
   "metadata": {},
   "source": [
    "**Finding if any null value is there in any column of the data**"
   ]
  },
  {
   "cell_type": "code",
   "execution_count": 114,
   "id": "ee61adc5-ad4b-410c-bf31-75da97fc849f",
   "metadata": {},
   "outputs": [
    {
     "name": "stdout",
     "output_type": "stream",
     "text": [
      "orderdate 0\n",
      "articletype 0\n",
      "originalreqdeliverydate 4702\n",
      "currentstatus 0\n",
      "currentstatustimestamp 0\n",
      "sale_timestamp 163529\n",
      "readytopick_timestamp 180090\n",
      "readytoship_timestamp 182078\n",
      "packed_timestamp 180711\n",
      "connecttocarrier_timestamp 180982\n",
      "handedovertocarrier_timestamp 181146\n",
      "deliveryinprogress_timestamp 181947\n",
      "outfordelivery_timestamp 180921\n",
      "delivered_timestamp 0\n",
      "articlename 16574\n",
      "merchcategorydescription 12481\n",
      "merchclassdescription 12481\n",
      "merchgroupdescription 12481\n",
      "itemdesc 12181\n",
      "shiptozipcode 12207\n",
      "shiptocity 12491\n",
      "shiptostate 12503\n"
     ]
    }
   ],
   "source": [
    "for i in deliv_df.columns:\n",
    "    print(i, deliv_df[i].isnull().sum())"
   ]
  },
  {
   "cell_type": "code",
   "execution_count": 115,
   "id": "a0b88f19-ee1b-4ebe-806a-2f2695a06a31",
   "metadata": {},
   "outputs": [
    {
     "data": {
      "text/plain": [
       "0        2022-11-21 00:00:00\n",
       "1        2022-11-16 00:00:00\n",
       "2        2022-11-16 00:00:00\n",
       "3        2022-11-16 00:00:00\n",
       "4        2022-11-16 00:00:00\n",
       "                 ...        \n",
       "232531   2022-11-22 00:00:00\n",
       "232532   2022-11-22 00:00:00\n",
       "232533   2022-11-23 00:00:00\n",
       "232534   2022-11-16 08:30:00\n",
       "232535   2022-11-16 08:30:00\n",
       "Name: originalreqdeliverydate, Length: 232536, dtype: datetime64[ns]"
      ]
     },
     "execution_count": 115,
     "metadata": {},
     "output_type": "execute_result"
    }
   ],
   "source": [
    "deliv_df['originalreqdeliverydate']"
   ]
  },
  {
   "cell_type": "code",
   "execution_count": 116,
   "id": "2203d01b-51d6-4f4f-993e-0a180587ef42",
   "metadata": {},
   "outputs": [
    {
     "data": {
      "text/plain": [
       "Timestamp('2022-11-19 06:02:26.680214528')"
      ]
     },
     "execution_count": 116,
     "metadata": {},
     "output_type": "execute_result"
    }
   ],
   "source": [
    "deliv_df['originalreqdeliverydate'].mean()"
   ]
  },
  {
   "cell_type": "code",
   "execution_count": 117,
   "id": "db3e41b8-9660-4324-8755-9e9b56a12cf7",
   "metadata": {},
   "outputs": [
    {
     "data": {
      "text/plain": [
       "Timestamp('2022-11-19 14:57:00')"
      ]
     },
     "execution_count": 117,
     "metadata": {},
     "output_type": "execute_result"
    }
   ],
   "source": [
    "deliv_df['originalreqdeliverydate'].median()"
   ]
  },
  {
   "cell_type": "code",
   "execution_count": 118,
   "id": "67a07a27-ca3a-4a42-bf57-cca72df3cdad",
   "metadata": {},
   "outputs": [
    {
     "data": {
      "text/plain": [
       "232536"
      ]
     },
     "execution_count": 118,
     "metadata": {},
     "output_type": "execute_result"
    }
   ],
   "source": [
    "len(deliv_df['originalreqdeliverydate'])"
   ]
  },
  {
   "cell_type": "code",
   "execution_count": 119,
   "id": "08e8ff6e-a15a-4a47-b73b-c62225307fb0",
   "metadata": {},
   "outputs": [],
   "source": [
    "# null value replace or remove as per the data"
   ]
  },
  {
   "cell_type": "code",
   "execution_count": 120,
   "id": "9426f2d3-fd6e-4c0d-b4ee-e1650b10fafd",
   "metadata": {},
   "outputs": [
    {
     "data": {
      "text/plain": [
       "0        2022-11-21 00:00:00\n",
       "1        2022-11-16 00:00:00\n",
       "2        2022-11-16 00:00:00\n",
       "3        2022-11-16 00:00:00\n",
       "4        2022-11-16 00:00:00\n",
       "                 ...        \n",
       "232531   2022-11-22 00:00:00\n",
       "232532   2022-11-22 00:00:00\n",
       "232533   2022-11-23 00:00:00\n",
       "232534   2022-11-16 08:30:00\n",
       "232535   2022-11-16 08:30:00\n",
       "Name: originalreqdeliverydate, Length: 232536, dtype: datetime64[ns]"
      ]
     },
     "execution_count": 120,
     "metadata": {},
     "output_type": "execute_result"
    }
   ],
   "source": [
    "deliv_df['originalreqdeliverydate'] = deliv_df['originalreqdeliverydate'].fillna (deliv_df['originalreqdeliverydate'].mean())\n",
    "deliv_df['originalreqdeliverydate']"
   ]
  },
  {
   "cell_type": "code",
   "execution_count": 121,
   "id": "4c7a4395-d46f-4c53-bd7f-784f351fbcfa",
   "metadata": {},
   "outputs": [
    {
     "data": {
      "text/plain": [
       "0"
      ]
     },
     "execution_count": 121,
     "metadata": {},
     "output_type": "execute_result"
    }
   ],
   "source": [
    "deliv_df['originalreqdeliverydate'].isnull().sum()"
   ]
  },
  {
   "cell_type": "code",
   "execution_count": 122,
   "id": "2fd7b0db-e4ed-46b6-b381-d96d88cbe742",
   "metadata": {},
   "outputs": [
    {
     "name": "stdout",
     "output_type": "stream",
     "text": [
      "Columns with null percentage above threshold:\n",
      "Index(['sale_timestamp', 'readytopick_timestamp', 'readytoship_timestamp',\n",
      "       'packed_timestamp', 'connecttocarrier_timestamp',\n",
      "       'handedovertocarrier_timestamp', 'deliveryinprogress_timestamp',\n",
      "       'outfordelivery_timestamp'],\n",
      "      dtype='object')\n"
     ]
    },
    {
     "data": {
      "text/html": [
       "<div>\n",
       "<style scoped>\n",
       "    .dataframe tbody tr th:only-of-type {\n",
       "        vertical-align: middle;\n",
       "    }\n",
       "\n",
       "    .dataframe tbody tr th {\n",
       "        vertical-align: top;\n",
       "    }\n",
       "\n",
       "    .dataframe thead th {\n",
       "        text-align: right;\n",
       "    }\n",
       "</style>\n",
       "<table border=\"1\" class=\"dataframe\">\n",
       "  <thead>\n",
       "    <tr style=\"text-align: right;\">\n",
       "      <th></th>\n",
       "      <th>orderdate</th>\n",
       "      <th>articletype</th>\n",
       "      <th>originalreqdeliverydate</th>\n",
       "      <th>currentstatus</th>\n",
       "      <th>currentstatustimestamp</th>\n",
       "      <th>sale_timestamp</th>\n",
       "      <th>readytopick_timestamp</th>\n",
       "      <th>readytoship_timestamp</th>\n",
       "      <th>packed_timestamp</th>\n",
       "      <th>connecttocarrier_timestamp</th>\n",
       "      <th>...</th>\n",
       "      <th>outfordelivery_timestamp</th>\n",
       "      <th>delivered_timestamp</th>\n",
       "      <th>articlename</th>\n",
       "      <th>merchcategorydescription</th>\n",
       "      <th>merchclassdescription</th>\n",
       "      <th>merchgroupdescription</th>\n",
       "      <th>itemdesc</th>\n",
       "      <th>shiptozipcode</th>\n",
       "      <th>shiptocity</th>\n",
       "      <th>shiptostate</th>\n",
       "    </tr>\n",
       "  </thead>\n",
       "  <tbody>\n",
       "    <tr>\n",
       "      <th>0</th>\n",
       "      <td>2022-11-15</td>\n",
       "      <td>ZPLU</td>\n",
       "      <td>2022-11-21</td>\n",
       "      <td>Order Delivered</td>\n",
       "      <td>2022-11-17 19:00:00</td>\n",
       "      <td>2022-11-15 18:39:00</td>\n",
       "      <td>2022-11-15 20:53:00</td>\n",
       "      <td>2022-11-16 08:15:00</td>\n",
       "      <td>2022-11-16 08:23:00</td>\n",
       "      <td>2022-11-16 08:24:00</td>\n",
       "      <td>...</td>\n",
       "      <td>2022-11-17 19:00:00</td>\n",
       "      <td>2022-11-17 19:00:00</td>\n",
       "      <td>Lenovo 10.3 Tab X606V 2ndG 4+128GB Grey</td>\n",
       "      <td>Tablets &amp; Detachables - D</td>\n",
       "      <td>Tablets &amp; Detachables</td>\n",
       "      <td>Computers Peripherals</td>\n",
       "      <td>Lenovo 10.3 Tab X606V 2ndG 4+128GB Grey</td>\n",
       "      <td>226010.0</td>\n",
       "      <td>LUCKNOW</td>\n",
       "      <td>Uttar Pradesh</td>\n",
       "    </tr>\n",
       "    <tr>\n",
       "      <th>1</th>\n",
       "      <td>2022-11-16</td>\n",
       "      <td>ZPLU</td>\n",
       "      <td>2022-11-16</td>\n",
       "      <td>Order Delivered</td>\n",
       "      <td>2022-11-19 13:28:00</td>\n",
       "      <td>2022-11-16 17:30:00</td>\n",
       "      <td>2022-11-16 18:25:00</td>\n",
       "      <td>2022-11-16 19:34:00</td>\n",
       "      <td>2022-11-16 20:51:00</td>\n",
       "      <td>2022-11-16 20:51:00</td>\n",
       "      <td>...</td>\n",
       "      <td>2022-11-19 11:44:00</td>\n",
       "      <td>2022-11-19 13:28:00</td>\n",
       "      <td>SAMSUNG FF 253L RT28T3042S8/NL EL INX 2S</td>\n",
       "      <td>Refrigerator Frost Free &lt;300L</td>\n",
       "      <td>Refrigerators</td>\n",
       "      <td>Large Appliances</td>\n",
       "      <td>SAMSUNG FF 253L RT28T3042S8/NL EL INX 2S</td>\n",
       "      <td>389350.0</td>\n",
       "      <td>HALOL</td>\n",
       "      <td>Gujarat</td>\n",
       "    </tr>\n",
       "    <tr>\n",
       "      <th>2</th>\n",
       "      <td>2022-11-16</td>\n",
       "      <td>ZPLU</td>\n",
       "      <td>2022-11-16</td>\n",
       "      <td>Order Delivered</td>\n",
       "      <td>2022-11-21 17:34:00</td>\n",
       "      <td>2022-11-16 17:59:00</td>\n",
       "      <td>2022-11-16 19:51:00</td>\n",
       "      <td>2022-11-16 23:41:00</td>\n",
       "      <td>2022-11-17 01:54:00</td>\n",
       "      <td>2022-11-17 01:54:00</td>\n",
       "      <td>...</td>\n",
       "      <td>2022-11-21 13:13:00</td>\n",
       "      <td>2022-11-21 17:34:00</td>\n",
       "      <td>BOAT 2.1Ch Soundbar Aavante 1550 RTL</td>\n",
       "      <td>Sound Bars_H</td>\n",
       "      <td>Home Theatre</td>\n",
       "      <td>Entertainment</td>\n",
       "      <td>BOAT 2.1Ch Soundbar Aavante 1550 RTL</td>\n",
       "      <td>493221.0</td>\n",
       "      <td>RAIPUR</td>\n",
       "      <td>Chhattisgarh</td>\n",
       "    </tr>\n",
       "    <tr>\n",
       "      <th>3</th>\n",
       "      <td>2022-11-16</td>\n",
       "      <td>ZPLU</td>\n",
       "      <td>2022-11-16</td>\n",
       "      <td>Order Delivered</td>\n",
       "      <td>2022-11-18 15:24:00</td>\n",
       "      <td>2022-11-16 22:22:00</td>\n",
       "      <td>2022-11-17 02:22:00</td>\n",
       "      <td>2022-11-17 03:40:00</td>\n",
       "      <td>2022-11-17 05:10:00</td>\n",
       "      <td>2022-11-17 05:10:00</td>\n",
       "      <td>...</td>\n",
       "      <td>2022-11-18 12:53:00</td>\n",
       "      <td>2022-11-18 15:24:00</td>\n",
       "      <td>Croma LedFHD OA 40in 1Y CREL040FOF024601</td>\n",
       "      <td>LED Panels 40\"</td>\n",
       "      <td>TV LCD</td>\n",
       "      <td>Entertainment</td>\n",
       "      <td>E-Croma LedFHD OA40in1Y CREL040FOF024601</td>\n",
       "      <td>250001.0</td>\n",
       "      <td>MEERUT</td>\n",
       "      <td>Uttar Pradesh</td>\n",
       "    </tr>\n",
       "    <tr>\n",
       "      <th>4</th>\n",
       "      <td>2022-11-16</td>\n",
       "      <td>ZPLU</td>\n",
       "      <td>2022-11-16</td>\n",
       "      <td>Order Delivered</td>\n",
       "      <td>2022-11-17 18:36:00</td>\n",
       "      <td>2022-11-16 22:14:00</td>\n",
       "      <td>2022-11-16 23:20:00</td>\n",
       "      <td>2022-11-16 23:45:00</td>\n",
       "      <td>2022-11-17 07:48:00</td>\n",
       "      <td>2022-11-17 07:48:00</td>\n",
       "      <td>...</td>\n",
       "      <td>2022-11-17 08:58:00</td>\n",
       "      <td>2022-11-17 18:36:00</td>\n",
       "      <td>Croma LedFHD OA 40in 1Y CREL040FOF024601</td>\n",
       "      <td>LED Panels 40\"</td>\n",
       "      <td>TV LCD</td>\n",
       "      <td>Entertainment</td>\n",
       "      <td>E-Croma LedFHD OA40in1Y CREL040FOF024601</td>\n",
       "      <td>711102.0</td>\n",
       "      <td>HOWRAH</td>\n",
       "      <td>West Bengal</td>\n",
       "    </tr>\n",
       "  </tbody>\n",
       "</table>\n",
       "<p>5 rows × 22 columns</p>\n",
       "</div>"
      ],
      "text/plain": [
       "   orderdate articletype originalreqdeliverydate    currentstatus  \\\n",
       "0 2022-11-15        ZPLU              2022-11-21  Order Delivered   \n",
       "1 2022-11-16        ZPLU              2022-11-16  Order Delivered   \n",
       "2 2022-11-16        ZPLU              2022-11-16  Order Delivered   \n",
       "3 2022-11-16        ZPLU              2022-11-16  Order Delivered   \n",
       "4 2022-11-16        ZPLU              2022-11-16  Order Delivered   \n",
       "\n",
       "  currentstatustimestamp      sale_timestamp readytopick_timestamp  \\\n",
       "0    2022-11-17 19:00:00 2022-11-15 18:39:00   2022-11-15 20:53:00   \n",
       "1    2022-11-19 13:28:00 2022-11-16 17:30:00   2022-11-16 18:25:00   \n",
       "2    2022-11-21 17:34:00 2022-11-16 17:59:00   2022-11-16 19:51:00   \n",
       "3    2022-11-18 15:24:00 2022-11-16 22:22:00   2022-11-17 02:22:00   \n",
       "4    2022-11-17 18:36:00 2022-11-16 22:14:00   2022-11-16 23:20:00   \n",
       "\n",
       "  readytoship_timestamp    packed_timestamp connecttocarrier_timestamp  ...  \\\n",
       "0   2022-11-16 08:15:00 2022-11-16 08:23:00        2022-11-16 08:24:00  ...   \n",
       "1   2022-11-16 19:34:00 2022-11-16 20:51:00        2022-11-16 20:51:00  ...   \n",
       "2   2022-11-16 23:41:00 2022-11-17 01:54:00        2022-11-17 01:54:00  ...   \n",
       "3   2022-11-17 03:40:00 2022-11-17 05:10:00        2022-11-17 05:10:00  ...   \n",
       "4   2022-11-16 23:45:00 2022-11-17 07:48:00        2022-11-17 07:48:00  ...   \n",
       "\n",
       "  outfordelivery_timestamp delivered_timestamp  \\\n",
       "0      2022-11-17 19:00:00 2022-11-17 19:00:00   \n",
       "1      2022-11-19 11:44:00 2022-11-19 13:28:00   \n",
       "2      2022-11-21 13:13:00 2022-11-21 17:34:00   \n",
       "3      2022-11-18 12:53:00 2022-11-18 15:24:00   \n",
       "4      2022-11-17 08:58:00 2022-11-17 18:36:00   \n",
       "\n",
       "                                articlename       merchcategorydescription  \\\n",
       "0   Lenovo 10.3 Tab X606V 2ndG 4+128GB Grey      Tablets & Detachables - D   \n",
       "1  SAMSUNG FF 253L RT28T3042S8/NL EL INX 2S  Refrigerator Frost Free <300L   \n",
       "2      BOAT 2.1Ch Soundbar Aavante 1550 RTL                   Sound Bars_H   \n",
       "3  Croma LedFHD OA 40in 1Y CREL040FOF024601                 LED Panels 40\"   \n",
       "4  Croma LedFHD OA 40in 1Y CREL040FOF024601                 LED Panels 40\"   \n",
       "\n",
       "   merchclassdescription  merchgroupdescription  \\\n",
       "0  Tablets & Detachables  Computers Peripherals   \n",
       "1          Refrigerators       Large Appliances   \n",
       "2           Home Theatre          Entertainment   \n",
       "3                 TV LCD          Entertainment   \n",
       "4                 TV LCD          Entertainment   \n",
       "\n",
       "                                   itemdesc shiptozipcode shiptocity  \\\n",
       "0   Lenovo 10.3 Tab X606V 2ndG 4+128GB Grey      226010.0    LUCKNOW   \n",
       "1  SAMSUNG FF 253L RT28T3042S8/NL EL INX 2S      389350.0      HALOL   \n",
       "2      BOAT 2.1Ch Soundbar Aavante 1550 RTL      493221.0     RAIPUR   \n",
       "3  E-Croma LedFHD OA40in1Y CREL040FOF024601      250001.0     MEERUT   \n",
       "4  E-Croma LedFHD OA40in1Y CREL040FOF024601      711102.0     HOWRAH   \n",
       "\n",
       "     shiptostate  \n",
       "0  Uttar Pradesh  \n",
       "1        Gujarat  \n",
       "2   Chhattisgarh  \n",
       "3  Uttar Pradesh  \n",
       "4    West Bengal  \n",
       "\n",
       "[5 rows x 22 columns]"
      ]
     },
     "execution_count": 122,
     "metadata": {},
     "output_type": "execute_result"
    }
   ],
   "source": [
    "# Define the threshold for null percentage\n",
    "threshold = 70.32  # Example: 70.32%\n",
    "\n",
    "# Calculate null percentage for each column\n",
    "null_percentage = deliv_df.isnull().mean() * 100\n",
    "\n",
    "# Identify columns with high null percentage\n",
    "columns_above_threshold = null_percentage[null_percentage > threshold].index\n",
    "\n",
    "# Display columns with high null percentage\n",
    "print(\"Columns with null percentage above threshold:\")\n",
    "print(columns_above_threshold)\n",
    "\n",
    "# Alternatively, fill these columns with a default value\n",
    "df_filled = deliv_df.fillna(method='ffill')  # Forward fill\n",
    "df_filled.head()"
   ]
  },
  {
   "cell_type": "code",
   "execution_count": 123,
   "id": "56c7fa73-f108-4100-ad6b-6a2924c25989",
   "metadata": {},
   "outputs": [
    {
     "data": {
      "text/plain": [
       "orderdate                        0.0\n",
       "articletype                      0.0\n",
       "originalreqdeliverydate          0.0\n",
       "currentstatus                    0.0\n",
       "currentstatustimestamp           0.0\n",
       "sale_timestamp                   0.0\n",
       "readytopick_timestamp            0.0\n",
       "readytoship_timestamp            0.0\n",
       "packed_timestamp                 0.0\n",
       "connecttocarrier_timestamp       0.0\n",
       "handedovertocarrier_timestamp    0.0\n",
       "deliveryinprogress_timestamp     0.0\n",
       "outfordelivery_timestamp         0.0\n",
       "delivered_timestamp              0.0\n",
       "articlename                      0.0\n",
       "merchcategorydescription         0.0\n",
       "merchclassdescription            0.0\n",
       "merchgroupdescription            0.0\n",
       "itemdesc                         0.0\n",
       "shiptozipcode                    0.0\n",
       "shiptocity                       0.0\n",
       "shiptostate                      0.0\n",
       "dtype: float64"
      ]
     },
     "execution_count": 123,
     "metadata": {},
     "output_type": "execute_result"
    }
   ],
   "source": [
    "df_filled.isnull().sum()/deliv_df.shape[0]*100"
   ]
  },
  {
   "cell_type": "code",
   "execution_count": null,
   "id": "b10853ae-9d46-43b7-b6d8-8a781570aade",
   "metadata": {},
   "outputs": [],
   "source": []
  },
  {
   "cell_type": "code",
   "execution_count": null,
   "id": "69137551-2910-41ca-abaa-3edd686d2703",
   "metadata": {},
   "outputs": [],
   "source": []
  },
  {
   "cell_type": "code",
   "execution_count": null,
   "id": "d2d9e98a-f358-4293-af3c-909b93fe1af8",
   "metadata": {},
   "outputs": [],
   "source": []
  },
  {
   "cell_type": "code",
   "execution_count": null,
   "id": "b2568b2f-176d-4268-950b-684f629d6ba2",
   "metadata": {},
   "outputs": [],
   "source": []
  },
  {
   "cell_type": "code",
   "execution_count": null,
   "id": "16d78e58-c4c0-48a3-83b3-b2edcb7c85f9",
   "metadata": {},
   "outputs": [],
   "source": []
  },
  {
   "cell_type": "code",
   "execution_count": null,
   "id": "a5ea273e-f4ae-482a-925c-5d2bb831bfd1",
   "metadata": {},
   "outputs": [],
   "source": []
  },
  {
   "cell_type": "code",
   "execution_count": null,
   "id": "dba2a628-1192-47e8-9f9f-ed9f6a8c251e",
   "metadata": {},
   "outputs": [],
   "source": []
  },
  {
   "cell_type": "markdown",
   "id": "1d057d4d-9d3c-41d6-894f-7ebdd5af2d85",
   "metadata": {},
   "source": [
    "# Festive Dates - column name and data"
   ]
  },
  {
   "cell_type": "code",
   "execution_count": 124,
   "id": "b65fe6b6-6da2-4a80-a1fd-fe073c056209",
   "metadata": {},
   "outputs": [],
   "source": [
    "# Load the festive dates data from the Excel file\n",
    "fst_dates = pd.read_excel('Festive Dates - Shared.xlsx')"
   ]
  },
  {
   "cell_type": "code",
   "execution_count": 125,
   "id": "c64ac398-168d-4c12-9156-dd54ac4c7469",
   "metadata": {},
   "outputs": [
    {
     "data": {
      "text/html": [
       "<div>\n",
       "<style scoped>\n",
       "    .dataframe tbody tr th:only-of-type {\n",
       "        vertical-align: middle;\n",
       "    }\n",
       "\n",
       "    .dataframe tbody tr th {\n",
       "        vertical-align: top;\n",
       "    }\n",
       "\n",
       "    .dataframe thead th {\n",
       "        text-align: right;\n",
       "    }\n",
       "</style>\n",
       "<table border=\"1\" class=\"dataframe\">\n",
       "  <thead>\n",
       "    <tr style=\"text-align: right;\">\n",
       "      <th></th>\n",
       "      <th>Unnamed: 0</th>\n",
       "      <th>Festive Occasions</th>\n",
       "      <th>Start-2019</th>\n",
       "      <th>Unnamed: 3</th>\n",
       "      <th>Unnamed: 4</th>\n",
       "      <th>Start-2020</th>\n",
       "      <th>Unnamed: 6</th>\n",
       "      <th>Unnamed: 7</th>\n",
       "      <th>Start-2021</th>\n",
       "      <th>Unnamed: 9</th>\n",
       "    </tr>\n",
       "  </thead>\n",
       "  <tbody>\n",
       "    <tr>\n",
       "      <th>0</th>\n",
       "      <td>NaN</td>\n",
       "      <td>Independence Day</td>\n",
       "      <td>2019-08-15</td>\n",
       "      <td>NaT</td>\n",
       "      <td>NaN</td>\n",
       "      <td>2020-08-15</td>\n",
       "      <td>NaT</td>\n",
       "      <td>NaN</td>\n",
       "      <td>2021-08-15</td>\n",
       "      <td>NaT</td>\n",
       "    </tr>\n",
       "    <tr>\n",
       "      <th>1</th>\n",
       "      <td>NaN</td>\n",
       "      <td>Republic Day</td>\n",
       "      <td>2019-01-26</td>\n",
       "      <td>NaT</td>\n",
       "      <td>NaN</td>\n",
       "      <td>2020-01-26</td>\n",
       "      <td>NaT</td>\n",
       "      <td>NaN</td>\n",
       "      <td>2021-01-26</td>\n",
       "      <td>NaT</td>\n",
       "    </tr>\n",
       "    <tr>\n",
       "      <th>2</th>\n",
       "      <td>NaN</td>\n",
       "      <td>Dhanteras</td>\n",
       "      <td>2019-11-13</td>\n",
       "      <td>NaT</td>\n",
       "      <td>NaN</td>\n",
       "      <td>2020-11-02</td>\n",
       "      <td>NaT</td>\n",
       "      <td>NaN</td>\n",
       "      <td>2021-10-22</td>\n",
       "      <td>NaT</td>\n",
       "    </tr>\n",
       "    <tr>\n",
       "      <th>3</th>\n",
       "      <td>NaN</td>\n",
       "      <td>Vijaya Dashami</td>\n",
       "      <td>2019-10-25</td>\n",
       "      <td>NaT</td>\n",
       "      <td>NaN</td>\n",
       "      <td>2020-10-15</td>\n",
       "      <td>NaT</td>\n",
       "      <td>NaN</td>\n",
       "      <td>2021-10-05</td>\n",
       "      <td>NaT</td>\n",
       "    </tr>\n",
       "    <tr>\n",
       "      <th>4</th>\n",
       "      <td>NaN</td>\n",
       "      <td>Deepawali/Laxmi Puja/Narak Chaturdashi: From</td>\n",
       "      <td>2019-11-14</td>\n",
       "      <td>2019-11-15</td>\n",
       "      <td>NaN</td>\n",
       "      <td>2020-11-04</td>\n",
       "      <td>2020-11-05</td>\n",
       "      <td>NaN</td>\n",
       "      <td>2021-10-24</td>\n",
       "      <td>2021-10-26</td>\n",
       "    </tr>\n",
       "    <tr>\n",
       "      <th>5</th>\n",
       "      <td>NaN</td>\n",
       "      <td>Christimas</td>\n",
       "      <td>2019-12-25</td>\n",
       "      <td>NaT</td>\n",
       "      <td>NaN</td>\n",
       "      <td>2020-12-25</td>\n",
       "      <td>NaT</td>\n",
       "      <td>NaN</td>\n",
       "      <td>2021-12-25</td>\n",
       "      <td>NaT</td>\n",
       "    </tr>\n",
       "    <tr>\n",
       "      <th>6</th>\n",
       "      <td>NaN</td>\n",
       "      <td>Father's Day</td>\n",
       "      <td>2019-06-21</td>\n",
       "      <td>NaT</td>\n",
       "      <td>NaN</td>\n",
       "      <td>2020-06-20</td>\n",
       "      <td>NaT</td>\n",
       "      <td>NaN</td>\n",
       "      <td>2021-06-19</td>\n",
       "      <td>NaT</td>\n",
       "    </tr>\n",
       "    <tr>\n",
       "      <th>7</th>\n",
       "      <td>NaN</td>\n",
       "      <td>Mahatma Gandhi Jayanti</td>\n",
       "      <td>2019-10-02</td>\n",
       "      <td>NaT</td>\n",
       "      <td>NaN</td>\n",
       "      <td>2020-10-02</td>\n",
       "      <td>NaT</td>\n",
       "      <td>NaN</td>\n",
       "      <td>2021-10-02</td>\n",
       "      <td>NaT</td>\n",
       "    </tr>\n",
       "    <tr>\n",
       "      <th>8</th>\n",
       "      <td>NaN</td>\n",
       "      <td>New Years Eve</td>\n",
       "      <td>2019-12-31</td>\n",
       "      <td>NaT</td>\n",
       "      <td>NaN</td>\n",
       "      <td>2020-12-31</td>\n",
       "      <td>NaT</td>\n",
       "      <td>NaN</td>\n",
       "      <td>2021-12-31</td>\n",
       "      <td>NaT</td>\n",
       "    </tr>\n",
       "    <tr>\n",
       "      <th>9</th>\n",
       "      <td>NaN</td>\n",
       "      <td>Gudi Padwa</td>\n",
       "      <td>2019-03-25</td>\n",
       "      <td>NaT</td>\n",
       "      <td>NaN</td>\n",
       "      <td>2020-04-13</td>\n",
       "      <td>NaT</td>\n",
       "      <td>NaN</td>\n",
       "      <td>2021-04-02</td>\n",
       "      <td>NaT</td>\n",
       "    </tr>\n",
       "  </tbody>\n",
       "</table>\n",
       "</div>"
      ],
      "text/plain": [
       "   Unnamed: 0                             Festive Occasions Start-2019  \\\n",
       "0         NaN                              Independence Day 2019-08-15   \n",
       "1         NaN                                  Republic Day 2019-01-26   \n",
       "2         NaN                                     Dhanteras 2019-11-13   \n",
       "3         NaN                                Vijaya Dashami 2019-10-25   \n",
       "4         NaN  Deepawali/Laxmi Puja/Narak Chaturdashi: From 2019-11-14   \n",
       "5         NaN                                    Christimas 2019-12-25   \n",
       "6         NaN                                  Father's Day 2019-06-21   \n",
       "7         NaN                        Mahatma Gandhi Jayanti 2019-10-02   \n",
       "8         NaN                                 New Years Eve 2019-12-31   \n",
       "9         NaN                                    Gudi Padwa 2019-03-25   \n",
       "\n",
       "  Unnamed: 3  Unnamed: 4 Start-2020 Unnamed: 6  Unnamed: 7 Start-2021  \\\n",
       "0        NaT         NaN 2020-08-15        NaT         NaN 2021-08-15   \n",
       "1        NaT         NaN 2020-01-26        NaT         NaN 2021-01-26   \n",
       "2        NaT         NaN 2020-11-02        NaT         NaN 2021-10-22   \n",
       "3        NaT         NaN 2020-10-15        NaT         NaN 2021-10-05   \n",
       "4 2019-11-15         NaN 2020-11-04 2020-11-05         NaN 2021-10-24   \n",
       "5        NaT         NaN 2020-12-25        NaT         NaN 2021-12-25   \n",
       "6        NaT         NaN 2020-06-20        NaT         NaN 2021-06-19   \n",
       "7        NaT         NaN 2020-10-02        NaT         NaN 2021-10-02   \n",
       "8        NaT         NaN 2020-12-31        NaT         NaN 2021-12-31   \n",
       "9        NaT         NaN 2020-04-13        NaT         NaN 2021-04-02   \n",
       "\n",
       "  Unnamed: 9  \n",
       "0        NaT  \n",
       "1        NaT  \n",
       "2        NaT  \n",
       "3        NaT  \n",
       "4 2021-10-26  \n",
       "5        NaT  \n",
       "6        NaT  \n",
       "7        NaT  \n",
       "8        NaT  \n",
       "9        NaT  "
      ]
     },
     "execution_count": 125,
     "metadata": {},
     "output_type": "execute_result"
    }
   ],
   "source": [
    "fst_dates"
   ]
  },
  {
   "cell_type": "code",
   "execution_count": 126,
   "id": "01556205-6e06-48bb-9cab-de1026d4fe07",
   "metadata": {},
   "outputs": [],
   "source": [
    "fst_dates.drop(columns=['Unnamed: 0','Unnamed: 4','Unnamed: 7'], inplace=True)"
   ]
  },
  {
   "cell_type": "code",
   "execution_count": 127,
   "id": "fdcd7c73-70dd-489d-80d2-0bf78b264581",
   "metadata": {},
   "outputs": [
    {
     "name": "stdout",
     "output_type": "stream",
     "text": [
      "<class 'pandas.core.frame.DataFrame'>\n",
      "RangeIndex: 10 entries, 0 to 9\n",
      "Data columns (total 7 columns):\n",
      " #   Column             Non-Null Count  Dtype         \n",
      "---  ------             --------------  -----         \n",
      " 0   Festive Occasions  10 non-null     object        \n",
      " 1   Start-2019         10 non-null     datetime64[ns]\n",
      " 2   Unnamed: 3         1 non-null      datetime64[ns]\n",
      " 3   Start-2020         10 non-null     datetime64[ns]\n",
      " 4   Unnamed: 6         1 non-null      datetime64[ns]\n",
      " 5   Start-2021         10 non-null     datetime64[ns]\n",
      " 6   Unnamed: 9         1 non-null      datetime64[ns]\n",
      "dtypes: datetime64[ns](6), object(1)\n",
      "memory usage: 692.0+ bytes\n"
     ]
    }
   ],
   "source": [
    "fst_dates.info()"
   ]
  },
  {
   "cell_type": "code",
   "execution_count": 128,
   "id": "d8b24ada-6e85-4ac6-879d-38f86adaf623",
   "metadata": {},
   "outputs": [
    {
     "data": {
      "text/html": [
       "<div>\n",
       "<style scoped>\n",
       "    .dataframe tbody tr th:only-of-type {\n",
       "        vertical-align: middle;\n",
       "    }\n",
       "\n",
       "    .dataframe tbody tr th {\n",
       "        vertical-align: top;\n",
       "    }\n",
       "\n",
       "    .dataframe thead th {\n",
       "        text-align: right;\n",
       "    }\n",
       "</style>\n",
       "<table border=\"1\" class=\"dataframe\">\n",
       "  <thead>\n",
       "    <tr style=\"text-align: right;\">\n",
       "      <th></th>\n",
       "      <th>Start-2019</th>\n",
       "      <th>Unnamed: 3</th>\n",
       "      <th>Start-2020</th>\n",
       "      <th>Unnamed: 6</th>\n",
       "      <th>Start-2021</th>\n",
       "      <th>Unnamed: 9</th>\n",
       "    </tr>\n",
       "  </thead>\n",
       "  <tbody>\n",
       "    <tr>\n",
       "      <th>count</th>\n",
       "      <td>10</td>\n",
       "      <td>1</td>\n",
       "      <td>10</td>\n",
       "      <td>1</td>\n",
       "      <td>10</td>\n",
       "      <td>1</td>\n",
       "    </tr>\n",
       "    <tr>\n",
       "      <th>mean</th>\n",
       "      <td>2019-09-01 02:24:00</td>\n",
       "      <td>2019-11-15 00:00:00</td>\n",
       "      <td>2020-08-30 16:48:00</td>\n",
       "      <td>2020-11-05 00:00:00</td>\n",
       "      <td>2021-08-26 09:36:00</td>\n",
       "      <td>2021-10-26 00:00:00</td>\n",
       "    </tr>\n",
       "    <tr>\n",
       "      <th>min</th>\n",
       "      <td>2019-01-26 00:00:00</td>\n",
       "      <td>2019-11-15 00:00:00</td>\n",
       "      <td>2020-01-26 00:00:00</td>\n",
       "      <td>2020-11-05 00:00:00</td>\n",
       "      <td>2021-01-26 00:00:00</td>\n",
       "      <td>2021-10-26 00:00:00</td>\n",
       "    </tr>\n",
       "    <tr>\n",
       "      <th>25%</th>\n",
       "      <td>2019-07-04 18:00:00</td>\n",
       "      <td>2019-11-15 00:00:00</td>\n",
       "      <td>2020-07-04 00:00:00</td>\n",
       "      <td>2020-11-05 00:00:00</td>\n",
       "      <td>2021-07-03 06:00:00</td>\n",
       "      <td>2021-10-26 00:00:00</td>\n",
       "    </tr>\n",
       "    <tr>\n",
       "      <th>50%</th>\n",
       "      <td>2019-10-13 12:00:00</td>\n",
       "      <td>2019-11-15 00:00:00</td>\n",
       "      <td>2020-10-08 12:00:00</td>\n",
       "      <td>2020-11-05 00:00:00</td>\n",
       "      <td>2021-10-03 12:00:00</td>\n",
       "      <td>2021-10-26 00:00:00</td>\n",
       "    </tr>\n",
       "    <tr>\n",
       "      <th>75%</th>\n",
       "      <td>2019-11-13 18:00:00</td>\n",
       "      <td>2019-11-15 00:00:00</td>\n",
       "      <td>2020-11-03 12:00:00</td>\n",
       "      <td>2020-11-05 00:00:00</td>\n",
       "      <td>2021-10-23 12:00:00</td>\n",
       "      <td>2021-10-26 00:00:00</td>\n",
       "    </tr>\n",
       "    <tr>\n",
       "      <th>max</th>\n",
       "      <td>2019-12-31 00:00:00</td>\n",
       "      <td>2019-11-15 00:00:00</td>\n",
       "      <td>2020-12-31 00:00:00</td>\n",
       "      <td>2020-11-05 00:00:00</td>\n",
       "      <td>2021-12-31 00:00:00</td>\n",
       "      <td>2021-10-26 00:00:00</td>\n",
       "    </tr>\n",
       "  </tbody>\n",
       "</table>\n",
       "</div>"
      ],
      "text/plain": [
       "                Start-2019           Unnamed: 3           Start-2020  \\\n",
       "count                   10                    1                   10   \n",
       "mean   2019-09-01 02:24:00  2019-11-15 00:00:00  2020-08-30 16:48:00   \n",
       "min    2019-01-26 00:00:00  2019-11-15 00:00:00  2020-01-26 00:00:00   \n",
       "25%    2019-07-04 18:00:00  2019-11-15 00:00:00  2020-07-04 00:00:00   \n",
       "50%    2019-10-13 12:00:00  2019-11-15 00:00:00  2020-10-08 12:00:00   \n",
       "75%    2019-11-13 18:00:00  2019-11-15 00:00:00  2020-11-03 12:00:00   \n",
       "max    2019-12-31 00:00:00  2019-11-15 00:00:00  2020-12-31 00:00:00   \n",
       "\n",
       "                Unnamed: 6           Start-2021           Unnamed: 9  \n",
       "count                    1                   10                    1  \n",
       "mean   2020-11-05 00:00:00  2021-08-26 09:36:00  2021-10-26 00:00:00  \n",
       "min    2020-11-05 00:00:00  2021-01-26 00:00:00  2021-10-26 00:00:00  \n",
       "25%    2020-11-05 00:00:00  2021-07-03 06:00:00  2021-10-26 00:00:00  \n",
       "50%    2020-11-05 00:00:00  2021-10-03 12:00:00  2021-10-26 00:00:00  \n",
       "75%    2020-11-05 00:00:00  2021-10-23 12:00:00  2021-10-26 00:00:00  \n",
       "max    2020-11-05 00:00:00  2021-12-31 00:00:00  2021-10-26 00:00:00  "
      ]
     },
     "execution_count": 128,
     "metadata": {},
     "output_type": "execute_result"
    }
   ],
   "source": [
    "fst_dates.describe()"
   ]
  },
  {
   "cell_type": "code",
   "execution_count": 129,
   "id": "eb9eef6a-87e3-421b-93ab-21456fea1056",
   "metadata": {},
   "outputs": [
    {
     "data": {
      "text/html": [
       "<div>\n",
       "<style scoped>\n",
       "    .dataframe tbody tr th:only-of-type {\n",
       "        vertical-align: middle;\n",
       "    }\n",
       "\n",
       "    .dataframe tbody tr th {\n",
       "        vertical-align: top;\n",
       "    }\n",
       "\n",
       "    .dataframe thead th {\n",
       "        text-align: right;\n",
       "    }\n",
       "</style>\n",
       "<table border=\"1\" class=\"dataframe\">\n",
       "  <thead>\n",
       "    <tr style=\"text-align: right;\">\n",
       "      <th></th>\n",
       "      <th>Festive Occasions</th>\n",
       "      <th>Start-2019</th>\n",
       "      <th>Date_2019_End</th>\n",
       "      <th>Start-2020</th>\n",
       "      <th>Date_2020_End</th>\n",
       "      <th>Start-2021</th>\n",
       "      <th>Date_2021_End</th>\n",
       "    </tr>\n",
       "  </thead>\n",
       "  <tbody>\n",
       "    <tr>\n",
       "      <th>0</th>\n",
       "      <td>Independence Day</td>\n",
       "      <td>2019-08-15</td>\n",
       "      <td>NaT</td>\n",
       "      <td>2020-08-15</td>\n",
       "      <td>NaT</td>\n",
       "      <td>2021-08-15</td>\n",
       "      <td>NaT</td>\n",
       "    </tr>\n",
       "    <tr>\n",
       "      <th>1</th>\n",
       "      <td>Republic Day</td>\n",
       "      <td>2019-01-26</td>\n",
       "      <td>NaT</td>\n",
       "      <td>2020-01-26</td>\n",
       "      <td>NaT</td>\n",
       "      <td>2021-01-26</td>\n",
       "      <td>NaT</td>\n",
       "    </tr>\n",
       "    <tr>\n",
       "      <th>2</th>\n",
       "      <td>Dhanteras</td>\n",
       "      <td>2019-11-13</td>\n",
       "      <td>NaT</td>\n",
       "      <td>2020-11-02</td>\n",
       "      <td>NaT</td>\n",
       "      <td>2021-10-22</td>\n",
       "      <td>NaT</td>\n",
       "    </tr>\n",
       "    <tr>\n",
       "      <th>3</th>\n",
       "      <td>Vijaya Dashami</td>\n",
       "      <td>2019-10-25</td>\n",
       "      <td>NaT</td>\n",
       "      <td>2020-10-15</td>\n",
       "      <td>NaT</td>\n",
       "      <td>2021-10-05</td>\n",
       "      <td>NaT</td>\n",
       "    </tr>\n",
       "    <tr>\n",
       "      <th>4</th>\n",
       "      <td>Deepawali/Laxmi Puja/Narak Chaturdashi: From</td>\n",
       "      <td>2019-11-14</td>\n",
       "      <td>2019-11-15</td>\n",
       "      <td>2020-11-04</td>\n",
       "      <td>2020-11-05</td>\n",
       "      <td>2021-10-24</td>\n",
       "      <td>2021-10-26</td>\n",
       "    </tr>\n",
       "    <tr>\n",
       "      <th>5</th>\n",
       "      <td>Christimas</td>\n",
       "      <td>2019-12-25</td>\n",
       "      <td>NaT</td>\n",
       "      <td>2020-12-25</td>\n",
       "      <td>NaT</td>\n",
       "      <td>2021-12-25</td>\n",
       "      <td>NaT</td>\n",
       "    </tr>\n",
       "    <tr>\n",
       "      <th>6</th>\n",
       "      <td>Father's Day</td>\n",
       "      <td>2019-06-21</td>\n",
       "      <td>NaT</td>\n",
       "      <td>2020-06-20</td>\n",
       "      <td>NaT</td>\n",
       "      <td>2021-06-19</td>\n",
       "      <td>NaT</td>\n",
       "    </tr>\n",
       "    <tr>\n",
       "      <th>7</th>\n",
       "      <td>Mahatma Gandhi Jayanti</td>\n",
       "      <td>2019-10-02</td>\n",
       "      <td>NaT</td>\n",
       "      <td>2020-10-02</td>\n",
       "      <td>NaT</td>\n",
       "      <td>2021-10-02</td>\n",
       "      <td>NaT</td>\n",
       "    </tr>\n",
       "    <tr>\n",
       "      <th>8</th>\n",
       "      <td>New Years Eve</td>\n",
       "      <td>2019-12-31</td>\n",
       "      <td>NaT</td>\n",
       "      <td>2020-12-31</td>\n",
       "      <td>NaT</td>\n",
       "      <td>2021-12-31</td>\n",
       "      <td>NaT</td>\n",
       "    </tr>\n",
       "    <tr>\n",
       "      <th>9</th>\n",
       "      <td>Gudi Padwa</td>\n",
       "      <td>2019-03-25</td>\n",
       "      <td>NaT</td>\n",
       "      <td>2020-04-13</td>\n",
       "      <td>NaT</td>\n",
       "      <td>2021-04-02</td>\n",
       "      <td>NaT</td>\n",
       "    </tr>\n",
       "  </tbody>\n",
       "</table>\n",
       "</div>"
      ],
      "text/plain": [
       "                              Festive Occasions Start-2019 Date_2019_End  \\\n",
       "0                              Independence Day 2019-08-15           NaT   \n",
       "1                                  Republic Day 2019-01-26           NaT   \n",
       "2                                     Dhanteras 2019-11-13           NaT   \n",
       "3                                Vijaya Dashami 2019-10-25           NaT   \n",
       "4  Deepawali/Laxmi Puja/Narak Chaturdashi: From 2019-11-14    2019-11-15   \n",
       "5                                    Christimas 2019-12-25           NaT   \n",
       "6                                  Father's Day 2019-06-21           NaT   \n",
       "7                        Mahatma Gandhi Jayanti 2019-10-02           NaT   \n",
       "8                                 New Years Eve 2019-12-31           NaT   \n",
       "9                                    Gudi Padwa 2019-03-25           NaT   \n",
       "\n",
       "  Start-2020 Date_2020_End Start-2021 Date_2021_End  \n",
       "0 2020-08-15           NaT 2021-08-15           NaT  \n",
       "1 2020-01-26           NaT 2021-01-26           NaT  \n",
       "2 2020-11-02           NaT 2021-10-22           NaT  \n",
       "3 2020-10-15           NaT 2021-10-05           NaT  \n",
       "4 2020-11-04    2020-11-05 2021-10-24    2021-10-26  \n",
       "5 2020-12-25           NaT 2021-12-25           NaT  \n",
       "6 2020-06-20           NaT 2021-06-19           NaT  \n",
       "7 2020-10-02           NaT 2021-10-02           NaT  \n",
       "8 2020-12-31           NaT 2021-12-31           NaT  \n",
       "9 2020-04-13           NaT 2021-04-02           NaT  "
      ]
     },
     "execution_count": 129,
     "metadata": {},
     "output_type": "execute_result"
    }
   ],
   "source": [
    "# Rename columns\n",
    "fst_df = fst_dates.rename(columns={\n",
    "    'Unnamed: 3': 'Date_2019_End',\n",
    "    'Unnamed: 6': 'Date_2020_End',\n",
    "    'Unnamed: 9': 'Date_2021_End'\n",
    "})\n",
    "fst_df"
   ]
  },
  {
   "cell_type": "code",
   "execution_count": 130,
   "id": "5efc5711-3f8a-4c62-a6b0-0299df425d35",
   "metadata": {},
   "outputs": [],
   "source": [
    "# Compute mean, median, and mode\n",
    "mean_timestamp = fst_df['Date_2019_End'].mean()\n",
    "median_timestamp = fst_df['Date_2019_End'].median()\n",
    "mode_timestamp = fst_df['Date_2019_End'].mode()[0]  # mode() returns a Series\n",
    "\n",
    "# Fill NaN values with mode timestamp (which is same as mean and median in this case)\n",
    "fst_df['Date_2019_End'] = fst_df['Date_2019_End'].fillna(mode_timestamp)"
   ]
  },
  {
   "cell_type": "code",
   "execution_count": 131,
   "id": "7ab2217f-b41a-48bd-80dc-f46707140b37",
   "metadata": {},
   "outputs": [],
   "source": [
    "# Compute mean, median, and mode\n",
    "mean_timestamp = fst_df['Date_2020_End'].mean()\n",
    "median_timestamp = fst_df['Date_2020_End'].median()\n",
    "mode_timestamp = fst_df['Date_2020_End'].mode()[0]  # mode() returns a Series\n",
    "\n",
    "# Fill NaN values with mode timestamp (which is same as mean and median in this case)\n",
    "fst_df['Date_2020_End'] = fst_df['Date_2020_End'].fillna(mode_timestamp)"
   ]
  },
  {
   "cell_type": "code",
   "execution_count": 132,
   "id": "2b495e4d-d931-4789-ba7e-851a55c97aa6",
   "metadata": {},
   "outputs": [],
   "source": [
    "# Compute mean, median, and mode\n",
    "mean_timestamp = fst_df['Date_2021_End'].mean()\n",
    "median_timestamp = fst_df['Date_2021_End'].median()\n",
    "mode_timestamp = fst_df['Date_2021_End'].mode()[0]  # mode() returns a Series\n",
    "\n",
    "# Fill NaN values with mode timestamp (which is same as mean and median in this case)\n",
    "fst_df['Date_2021_End'] = fst_df['Date_2021_End'].fillna(mode_timestamp)"
   ]
  },
  {
   "cell_type": "code",
   "execution_count": 133,
   "id": "d73a7273-64df-4e0b-8069-0982e6e8c895",
   "metadata": {},
   "outputs": [
    {
     "data": {
      "text/html": [
       "<div>\n",
       "<style scoped>\n",
       "    .dataframe tbody tr th:only-of-type {\n",
       "        vertical-align: middle;\n",
       "    }\n",
       "\n",
       "    .dataframe tbody tr th {\n",
       "        vertical-align: top;\n",
       "    }\n",
       "\n",
       "    .dataframe thead th {\n",
       "        text-align: right;\n",
       "    }\n",
       "</style>\n",
       "<table border=\"1\" class=\"dataframe\">\n",
       "  <thead>\n",
       "    <tr style=\"text-align: right;\">\n",
       "      <th></th>\n",
       "      <th>Festive Occasions</th>\n",
       "      <th>Start-2019</th>\n",
       "      <th>Date_2019_End</th>\n",
       "      <th>Start-2020</th>\n",
       "      <th>Date_2020_End</th>\n",
       "      <th>Start-2021</th>\n",
       "      <th>Date_2021_End</th>\n",
       "    </tr>\n",
       "  </thead>\n",
       "  <tbody>\n",
       "    <tr>\n",
       "      <th>0</th>\n",
       "      <td>Independence Day</td>\n",
       "      <td>2019-08-15</td>\n",
       "      <td>2019-11-15</td>\n",
       "      <td>2020-08-15</td>\n",
       "      <td>2020-11-05</td>\n",
       "      <td>2021-08-15</td>\n",
       "      <td>2021-10-26</td>\n",
       "    </tr>\n",
       "    <tr>\n",
       "      <th>1</th>\n",
       "      <td>Republic Day</td>\n",
       "      <td>2019-01-26</td>\n",
       "      <td>2019-11-15</td>\n",
       "      <td>2020-01-26</td>\n",
       "      <td>2020-11-05</td>\n",
       "      <td>2021-01-26</td>\n",
       "      <td>2021-10-26</td>\n",
       "    </tr>\n",
       "    <tr>\n",
       "      <th>2</th>\n",
       "      <td>Dhanteras</td>\n",
       "      <td>2019-11-13</td>\n",
       "      <td>2019-11-15</td>\n",
       "      <td>2020-11-02</td>\n",
       "      <td>2020-11-05</td>\n",
       "      <td>2021-10-22</td>\n",
       "      <td>2021-10-26</td>\n",
       "    </tr>\n",
       "    <tr>\n",
       "      <th>3</th>\n",
       "      <td>Vijaya Dashami</td>\n",
       "      <td>2019-10-25</td>\n",
       "      <td>2019-11-15</td>\n",
       "      <td>2020-10-15</td>\n",
       "      <td>2020-11-05</td>\n",
       "      <td>2021-10-05</td>\n",
       "      <td>2021-10-26</td>\n",
       "    </tr>\n",
       "    <tr>\n",
       "      <th>4</th>\n",
       "      <td>Deepawali/Laxmi Puja/Narak Chaturdashi: From</td>\n",
       "      <td>2019-11-14</td>\n",
       "      <td>2019-11-15</td>\n",
       "      <td>2020-11-04</td>\n",
       "      <td>2020-11-05</td>\n",
       "      <td>2021-10-24</td>\n",
       "      <td>2021-10-26</td>\n",
       "    </tr>\n",
       "    <tr>\n",
       "      <th>5</th>\n",
       "      <td>Christimas</td>\n",
       "      <td>2019-12-25</td>\n",
       "      <td>2019-11-15</td>\n",
       "      <td>2020-12-25</td>\n",
       "      <td>2020-11-05</td>\n",
       "      <td>2021-12-25</td>\n",
       "      <td>2021-10-26</td>\n",
       "    </tr>\n",
       "    <tr>\n",
       "      <th>6</th>\n",
       "      <td>Father's Day</td>\n",
       "      <td>2019-06-21</td>\n",
       "      <td>2019-11-15</td>\n",
       "      <td>2020-06-20</td>\n",
       "      <td>2020-11-05</td>\n",
       "      <td>2021-06-19</td>\n",
       "      <td>2021-10-26</td>\n",
       "    </tr>\n",
       "    <tr>\n",
       "      <th>7</th>\n",
       "      <td>Mahatma Gandhi Jayanti</td>\n",
       "      <td>2019-10-02</td>\n",
       "      <td>2019-11-15</td>\n",
       "      <td>2020-10-02</td>\n",
       "      <td>2020-11-05</td>\n",
       "      <td>2021-10-02</td>\n",
       "      <td>2021-10-26</td>\n",
       "    </tr>\n",
       "    <tr>\n",
       "      <th>8</th>\n",
       "      <td>New Years Eve</td>\n",
       "      <td>2019-12-31</td>\n",
       "      <td>2019-11-15</td>\n",
       "      <td>2020-12-31</td>\n",
       "      <td>2020-11-05</td>\n",
       "      <td>2021-12-31</td>\n",
       "      <td>2021-10-26</td>\n",
       "    </tr>\n",
       "    <tr>\n",
       "      <th>9</th>\n",
       "      <td>Gudi Padwa</td>\n",
       "      <td>2019-03-25</td>\n",
       "      <td>2019-11-15</td>\n",
       "      <td>2020-04-13</td>\n",
       "      <td>2020-11-05</td>\n",
       "      <td>2021-04-02</td>\n",
       "      <td>2021-10-26</td>\n",
       "    </tr>\n",
       "  </tbody>\n",
       "</table>\n",
       "</div>"
      ],
      "text/plain": [
       "                              Festive Occasions Start-2019 Date_2019_End  \\\n",
       "0                              Independence Day 2019-08-15    2019-11-15   \n",
       "1                                  Republic Day 2019-01-26    2019-11-15   \n",
       "2                                     Dhanteras 2019-11-13    2019-11-15   \n",
       "3                                Vijaya Dashami 2019-10-25    2019-11-15   \n",
       "4  Deepawali/Laxmi Puja/Narak Chaturdashi: From 2019-11-14    2019-11-15   \n",
       "5                                    Christimas 2019-12-25    2019-11-15   \n",
       "6                                  Father's Day 2019-06-21    2019-11-15   \n",
       "7                        Mahatma Gandhi Jayanti 2019-10-02    2019-11-15   \n",
       "8                                 New Years Eve 2019-12-31    2019-11-15   \n",
       "9                                    Gudi Padwa 2019-03-25    2019-11-15   \n",
       "\n",
       "  Start-2020 Date_2020_End Start-2021 Date_2021_End  \n",
       "0 2020-08-15    2020-11-05 2021-08-15    2021-10-26  \n",
       "1 2020-01-26    2020-11-05 2021-01-26    2021-10-26  \n",
       "2 2020-11-02    2020-11-05 2021-10-22    2021-10-26  \n",
       "3 2020-10-15    2020-11-05 2021-10-05    2021-10-26  \n",
       "4 2020-11-04    2020-11-05 2021-10-24    2021-10-26  \n",
       "5 2020-12-25    2020-11-05 2021-12-25    2021-10-26  \n",
       "6 2020-06-20    2020-11-05 2021-06-19    2021-10-26  \n",
       "7 2020-10-02    2020-11-05 2021-10-02    2021-10-26  \n",
       "8 2020-12-31    2020-11-05 2021-12-31    2021-10-26  \n",
       "9 2020-04-13    2020-11-05 2021-04-02    2021-10-26  "
      ]
     },
     "execution_count": 133,
     "metadata": {},
     "output_type": "execute_result"
    }
   ],
   "source": [
    "fst_df"
   ]
  },
  {
   "cell_type": "code",
   "execution_count": 169,
   "id": "16fe97bf-3a0e-4c23-87be-3e1ae8deac5d",
   "metadata": {},
   "outputs": [],
   "source": [
    "# All columns name of each dataframes"
   ]
  },
  {
   "cell_type": "code",
   "execution_count": 134,
   "id": "62e8ecf3-96fd-4231-9765-b01cd9ffba2b",
   "metadata": {},
   "outputs": [
    {
     "data": {
      "text/plain": [
       "Index(['Festive Occasions', 'Start-2019', 'Date_2019_End', 'Start-2020',\n",
       "       'Date_2020_End', 'Start-2021', 'Date_2021_End'],\n",
       "      dtype='object')"
      ]
     },
     "execution_count": 134,
     "metadata": {},
     "output_type": "execute_result"
    }
   ],
   "source": [
    "fst_df.columns"
   ]
  },
  {
   "cell_type": "code",
   "execution_count": 135,
   "id": "1600df3f-0ac1-4a54-8828-d6294c8c18ad",
   "metadata": {},
   "outputs": [
    {
     "data": {
      "text/plain": [
       "Index(['CustID', 'status', 'Campaign_Exec_Date', 'Campaign_Channel'], dtype='object')"
      ]
     },
     "execution_count": 135,
     "metadata": {},
     "output_type": "execute_result"
    }
   ],
   "source": [
    "df.columns"
   ]
  },
  {
   "cell_type": "code",
   "execution_count": 136,
   "id": "eb47bde6-e443-44c0-a719-f318908ded33",
   "metadata": {},
   "outputs": [
    {
     "data": {
      "text/plain": [
       "Index(['CustID', 'Gender', 'Marital_Status', 'State'], dtype='object')"
      ]
     },
     "execution_count": 136,
     "metadata": {},
     "output_type": "execute_result"
    }
   ],
   "source": [
    "mst_df.columns"
   ]
  },
  {
   "cell_type": "code",
   "execution_count": 137,
   "id": "f7a09068-8bad-445f-be83-a4bd95370fe8",
   "metadata": {},
   "outputs": [
    {
     "data": {
      "text/plain": [
       "Index(['orderdate', 'articletype', 'originalreqdeliverydate', 'currentstatus',\n",
       "       'currentstatustimestamp', 'sale_timestamp', 'readytopick_timestamp',\n",
       "       'readytoship_timestamp', 'packed_timestamp',\n",
       "       'connecttocarrier_timestamp', 'handedovertocarrier_timestamp',\n",
       "       'deliveryinprogress_timestamp', 'outfordelivery_timestamp',\n",
       "       'delivered_timestamp', 'articlename', 'merchcategorydescription',\n",
       "       'merchclassdescription', 'merchgroupdescription', 'itemdesc',\n",
       "       'shiptozipcode', 'shiptocity', 'shiptostate'],\n",
       "      dtype='object')"
      ]
     },
     "execution_count": 137,
     "metadata": {},
     "output_type": "execute_result"
    }
   ],
   "source": [
    "deliv_df.columns"
   ]
  },
  {
   "cell_type": "code",
   "execution_count": 138,
   "id": "c816b924-e93c-41d6-87b4-a91926340877",
   "metadata": {},
   "outputs": [
    {
     "data": {
      "text/plain": [
       "Index(['UID', 'group_description', 'category_description',\n",
       "       'product_description', 'city', 'Feedback'],\n",
       "      dtype='object')"
      ]
     },
     "execution_count": 138,
     "metadata": {},
     "output_type": "execute_result"
    }
   ],
   "source": [
    "cust_df.columns"
   ]
  },
  {
   "cell_type": "code",
   "execution_count": 139,
   "id": "f71bec4f-493b-45f5-b265-742cee8a67c1",
   "metadata": {},
   "outputs": [
    {
     "data": {
      "text/plain": [
       "Index(['CustID', 'ItemDesc', 'MerchCategoryDescription',\n",
       "       'MerchClassDescription', 'MerchGroupDescription', 'SaleValue',\n",
       "       'OrderedQuantity', 'OrderDate', 'ReturnFlag', 'SalesChannelCode',\n",
       "       'Ecom_BnM_Indicator', 'StoreID', 'StoreCode', 'StoreCity', 'StoreState',\n",
       "       'StorePincode'],\n",
       "      dtype='object')"
      ]
     },
     "execution_count": 139,
     "metadata": {},
     "output_type": "execute_result"
    }
   ],
   "source": [
    "cst_trn_df.columns"
   ]
  },
  {
   "cell_type": "code",
   "execution_count": null,
   "id": "d2bef68e-9cd9-426f-b043-46045684fd9c",
   "metadata": {},
   "outputs": [],
   "source": []
  },
  {
   "cell_type": "code",
   "execution_count": 140,
   "id": "10032d48-76b1-46ed-b47f-db17b87e7a18",
   "metadata": {},
   "outputs": [],
   "source": [
    "# Merge Dataset : Join the datasets on common columns to create a comprehensive dataset for analysis."
   ]
  },
  {
   "cell_type": "code",
   "execution_count": 141,
   "id": "aa2cd230-13eb-4bc4-af08-26545537325c",
   "metadata": {},
   "outputs": [
    {
     "data": {
      "text/html": [
       "<div>\n",
       "<style scoped>\n",
       "    .dataframe tbody tr th:only-of-type {\n",
       "        vertical-align: middle;\n",
       "    }\n",
       "\n",
       "    .dataframe tbody tr th {\n",
       "        vertical-align: top;\n",
       "    }\n",
       "\n",
       "    .dataframe thead th {\n",
       "        text-align: right;\n",
       "    }\n",
       "</style>\n",
       "<table border=\"1\" class=\"dataframe\">\n",
       "  <thead>\n",
       "    <tr style=\"text-align: right;\">\n",
       "      <th></th>\n",
       "      <th>CustID</th>\n",
       "      <th>status</th>\n",
       "      <th>Campaign_Exec_Date</th>\n",
       "      <th>Campaign_Channel</th>\n",
       "      <th>Gender</th>\n",
       "      <th>Marital_Status</th>\n",
       "      <th>State</th>\n",
       "    </tr>\n",
       "  </thead>\n",
       "  <tbody>\n",
       "    <tr>\n",
       "      <th>0</th>\n",
       "      <td>0</td>\n",
       "      <td>viewed</td>\n",
       "      <td>2019-05-28</td>\n",
       "      <td>Email</td>\n",
       "      <td>Male</td>\n",
       "      <td>Unmarried</td>\n",
       "      <td>Keral</td>\n",
       "    </tr>\n",
       "    <tr>\n",
       "      <th>1</th>\n",
       "      <td>0</td>\n",
       "      <td>delivered</td>\n",
       "      <td>2019-05-29</td>\n",
       "      <td>Email</td>\n",
       "      <td>Male</td>\n",
       "      <td>Unmarried</td>\n",
       "      <td>Keral</td>\n",
       "    </tr>\n",
       "    <tr>\n",
       "      <th>2</th>\n",
       "      <td>0</td>\n",
       "      <td>delivered</td>\n",
       "      <td>2019-05-30</td>\n",
       "      <td>Email</td>\n",
       "      <td>Male</td>\n",
       "      <td>Unmarried</td>\n",
       "      <td>Keral</td>\n",
       "    </tr>\n",
       "    <tr>\n",
       "      <th>3</th>\n",
       "      <td>0</td>\n",
       "      <td>delivered</td>\n",
       "      <td>2019-06-03</td>\n",
       "      <td>Email</td>\n",
       "      <td>Male</td>\n",
       "      <td>Unmarried</td>\n",
       "      <td>Keral</td>\n",
       "    </tr>\n",
       "    <tr>\n",
       "      <th>4</th>\n",
       "      <td>0</td>\n",
       "      <td>delivered</td>\n",
       "      <td>2019-06-04</td>\n",
       "      <td>Email</td>\n",
       "      <td>Male</td>\n",
       "      <td>Unmarried</td>\n",
       "      <td>Keral</td>\n",
       "    </tr>\n",
       "    <tr>\n",
       "      <th>...</th>\n",
       "      <td>...</td>\n",
       "      <td>...</td>\n",
       "      <td>...</td>\n",
       "      <td>...</td>\n",
       "      <td>...</td>\n",
       "      <td>...</td>\n",
       "      <td>...</td>\n",
       "    </tr>\n",
       "    <tr>\n",
       "      <th>10912587</th>\n",
       "      <td>371215</td>\n",
       "      <td>viewed</td>\n",
       "      <td>2020-11-24</td>\n",
       "      <td>Email</td>\n",
       "      <td>Male</td>\n",
       "      <td>Unmarried</td>\n",
       "      <td>Karnataka</td>\n",
       "    </tr>\n",
       "    <tr>\n",
       "      <th>10912588</th>\n",
       "      <td>371215</td>\n",
       "      <td>viewed</td>\n",
       "      <td>2020-11-25</td>\n",
       "      <td>Email</td>\n",
       "      <td>Male</td>\n",
       "      <td>Unmarried</td>\n",
       "      <td>Karnataka</td>\n",
       "    </tr>\n",
       "    <tr>\n",
       "      <th>10912589</th>\n",
       "      <td>371215</td>\n",
       "      <td>viewed</td>\n",
       "      <td>2020-11-26</td>\n",
       "      <td>Email</td>\n",
       "      <td>Male</td>\n",
       "      <td>Unmarried</td>\n",
       "      <td>Karnataka</td>\n",
       "    </tr>\n",
       "    <tr>\n",
       "      <th>10912590</th>\n",
       "      <td>371215</td>\n",
       "      <td>delivered</td>\n",
       "      <td>2020-11-27</td>\n",
       "      <td>Email</td>\n",
       "      <td>Male</td>\n",
       "      <td>Unmarried</td>\n",
       "      <td>Karnataka</td>\n",
       "    </tr>\n",
       "    <tr>\n",
       "      <th>10912591</th>\n",
       "      <td>371215</td>\n",
       "      <td>delivered</td>\n",
       "      <td>2020-11-28</td>\n",
       "      <td>Email</td>\n",
       "      <td>Male</td>\n",
       "      <td>Unmarried</td>\n",
       "      <td>Karnataka</td>\n",
       "    </tr>\n",
       "  </tbody>\n",
       "</table>\n",
       "<p>10912592 rows × 7 columns</p>\n",
       "</div>"
      ],
      "text/plain": [
       "          CustID     status Campaign_Exec_Date Campaign_Channel Gender  \\\n",
       "0              0     viewed         2019-05-28            Email   Male   \n",
       "1              0  delivered         2019-05-29            Email   Male   \n",
       "2              0  delivered         2019-05-30            Email   Male   \n",
       "3              0  delivered         2019-06-03            Email   Male   \n",
       "4              0  delivered         2019-06-04            Email   Male   \n",
       "...          ...        ...                ...              ...    ...   \n",
       "10912587  371215     viewed         2020-11-24            Email   Male   \n",
       "10912588  371215     viewed         2020-11-25            Email   Male   \n",
       "10912589  371215     viewed         2020-11-26            Email   Male   \n",
       "10912590  371215  delivered         2020-11-27            Email   Male   \n",
       "10912591  371215  delivered         2020-11-28            Email   Male   \n",
       "\n",
       "         Marital_Status      State  \n",
       "0             Unmarried      Keral  \n",
       "1             Unmarried      Keral  \n",
       "2             Unmarried      Keral  \n",
       "3             Unmarried      Keral  \n",
       "4             Unmarried      Keral  \n",
       "...                 ...        ...  \n",
       "10912587      Unmarried  Karnataka  \n",
       "10912588      Unmarried  Karnataka  \n",
       "10912589      Unmarried  Karnataka  \n",
       "10912590      Unmarried  Karnataka  \n",
       "10912591      Unmarried  Karnataka  \n",
       "\n",
       "[10912592 rows x 7 columns]"
      ]
     },
     "execution_count": 141,
     "metadata": {},
     "output_type": "execute_result"
    }
   ],
   "source": [
    "# Merge customer data with master data on Customer ID\n",
    "merged_data = pd.merge(df, mst_df, on='CustID')\n",
    "merged_data"
   ]
  },
  {
   "cell_type": "code",
   "execution_count": 142,
   "id": "74a8cd48-7cf6-4807-89df-86c4bba44704",
   "metadata": {},
   "outputs": [
    {
     "data": {
      "text/html": [
       "<div>\n",
       "<style scoped>\n",
       "    .dataframe tbody tr th:only-of-type {\n",
       "        vertical-align: middle;\n",
       "    }\n",
       "\n",
       "    .dataframe tbody tr th {\n",
       "        vertical-align: top;\n",
       "    }\n",
       "\n",
       "    .dataframe thead th {\n",
       "        text-align: right;\n",
       "    }\n",
       "</style>\n",
       "<table border=\"1\" class=\"dataframe\">\n",
       "  <thead>\n",
       "    <tr style=\"text-align: right;\">\n",
       "      <th></th>\n",
       "      <th>CustID</th>\n",
       "      <th>status</th>\n",
       "      <th>Campaign_Exec_Date</th>\n",
       "      <th>Campaign_Channel</th>\n",
       "      <th>Gender</th>\n",
       "      <th>Marital_Status</th>\n",
       "      <th>State</th>\n",
       "      <th>ItemDesc</th>\n",
       "      <th>MerchCategoryDescription</th>\n",
       "      <th>MerchClassDescription</th>\n",
       "      <th>...</th>\n",
       "      <th>OrderedQuantity</th>\n",
       "      <th>OrderDate</th>\n",
       "      <th>ReturnFlag</th>\n",
       "      <th>SalesChannelCode</th>\n",
       "      <th>Ecom_BnM_Indicator</th>\n",
       "      <th>StoreID</th>\n",
       "      <th>StoreCode</th>\n",
       "      <th>StoreCity</th>\n",
       "      <th>StoreState</th>\n",
       "      <th>StorePincode</th>\n",
       "    </tr>\n",
       "  </thead>\n",
       "  <tbody>\n",
       "    <tr>\n",
       "      <th>0</th>\n",
       "      <td>0</td>\n",
       "      <td>viewed</td>\n",
       "      <td>2019-05-28</td>\n",
       "      <td>Email</td>\n",
       "      <td>Male</td>\n",
       "      <td>Unmarried</td>\n",
       "      <td>Keral</td>\n",
       "      <td>APPLE PROTECTION PLAN MACBOOK PRO</td>\n",
       "      <td>APPLE PROTECTION PLAN MACBOOK PRO</td>\n",
       "      <td>Mobile Computing</td>\n",
       "      <td>...</td>\n",
       "      <td>-1</td>\n",
       "      <td>2019-01-01</td>\n",
       "      <td>No Return</td>\n",
       "      <td>RS</td>\n",
       "      <td>B&amp;M</td>\n",
       "      <td>83.0</td>\n",
       "      <td>A129</td>\n",
       "      <td>Pune</td>\n",
       "      <td>Maharashtra</td>\n",
       "      <td>411014</td>\n",
       "    </tr>\n",
       "    <tr>\n",
       "      <th>1</th>\n",
       "      <td>0</td>\n",
       "      <td>viewed</td>\n",
       "      <td>2019-05-28</td>\n",
       "      <td>Email</td>\n",
       "      <td>Male</td>\n",
       "      <td>Unmarried</td>\n",
       "      <td>Keral</td>\n",
       "      <td>MacBook Pro 16 2.6GH i7 9G 16GB 512GB SG</td>\n",
       "      <td>MacBook Pro 16 2.6GH i7 9G 16GB 512GB SG</td>\n",
       "      <td>Mobile Computing</td>\n",
       "      <td>...</td>\n",
       "      <td>-1</td>\n",
       "      <td>2019-01-01</td>\n",
       "      <td>No Return</td>\n",
       "      <td>RS</td>\n",
       "      <td>B&amp;M</td>\n",
       "      <td>83.0</td>\n",
       "      <td>A129</td>\n",
       "      <td>Pune</td>\n",
       "      <td>Maharashtra</td>\n",
       "      <td>411014</td>\n",
       "    </tr>\n",
       "    <tr>\n",
       "      <th>2</th>\n",
       "      <td>0</td>\n",
       "      <td>viewed</td>\n",
       "      <td>2019-05-28</td>\n",
       "      <td>Email</td>\n",
       "      <td>Male</td>\n",
       "      <td>Unmarried</td>\n",
       "      <td>Keral</td>\n",
       "      <td>Apple Airpods Pro Wireless Case MWP22 Wt</td>\n",
       "      <td>Apple Airpods Pro Wireless Case MWP22 Wt</td>\n",
       "      <td>Earphones/Headphones</td>\n",
       "      <td>...</td>\n",
       "      <td>1</td>\n",
       "      <td>2019-02-24</td>\n",
       "      <td>No Return</td>\n",
       "      <td>EA</td>\n",
       "      <td>B&amp;M</td>\n",
       "      <td>83.0</td>\n",
       "      <td>A129</td>\n",
       "      <td>Pune</td>\n",
       "      <td>Maharashtra</td>\n",
       "      <td>411014</td>\n",
       "    </tr>\n",
       "    <tr>\n",
       "      <th>3</th>\n",
       "      <td>0</td>\n",
       "      <td>viewed</td>\n",
       "      <td>2019-05-28</td>\n",
       "      <td>Email</td>\n",
       "      <td>Male</td>\n",
       "      <td>Unmarried</td>\n",
       "      <td>Keral</td>\n",
       "      <td>Apple Airpods Pro Wireless Case MWP22 Wt</td>\n",
       "      <td>Apple Airpods Pro Wireless Case MWP22 Wt</td>\n",
       "      <td>Earphones/Headphones</td>\n",
       "      <td>...</td>\n",
       "      <td>1</td>\n",
       "      <td>2019-03-01</td>\n",
       "      <td>No Return</td>\n",
       "      <td>RS</td>\n",
       "      <td>B&amp;M</td>\n",
       "      <td>83.0</td>\n",
       "      <td>A129</td>\n",
       "      <td>Pune</td>\n",
       "      <td>Maharashtra</td>\n",
       "      <td>411014</td>\n",
       "    </tr>\n",
       "    <tr>\n",
       "      <th>4</th>\n",
       "      <td>0</td>\n",
       "      <td>viewed</td>\n",
       "      <td>2019-05-28</td>\n",
       "      <td>Email</td>\n",
       "      <td>Male</td>\n",
       "      <td>Unmarried</td>\n",
       "      <td>Keral</td>\n",
       "      <td>Samsung 32 LS32BM501EW 60Hz White</td>\n",
       "      <td>Samsung 32 LS32BM501EW 60Hz White</td>\n",
       "      <td>Monitors</td>\n",
       "      <td>...</td>\n",
       "      <td>1</td>\n",
       "      <td>2021-11-07</td>\n",
       "      <td>No Return</td>\n",
       "      <td>RS</td>\n",
       "      <td>B&amp;M</td>\n",
       "      <td>83.0</td>\n",
       "      <td>A129</td>\n",
       "      <td>Pune</td>\n",
       "      <td>Maharashtra</td>\n",
       "      <td>411014</td>\n",
       "    </tr>\n",
       "  </tbody>\n",
       "</table>\n",
       "<p>5 rows × 22 columns</p>\n",
       "</div>"
      ],
      "text/plain": [
       "   CustID  status Campaign_Exec_Date Campaign_Channel Gender Marital_Status  \\\n",
       "0       0  viewed         2019-05-28            Email   Male      Unmarried   \n",
       "1       0  viewed         2019-05-28            Email   Male      Unmarried   \n",
       "2       0  viewed         2019-05-28            Email   Male      Unmarried   \n",
       "3       0  viewed         2019-05-28            Email   Male      Unmarried   \n",
       "4       0  viewed         2019-05-28            Email   Male      Unmarried   \n",
       "\n",
       "   State                                  ItemDesc  \\\n",
       "0  Keral         APPLE PROTECTION PLAN MACBOOK PRO   \n",
       "1  Keral  MacBook Pro 16 2.6GH i7 9G 16GB 512GB SG   \n",
       "2  Keral  Apple Airpods Pro Wireless Case MWP22 Wt   \n",
       "3  Keral  Apple Airpods Pro Wireless Case MWP22 Wt   \n",
       "4  Keral         Samsung 32 LS32BM501EW 60Hz White   \n",
       "\n",
       "                   MerchCategoryDescription MerchClassDescription  ...  \\\n",
       "0         APPLE PROTECTION PLAN MACBOOK PRO      Mobile Computing  ...   \n",
       "1  MacBook Pro 16 2.6GH i7 9G 16GB 512GB SG      Mobile Computing  ...   \n",
       "2  Apple Airpods Pro Wireless Case MWP22 Wt  Earphones/Headphones  ...   \n",
       "3  Apple Airpods Pro Wireless Case MWP22 Wt  Earphones/Headphones  ...   \n",
       "4         Samsung 32 LS32BM501EW 60Hz White              Monitors  ...   \n",
       "\n",
       "  OrderedQuantity  OrderDate  ReturnFlag SalesChannelCode Ecom_BnM_Indicator  \\\n",
       "0              -1 2019-01-01   No Return               RS                B&M   \n",
       "1              -1 2019-01-01   No Return               RS                B&M   \n",
       "2               1 2019-02-24   No Return               EA                B&M   \n",
       "3               1 2019-03-01   No Return               RS                B&M   \n",
       "4               1 2021-11-07   No Return               RS                B&M   \n",
       "\n",
       "  StoreID StoreCode  StoreCity   StoreState StorePincode  \n",
       "0    83.0      A129       Pune  Maharashtra       411014  \n",
       "1    83.0      A129       Pune  Maharashtra       411014  \n",
       "2    83.0      A129       Pune  Maharashtra       411014  \n",
       "3    83.0      A129       Pune  Maharashtra       411014  \n",
       "4    83.0      A129       Pune  Maharashtra       411014  \n",
       "\n",
       "[5 rows x 22 columns]"
      ]
     },
     "execution_count": 142,
     "metadata": {},
     "output_type": "execute_result"
    }
   ],
   "source": [
    "# Merge the result with transaction data\n",
    "full_data = pd.merge(merged_data, cst_trn_df, on='CustID', how='left')\n",
    "full_data.head()"
   ]
  },
  {
   "cell_type": "code",
   "execution_count": 143,
   "id": "6cbcab74-05aa-4fbd-90ea-38030d7c74d9",
   "metadata": {},
   "outputs": [
    {
     "data": {
      "text/plain": [
       "Index(['CustID', 'status', 'Campaign_Exec_Date', 'Campaign_Channel', 'Gender',\n",
       "       'Marital_Status', 'State', 'ItemDesc', 'MerchCategoryDescription',\n",
       "       'MerchClassDescription', 'MerchGroupDescription', 'SaleValue',\n",
       "       'OrderedQuantity', 'OrderDate', 'ReturnFlag', 'SalesChannelCode',\n",
       "       'Ecom_BnM_Indicator', 'StoreID', 'StoreCode', 'StoreCity', 'StoreState',\n",
       "       'StorePincode'],\n",
       "      dtype='object')"
      ]
     },
     "execution_count": 143,
     "metadata": {},
     "output_type": "execute_result"
    }
   ],
   "source": [
    "full_data.columns"
   ]
  },
  {
   "cell_type": "markdown",
   "id": "be112e48-4baf-4790-aec5-d81580aa119c",
   "metadata": {},
   "source": [
    "# CASE STUDY 1 - [Exploratory Data Analysis]:"
   ]
  },
  {
   "cell_type": "code",
   "execution_count": 144,
   "id": "e46c9a47-113a-4f09-aeeb-27a14ebc84e9",
   "metadata": {},
   "outputs": [],
   "source": [
    "# Merge Transaction Data with Master Data"
   ]
  },
  {
   "cell_type": "code",
   "execution_count": 145,
   "id": "f044d422-02b9-4fa6-9c15-bbc4753bc2ee",
   "metadata": {},
   "outputs": [
    {
     "data": {
      "text/html": [
       "<div>\n",
       "<style scoped>\n",
       "    .dataframe tbody tr th:only-of-type {\n",
       "        vertical-align: middle;\n",
       "    }\n",
       "\n",
       "    .dataframe tbody tr th {\n",
       "        vertical-align: top;\n",
       "    }\n",
       "\n",
       "    .dataframe thead th {\n",
       "        text-align: right;\n",
       "    }\n",
       "</style>\n",
       "<table border=\"1\" class=\"dataframe\">\n",
       "  <thead>\n",
       "    <tr style=\"text-align: right;\">\n",
       "      <th></th>\n",
       "      <th>CustID</th>\n",
       "      <th>ItemDesc</th>\n",
       "      <th>MerchCategoryDescription</th>\n",
       "      <th>MerchClassDescription</th>\n",
       "      <th>MerchGroupDescription</th>\n",
       "      <th>SaleValue</th>\n",
       "      <th>OrderedQuantity</th>\n",
       "      <th>OrderDate</th>\n",
       "      <th>ReturnFlag</th>\n",
       "      <th>SalesChannelCode</th>\n",
       "      <th>Ecom_BnM_Indicator</th>\n",
       "      <th>StoreID</th>\n",
       "      <th>StoreCode</th>\n",
       "      <th>StoreCity</th>\n",
       "      <th>StoreState</th>\n",
       "      <th>StorePincode</th>\n",
       "      <th>Gender</th>\n",
       "      <th>Marital_Status</th>\n",
       "      <th>State</th>\n",
       "    </tr>\n",
       "  </thead>\n",
       "  <tbody>\n",
       "    <tr>\n",
       "      <th>0</th>\n",
       "      <td>0</td>\n",
       "      <td>APPLE PROTECTION PLAN MACBOOK PRO</td>\n",
       "      <td>APPLE PROTECTION PLAN MACBOOK PRO</td>\n",
       "      <td>Mobile Computing</td>\n",
       "      <td>Computers Peripherals</td>\n",
       "      <td>-25398.00</td>\n",
       "      <td>-1</td>\n",
       "      <td>2019-01-01</td>\n",
       "      <td>No Return</td>\n",
       "      <td>RS</td>\n",
       "      <td>B&amp;M</td>\n",
       "      <td>83.0</td>\n",
       "      <td>A129</td>\n",
       "      <td>Pune</td>\n",
       "      <td>Maharashtra</td>\n",
       "      <td>411014</td>\n",
       "      <td>Male</td>\n",
       "      <td>Unmarried</td>\n",
       "      <td>Keral</td>\n",
       "    </tr>\n",
       "    <tr>\n",
       "      <th>1</th>\n",
       "      <td>0</td>\n",
       "      <td>MacBook Pro 16 2.6GH i7 9G 16GB 512GB SG</td>\n",
       "      <td>MacBook Pro 16 2.6GH i7 9G 16GB 512GB SG</td>\n",
       "      <td>Mobile Computing</td>\n",
       "      <td>Computers Peripherals</td>\n",
       "      <td>-193703.10</td>\n",
       "      <td>-1</td>\n",
       "      <td>2019-01-01</td>\n",
       "      <td>No Return</td>\n",
       "      <td>RS</td>\n",
       "      <td>B&amp;M</td>\n",
       "      <td>83.0</td>\n",
       "      <td>A129</td>\n",
       "      <td>Pune</td>\n",
       "      <td>Maharashtra</td>\n",
       "      <td>411014</td>\n",
       "      <td>Male</td>\n",
       "      <td>Unmarried</td>\n",
       "      <td>Keral</td>\n",
       "    </tr>\n",
       "    <tr>\n",
       "      <th>2</th>\n",
       "      <td>0</td>\n",
       "      <td>Apple Airpods Pro Wireless Case MWP22 Wt</td>\n",
       "      <td>Apple Airpods Pro Wireless Case MWP22 Wt</td>\n",
       "      <td>Earphones/Headphones</td>\n",
       "      <td>Entertainment</td>\n",
       "      <td>25398.00</td>\n",
       "      <td>1</td>\n",
       "      <td>2019-02-24</td>\n",
       "      <td>No Return</td>\n",
       "      <td>EA</td>\n",
       "      <td>B&amp;M</td>\n",
       "      <td>83.0</td>\n",
       "      <td>A129</td>\n",
       "      <td>Pune</td>\n",
       "      <td>Maharashtra</td>\n",
       "      <td>411014</td>\n",
       "      <td>Male</td>\n",
       "      <td>Unmarried</td>\n",
       "      <td>Keral</td>\n",
       "    </tr>\n",
       "    <tr>\n",
       "      <th>3</th>\n",
       "      <td>0</td>\n",
       "      <td>Apple Airpods Pro Wireless Case MWP22 Wt</td>\n",
       "      <td>Apple Airpods Pro Wireless Case MWP22 Wt</td>\n",
       "      <td>Earphones/Headphones</td>\n",
       "      <td>Entertainment</td>\n",
       "      <td>25398.00</td>\n",
       "      <td>1</td>\n",
       "      <td>2019-03-01</td>\n",
       "      <td>No Return</td>\n",
       "      <td>RS</td>\n",
       "      <td>B&amp;M</td>\n",
       "      <td>83.0</td>\n",
       "      <td>A129</td>\n",
       "      <td>Pune</td>\n",
       "      <td>Maharashtra</td>\n",
       "      <td>411014</td>\n",
       "      <td>Male</td>\n",
       "      <td>Unmarried</td>\n",
       "      <td>Keral</td>\n",
       "    </tr>\n",
       "    <tr>\n",
       "      <th>4</th>\n",
       "      <td>0</td>\n",
       "      <td>Samsung 32 LS32BM501EW 60Hz White</td>\n",
       "      <td>Samsung 32 LS32BM501EW 60Hz White</td>\n",
       "      <td>Monitors</td>\n",
       "      <td>Computers Peripherals</td>\n",
       "      <td>22438.98</td>\n",
       "      <td>1</td>\n",
       "      <td>2021-11-07</td>\n",
       "      <td>No Return</td>\n",
       "      <td>RS</td>\n",
       "      <td>B&amp;M</td>\n",
       "      <td>83.0</td>\n",
       "      <td>A129</td>\n",
       "      <td>Pune</td>\n",
       "      <td>Maharashtra</td>\n",
       "      <td>411014</td>\n",
       "      <td>Male</td>\n",
       "      <td>Unmarried</td>\n",
       "      <td>Keral</td>\n",
       "    </tr>\n",
       "  </tbody>\n",
       "</table>\n",
       "</div>"
      ],
      "text/plain": [
       "   CustID                                  ItemDesc  \\\n",
       "0       0         APPLE PROTECTION PLAN MACBOOK PRO   \n",
       "1       0  MacBook Pro 16 2.6GH i7 9G 16GB 512GB SG   \n",
       "2       0  Apple Airpods Pro Wireless Case MWP22 Wt   \n",
       "3       0  Apple Airpods Pro Wireless Case MWP22 Wt   \n",
       "4       0         Samsung 32 LS32BM501EW 60Hz White   \n",
       "\n",
       "                   MerchCategoryDescription MerchClassDescription  \\\n",
       "0         APPLE PROTECTION PLAN MACBOOK PRO      Mobile Computing   \n",
       "1  MacBook Pro 16 2.6GH i7 9G 16GB 512GB SG      Mobile Computing   \n",
       "2  Apple Airpods Pro Wireless Case MWP22 Wt  Earphones/Headphones   \n",
       "3  Apple Airpods Pro Wireless Case MWP22 Wt  Earphones/Headphones   \n",
       "4         Samsung 32 LS32BM501EW 60Hz White              Monitors   \n",
       "\n",
       "   MerchGroupDescription  SaleValue  OrderedQuantity  OrderDate ReturnFlag  \\\n",
       "0  Computers Peripherals  -25398.00               -1 2019-01-01  No Return   \n",
       "1  Computers Peripherals -193703.10               -1 2019-01-01  No Return   \n",
       "2          Entertainment   25398.00                1 2019-02-24  No Return   \n",
       "3          Entertainment   25398.00                1 2019-03-01  No Return   \n",
       "4  Computers Peripherals   22438.98                1 2021-11-07  No Return   \n",
       "\n",
       "  SalesChannelCode Ecom_BnM_Indicator  StoreID StoreCode StoreCity  \\\n",
       "0               RS                B&M     83.0      A129      Pune   \n",
       "1               RS                B&M     83.0      A129      Pune   \n",
       "2               EA                B&M     83.0      A129      Pune   \n",
       "3               RS                B&M     83.0      A129      Pune   \n",
       "4               RS                B&M     83.0      A129      Pune   \n",
       "\n",
       "    StoreState StorePincode Gender Marital_Status  State  \n",
       "0  Maharashtra       411014   Male      Unmarried  Keral  \n",
       "1  Maharashtra       411014   Male      Unmarried  Keral  \n",
       "2  Maharashtra       411014   Male      Unmarried  Keral  \n",
       "3  Maharashtra       411014   Male      Unmarried  Keral  \n",
       "4  Maharashtra       411014   Male      Unmarried  Keral  "
      ]
     },
     "execution_count": 145,
     "metadata": {},
     "output_type": "execute_result"
    }
   ],
   "source": [
    "# Merge to get Merchant Class information\n",
    "data = pd.merge(cst_trn_df, mst_df, on='CustID')\n",
    "data.head()"
   ]
  },
  {
   "cell_type": "code",
   "execution_count": 146,
   "id": "7fcd7590-b3e9-431b-bbab-90dbb03fc9b7",
   "metadata": {},
   "outputs": [
    {
     "name": "stdout",
     "output_type": "stream",
     "text": [
      "Is 2019-11-10 00:00:00 within a festive period? : True\n",
      "Is 2019-11-20 00:00:00 within a festive period? : False\n",
      "Is 2021-11-07 00:00:00 within a festive period? : False\n",
      "Is 2019-12-20 00:00:00 within a festive period? : False\n"
     ]
    }
   ],
   "source": [
    "# Function to check if a date is within any festive period\n",
    "def is_festive(date, fst_df):\n",
    "    # Check if the date falls within any of the festive periods\n",
    "    return any((fst_df['Start-2019'] <= date) & (date <= fst_df['Date_2019_End']))\n",
    "\n",
    "# Test dates\n",
    "dates_to_check = [\n",
    "    pd.Timestamp('2019-11-10'),\n",
    "    pd.Timestamp('2019-11-20'),\n",
    "    pd.Timestamp('2021-11-07'),\n",
    "    pd.Timestamp('2019-12-20')\n",
    "]\n",
    "\n",
    "# Check each date and print results\n",
    "for test_date in dates_to_check:\n",
    "    result = is_festive(test_date, fst_df)\n",
    "    print(f\"Is {test_date} within a festive period? : {result}\")"
   ]
  },
  {
   "cell_type": "code",
   "execution_count": 147,
   "id": "b1293754-f942-40ec-bd6f-d3b85a9f8ce4",
   "metadata": {},
   "outputs": [],
   "source": [
    "# (Extract Year and Month - Add columns for year and month based on OrderDate)\n",
    "data['Year'] = data['OrderDate'].dt.year\n",
    "data['Month'] = data['OrderDate'].dt.month"
   ]
  },
  {
   "cell_type": "code",
   "execution_count": 148,
   "id": "cfd32a14-160d-4ceb-8801-5efe671128e9",
   "metadata": {
    "scrolled": true
   },
   "outputs": [
    {
     "name": "stdout",
     "output_type": "stream",
     "text": [
      "    Year  Month  Monthly_Sales_Volume  Monthly_Revenue\n",
      "0   2019      1                 24883     2.538060e+08\n",
      "1   2019      2                 21419     2.206274e+08\n",
      "2   2019      3                 15351     1.562277e+08\n",
      "3   2019      4                    44     1.915940e+05\n",
      "4   2019      5                  9300     1.245726e+08\n",
      "5   2019      6                 17176     2.196190e+08\n",
      "6   2019      7                 17334     2.190717e+08\n",
      "7   2019      8                 24398     3.186138e+08\n",
      "8   2019      9                 21367     2.614013e+08\n",
      "9   2019     10                 25274     3.301203e+08\n",
      "10  2019     11                 30898     4.143816e+08\n",
      "11  2019     12                 23446     2.829861e+08\n",
      "12  2020      1                 25439     3.052804e+08\n",
      "13  2020      2                 22537     2.720801e+08\n",
      "14  2020      3                 24815     3.317094e+08\n",
      "15  2020      4                 14591     1.910959e+08\n",
      "16  2020      5                  4927     6.605762e+07\n",
      "17  2020      6                 19954     2.853065e+08\n",
      "18  2020      7                 27506     3.692593e+08\n",
      "19  2020      8                 39709     4.563510e+08\n",
      "20  2020      9                 28882     3.545920e+08\n",
      "21  2020     10                 50998     6.114889e+08\n",
      "22  2020     11                 46142     5.513729e+08\n",
      "23  2020     12                 47467     4.674217e+08\n",
      "24  2021      1                 49077     5.574334e+08\n",
      "25  2021      2                 42672     4.708929e+08\n",
      "26  2021      3                 50712     6.240185e+08\n",
      "27  2021      4                 55881     7.291158e+08\n",
      "28  2021      5                 61669     8.202934e+08\n",
      "29  2021      6                 62281     7.918344e+08\n",
      "30  2021      7                 67869     7.712963e+08\n",
      "31  2021      8                 74394     8.786414e+08\n",
      "32  2021      9                 61143     7.259076e+08\n",
      "33  2021     10                 96836     1.246357e+09\n",
      "34  2021     11                 56564     6.942682e+08\n",
      "35  2021     12                 61334     7.500946e+08\n"
     ]
    }
   ],
   "source": [
    "# Group by Year and Month, and aggregate Sales Volume and Revenue\n",
    "monthly_sum = data.groupby(['Year', 'Month']).agg(\n",
    "    Monthly_Sales_Volume = pd.NamedAgg(column='OrderedQuantity', aggfunc='sum'),\n",
    "    Monthly_Revenue = pd.NamedAgg(column='SaleValue', aggfunc='sum')\n",
    ").reset_index()\n",
    "\n",
    "print(monthly_sum)"
   ]
  },
  {
   "cell_type": "markdown",
   "id": "0faface8-4870-4907-968d-62d0ea073546",
   "metadata": {},
   "source": [
    " # Seasonality of Demand"
   ]
  },
  {
   "cell_type": "code",
   "execution_count": 149,
   "id": "a45f7a85-2813-4a7f-9b69-0ee63c24bd04",
   "metadata": {},
   "outputs": [
    {
     "data": {
      "image/png": "[encoded data removed]",
      "text/plain": [
       "<Figure size 1400x700 with 2 Axes>"
      ]
     },
     "metadata": {},
     "output_type": "display_data"
    }
   ],
   "source": [
    "# Seasonality Analysis\n",
    "import matplotlib.pyplot as plt\n",
    "\n",
    "# Plot Monthly Sales Volume\n",
    "plt.figure(figsize=(14, 7))\n",
    "\n",
    "plt.subplot(2, 1, 1)\n",
    "plt.plot(monthly_sum['Month'] + (monthly_sum['Year'] - monthly_sum['Year'].min()) * 12,\n",
    "         monthly_sum['Monthly_Sales_Volume'], marker='o')\n",
    "plt.title('Monthly Sales Volume')\n",
    "plt.xlabel('Month')\n",
    "plt.ylabel('Sales Volume')\n",
    "plt.grid(True)\n",
    "\n",
    "# Plot Monthly Revenue\n",
    "plt.subplot(2, 1, 2)\n",
    "plt.plot(monthly_sum['Month'] + (monthly_sum['Year'] - monthly_sum['Year'].min()) * 12,\n",
    "         monthly_sum['Monthly_Revenue'], marker='o', color='orange')\n",
    "plt.title('Monthly Revenue')\n",
    "plt.xlabel('Month')\n",
    "plt.ylabel('Revenue')\n",
    "plt.grid(True)\n",
    "\n",
    "plt.tight_layout()\n",
    "plt.show()"
   ]
  },
  {
   "cell_type": "markdown",
   "id": "fd1f6c87-44da-462f-bf31-571600da9b05",
   "metadata": {},
   "source": [
    "# Effect of Festive Seasons"
   ]
  },
  {
   "cell_type": "code",
   "execution_count": 150,
   "id": "ee62571e-8f6d-4631-bf69-46307c048993",
   "metadata": {},
   "outputs": [
    {
     "data": {
      "image/png": "[encoded data removed]",
      "text/plain": [
       "<Figure size 1400x700 with 2 Axes>"
      ]
     },
     "metadata": {},
     "output_type": "display_data"
    }
   ],
   "source": [
    "# Filter data for October and November (Diwali months)\n",
    "diwali_summary = monthly_sum[monthly_sum['Month'].isin([10, 11])]\n",
    "\n",
    "# Aggregate Diwali sales and revenue by year\n",
    "diwali_annual_summary = diwali_summary.groupby('Year').agg({\n",
    "    'Monthly_Sales_Volume': 'sum',\n",
    "    'Monthly_Revenue': 'sum'\n",
    "}).reset_index()\n",
    "\n",
    "# Aggregate annual sales and revenue\n",
    "annual_summary = monthly_sum.groupby('Year').agg({\n",
    "    'Monthly_Sales_Volume': 'sum',\n",
    "    'Monthly_Revenue': 'sum'\n",
    "}).reset_index()\n",
    "\n",
    "# Merge to calculate percentage of Diwali sales and revenue\n",
    "merged = pd.merge(diwali_annual_summary, annual_summary, on='Year', suffixes=('_Diwali', '_Annual'))\n",
    "merged['Sales_Volume_Percentage'] = (merged['Monthly_Sales_Volume_Diwali'] / merged['Monthly_Sales_Volume_Annual']) * 100\n",
    "merged['Revenue_Percentage'] = (merged['Monthly_Revenue_Diwali'] / merged['Monthly_Revenue_Annual']) * 100\n",
    "# Step 2: Plot the Data\n",
    "# You can visualize the Diwali sales and revenue as a percentage of annual totals using bar plots or line plots.\n",
    "# Here’s how you might adapt the plotting code:\n",
    "\n",
    "plt.figure(figsize=(14, 7))\n",
    "\n",
    "# Plot Diwali Sales Volume Percentage\n",
    "plt.subplot(2, 1, 1)\n",
    "plt.bar(merged['Year'], merged['Sales_Volume_Percentage'], color='skyblue')\n",
    "plt.title('Diwali Sales Volume as Percentage of Annual Sales')\n",
    "plt.xlabel('Year')\n",
    "plt.ylabel('Percentage (%)')\n",
    "plt.ylim(0, 100)  # Set y-axis limit from 0 to 100%\n",
    "plt.grid(True, axis='y')\n",
    "\n",
    "# Plot Diwali Revenue Percentage\n",
    "plt.subplot(2, 1, 2)\n",
    "plt.bar(merged['Year'], merged['Revenue_Percentage'], color='orange')\n",
    "plt.title('Diwali Revenue as Percentage of Annual Revenue')\n",
    "plt.xlabel('Year')\n",
    "plt.ylabel('Percentage (%)')\n",
    "plt.ylim(0, 100)  # Set y-axis limit from 0 to 100%\n",
    "plt.grid(True, axis='y')\n",
    "\n",
    "plt.tight_layout()\n",
    "plt.show()"
   ]
  },
  {
   "cell_type": "code",
   "execution_count": 151,
   "id": "936cf0c5-d429-4355-877e-9818470497b7",
   "metadata": {},
   "outputs": [],
   "source": [
    "# To install xlsxwriter, you use pip, which is the package installer for Python."
   ]
  },
  {
   "cell_type": "code",
   "execution_count": 152,
   "id": "7e41be65-5e1e-4e80-a01f-efb868715d8f",
   "metadata": {},
   "outputs": [],
   "source": [
    "# pip install xlsxwriter"
   ]
  },
  {
   "cell_type": "code",
   "execution_count": 153,
   "id": "8d9ae13a-d5f9-4c58-914f-1118b139122d",
   "metadata": {},
   "outputs": [],
   "source": [
    "import pandas as pd\n",
    "import xlsxwriter\n",
    "\n",
    "# Specify the filename\n",
    "file_path = 'Diwali_Sales_Analysis.xlsx'\n",
    "\n",
    "# Write to Excel\n",
    "with pd.ExcelWriter(file_path, engine='xlsxwriter') as writer:\n",
    "    # Write the merged data to a sheet\n",
    "    merged.to_excel(writer, sheet_name='Diwali Analysis', index=False)\n",
    "    # Optional: You can also save the original monthly summary and annual summaries to separate sheets\n",
    "    monthly_sum.to_excel(writer, sheet_name='Monthly Summary', index=False)\n",
    "    diwali_summary.to_excel(writer, sheet_name='Diwali Summary', index=False)\n",
    "    annual_summary.to_excel(writer, sheet_name='Annual Summary', index=False)"
   ]
  },
  {
   "cell_type": "code",
   "execution_count": 154,
   "id": "53fb187b-c77d-473c-b174-0b71d8f6ddbd",
   "metadata": {},
   "outputs": [],
   "source": [
    "# after all steps download in excel/csv file\n",
    "# Converting the data into csv sheet\n",
    "# df.to_csv('Diwali_Sales_Analysis.csv')"
   ]
  },
  {
   "cell_type": "code",
   "execution_count": 155,
   "id": "089c6c73-9e3f-4549-81f6-2dcd6e1e2b0f",
   "metadata": {},
   "outputs": [
    {
     "name": "stdout",
     "output_type": "stream",
     "text": [
      "Data written to :Diwali_Sales_Analysis.xlsx\n",
      "Data read from Excel:\n"
     ]
    }
   ],
   "source": [
    "print(f\"Data written to :{file_path}\")\n",
    "\n",
    "# Reading the data back from Excel\n",
    "df_diwali_analysis = pd.read_excel(file_path, sheet_name='Diwali Analysis')\n",
    "df_monthly_sum = pd.read_excel(file_path, sheet_name='Monthly Summary')\n",
    "df_diwali_summary = pd.read_excel(file_path, sheet_name='Diwali Summary')\n",
    "df_annual_summary = pd.read_excel(file_path, sheet_name='Annual Summary')\n",
    "\n",
    "print(\"Data read from Excel:\") # all dataframes are shown below"
   ]
  },
  {
   "cell_type": "code",
   "execution_count": 156,
   "id": "b0e357a2-f94c-4e48-9c24-9c4e668a1bf6",
   "metadata": {},
   "outputs": [
    {
     "data": {
      "text/html": [
       "<div>\n",
       "<style scoped>\n",
       "    .dataframe tbody tr th:only-of-type {\n",
       "        vertical-align: middle;\n",
       "    }\n",
       "\n",
       "    .dataframe tbody tr th {\n",
       "        vertical-align: top;\n",
       "    }\n",
       "\n",
       "    .dataframe thead th {\n",
       "        text-align: right;\n",
       "    }\n",
       "</style>\n",
       "<table border=\"1\" class=\"dataframe\">\n",
       "  <thead>\n",
       "    <tr style=\"text-align: right;\">\n",
       "      <th></th>\n",
       "      <th>Year</th>\n",
       "      <th>Monthly_Sales_Volume_Diwali</th>\n",
       "      <th>Monthly_Revenue_Diwali</th>\n",
       "      <th>Monthly_Sales_Volume_Annual</th>\n",
       "      <th>Monthly_Revenue_Annual</th>\n",
       "      <th>Sales_Volume_Percentage</th>\n",
       "      <th>Revenue_Percentage</th>\n",
       "    </tr>\n",
       "  </thead>\n",
       "  <tbody>\n",
       "    <tr>\n",
       "      <th>0</th>\n",
       "      <td>2019</td>\n",
       "      <td>56172</td>\n",
       "      <td>7.445019e+08</td>\n",
       "      <td>230890</td>\n",
       "      <td>2.801619e+09</td>\n",
       "      <td>24.328468</td>\n",
       "      <td>26.573988</td>\n",
       "    </tr>\n",
       "    <tr>\n",
       "      <th>1</th>\n",
       "      <td>2020</td>\n",
       "      <td>97140</td>\n",
       "      <td>1.162862e+09</td>\n",
       "      <td>352967</td>\n",
       "      <td>4.262016e+09</td>\n",
       "      <td>27.520986</td>\n",
       "      <td>27.284315</td>\n",
       "    </tr>\n",
       "    <tr>\n",
       "      <th>2</th>\n",
       "      <td>2021</td>\n",
       "      <td>153400</td>\n",
       "      <td>1.940625e+09</td>\n",
       "      <td>740432</td>\n",
       "      <td>9.060153e+09</td>\n",
       "      <td>20.717635</td>\n",
       "      <td>21.419338</td>\n",
       "    </tr>\n",
       "  </tbody>\n",
       "</table>\n",
       "</div>"
      ],
      "text/plain": [
       "   Year  Monthly_Sales_Volume_Diwali  Monthly_Revenue_Diwali  \\\n",
       "0  2019                        56172            7.445019e+08   \n",
       "1  2020                        97140            1.162862e+09   \n",
       "2  2021                       153400            1.940625e+09   \n",
       "\n",
       "   Monthly_Sales_Volume_Annual  Monthly_Revenue_Annual  \\\n",
       "0                       230890            2.801619e+09   \n",
       "1                       352967            4.262016e+09   \n",
       "2                       740432            9.060153e+09   \n",
       "\n",
       "   Sales_Volume_Percentage  Revenue_Percentage  \n",
       "0                24.328468           26.573988  \n",
       "1                27.520986           27.284315  \n",
       "2                20.717635           21.419338  "
      ]
     },
     "execution_count": 156,
     "metadata": {},
     "output_type": "execute_result"
    }
   ],
   "source": [
    "df_diwali_analysis"
   ]
  },
  {
   "cell_type": "code",
   "execution_count": 157,
   "id": "238eba94-42b5-4674-b86f-2280083d5d3b",
   "metadata": {
    "scrolled": true
   },
   "outputs": [
    {
     "data": {
      "text/html": [
       "<div>\n",
       "<style scoped>\n",
       "    .dataframe tbody tr th:only-of-type {\n",
       "        vertical-align: middle;\n",
       "    }\n",
       "\n",
       "    .dataframe tbody tr th {\n",
       "        vertical-align: top;\n",
       "    }\n",
       "\n",
       "    .dataframe thead th {\n",
       "        text-align: right;\n",
       "    }\n",
       "</style>\n",
       "<table border=\"1\" class=\"dataframe\">\n",
       "  <thead>\n",
       "    <tr style=\"text-align: right;\">\n",
       "      <th></th>\n",
       "      <th>Year</th>\n",
       "      <th>Month</th>\n",
       "      <th>Monthly_Sales_Volume</th>\n",
       "      <th>Monthly_Revenue</th>\n",
       "    </tr>\n",
       "  </thead>\n",
       "  <tbody>\n",
       "    <tr>\n",
       "      <th>0</th>\n",
       "      <td>2019</td>\n",
       "      <td>1</td>\n",
       "      <td>24883</td>\n",
       "      <td>2.538060e+08</td>\n",
       "    </tr>\n",
       "    <tr>\n",
       "      <th>1</th>\n",
       "      <td>2019</td>\n",
       "      <td>2</td>\n",
       "      <td>21419</td>\n",
       "      <td>2.206274e+08</td>\n",
       "    </tr>\n",
       "    <tr>\n",
       "      <th>2</th>\n",
       "      <td>2019</td>\n",
       "      <td>3</td>\n",
       "      <td>15351</td>\n",
       "      <td>1.562277e+08</td>\n",
       "    </tr>\n",
       "    <tr>\n",
       "      <th>3</th>\n",
       "      <td>2019</td>\n",
       "      <td>4</td>\n",
       "      <td>44</td>\n",
       "      <td>1.915940e+05</td>\n",
       "    </tr>\n",
       "    <tr>\n",
       "      <th>4</th>\n",
       "      <td>2019</td>\n",
       "      <td>5</td>\n",
       "      <td>9300</td>\n",
       "      <td>1.245726e+08</td>\n",
       "    </tr>\n",
       "    <tr>\n",
       "      <th>5</th>\n",
       "      <td>2019</td>\n",
       "      <td>6</td>\n",
       "      <td>17176</td>\n",
       "      <td>2.196190e+08</td>\n",
       "    </tr>\n",
       "    <tr>\n",
       "      <th>6</th>\n",
       "      <td>2019</td>\n",
       "      <td>7</td>\n",
       "      <td>17334</td>\n",
       "      <td>2.190717e+08</td>\n",
       "    </tr>\n",
       "    <tr>\n",
       "      <th>7</th>\n",
       "      <td>2019</td>\n",
       "      <td>8</td>\n",
       "      <td>24398</td>\n",
       "      <td>3.186138e+08</td>\n",
       "    </tr>\n",
       "    <tr>\n",
       "      <th>8</th>\n",
       "      <td>2019</td>\n",
       "      <td>9</td>\n",
       "      <td>21367</td>\n",
       "      <td>2.614013e+08</td>\n",
       "    </tr>\n",
       "    <tr>\n",
       "      <th>9</th>\n",
       "      <td>2019</td>\n",
       "      <td>10</td>\n",
       "      <td>25274</td>\n",
       "      <td>3.301203e+08</td>\n",
       "    </tr>\n",
       "    <tr>\n",
       "      <th>10</th>\n",
       "      <td>2019</td>\n",
       "      <td>11</td>\n",
       "      <td>30898</td>\n",
       "      <td>4.143816e+08</td>\n",
       "    </tr>\n",
       "    <tr>\n",
       "      <th>11</th>\n",
       "      <td>2019</td>\n",
       "      <td>12</td>\n",
       "      <td>23446</td>\n",
       "      <td>2.829861e+08</td>\n",
       "    </tr>\n",
       "    <tr>\n",
       "      <th>12</th>\n",
       "      <td>2020</td>\n",
       "      <td>1</td>\n",
       "      <td>25439</td>\n",
       "      <td>3.052804e+08</td>\n",
       "    </tr>\n",
       "    <tr>\n",
       "      <th>13</th>\n",
       "      <td>2020</td>\n",
       "      <td>2</td>\n",
       "      <td>22537</td>\n",
       "      <td>2.720801e+08</td>\n",
       "    </tr>\n",
       "    <tr>\n",
       "      <th>14</th>\n",
       "      <td>2020</td>\n",
       "      <td>3</td>\n",
       "      <td>24815</td>\n",
       "      <td>3.317094e+08</td>\n",
       "    </tr>\n",
       "    <tr>\n",
       "      <th>15</th>\n",
       "      <td>2020</td>\n",
       "      <td>4</td>\n",
       "      <td>14591</td>\n",
       "      <td>1.910959e+08</td>\n",
       "    </tr>\n",
       "    <tr>\n",
       "      <th>16</th>\n",
       "      <td>2020</td>\n",
       "      <td>5</td>\n",
       "      <td>4927</td>\n",
       "      <td>6.605762e+07</td>\n",
       "    </tr>\n",
       "    <tr>\n",
       "      <th>17</th>\n",
       "      <td>2020</td>\n",
       "      <td>6</td>\n",
       "      <td>19954</td>\n",
       "      <td>2.853065e+08</td>\n",
       "    </tr>\n",
       "    <tr>\n",
       "      <th>18</th>\n",
       "      <td>2020</td>\n",
       "      <td>7</td>\n",
       "      <td>27506</td>\n",
       "      <td>3.692593e+08</td>\n",
       "    </tr>\n",
       "    <tr>\n",
       "      <th>19</th>\n",
       "      <td>2020</td>\n",
       "      <td>8</td>\n",
       "      <td>39709</td>\n",
       "      <td>4.563510e+08</td>\n",
       "    </tr>\n",
       "    <tr>\n",
       "      <th>20</th>\n",
       "      <td>2020</td>\n",
       "      <td>9</td>\n",
       "      <td>28882</td>\n",
       "      <td>3.545920e+08</td>\n",
       "    </tr>\n",
       "    <tr>\n",
       "      <th>21</th>\n",
       "      <td>2020</td>\n",
       "      <td>10</td>\n",
       "      <td>50998</td>\n",
       "      <td>6.114889e+08</td>\n",
       "    </tr>\n",
       "    <tr>\n",
       "      <th>22</th>\n",
       "      <td>2020</td>\n",
       "      <td>11</td>\n",
       "      <td>46142</td>\n",
       "      <td>5.513729e+08</td>\n",
       "    </tr>\n",
       "    <tr>\n",
       "      <th>23</th>\n",
       "      <td>2020</td>\n",
       "      <td>12</td>\n",
       "      <td>47467</td>\n",
       "      <td>4.674217e+08</td>\n",
       "    </tr>\n",
       "    <tr>\n",
       "      <th>24</th>\n",
       "      <td>2021</td>\n",
       "      <td>1</td>\n",
       "      <td>49077</td>\n",
       "      <td>5.574334e+08</td>\n",
       "    </tr>\n",
       "    <tr>\n",
       "      <th>25</th>\n",
       "      <td>2021</td>\n",
       "      <td>2</td>\n",
       "      <td>42672</td>\n",
       "      <td>4.708929e+08</td>\n",
       "    </tr>\n",
       "    <tr>\n",
       "      <th>26</th>\n",
       "      <td>2021</td>\n",
       "      <td>3</td>\n",
       "      <td>50712</td>\n",
       "      <td>6.240185e+08</td>\n",
       "    </tr>\n",
       "    <tr>\n",
       "      <th>27</th>\n",
       "      <td>2021</td>\n",
       "      <td>4</td>\n",
       "      <td>55881</td>\n",
       "      <td>7.291158e+08</td>\n",
       "    </tr>\n",
       "    <tr>\n",
       "      <th>28</th>\n",
       "      <td>2021</td>\n",
       "      <td>5</td>\n",
       "      <td>61669</td>\n",
       "      <td>8.202934e+08</td>\n",
       "    </tr>\n",
       "    <tr>\n",
       "      <th>29</th>\n",
       "      <td>2021</td>\n",
       "      <td>6</td>\n",
       "      <td>62281</td>\n",
       "      <td>7.918344e+08</td>\n",
       "    </tr>\n",
       "    <tr>\n",
       "      <th>30</th>\n",
       "      <td>2021</td>\n",
       "      <td>7</td>\n",
       "      <td>67869</td>\n",
       "      <td>7.712963e+08</td>\n",
       "    </tr>\n",
       "    <tr>\n",
       "      <th>31</th>\n",
       "      <td>2021</td>\n",
       "      <td>8</td>\n",
       "      <td>74394</td>\n",
       "      <td>8.786414e+08</td>\n",
       "    </tr>\n",
       "    <tr>\n",
       "      <th>32</th>\n",
       "      <td>2021</td>\n",
       "      <td>9</td>\n",
       "      <td>61143</td>\n",
       "      <td>7.259076e+08</td>\n",
       "    </tr>\n",
       "    <tr>\n",
       "      <th>33</th>\n",
       "      <td>2021</td>\n",
       "      <td>10</td>\n",
       "      <td>96836</td>\n",
       "      <td>1.246357e+09</td>\n",
       "    </tr>\n",
       "    <tr>\n",
       "      <th>34</th>\n",
       "      <td>2021</td>\n",
       "      <td>11</td>\n",
       "      <td>56564</td>\n",
       "      <td>6.942682e+08</td>\n",
       "    </tr>\n",
       "    <tr>\n",
       "      <th>35</th>\n",
       "      <td>2021</td>\n",
       "      <td>12</td>\n",
       "      <td>61334</td>\n",
       "      <td>7.500946e+08</td>\n",
       "    </tr>\n",
       "  </tbody>\n",
       "</table>\n",
       "</div>"
      ],
      "text/plain": [
       "    Year  Month  Monthly_Sales_Volume  Monthly_Revenue\n",
       "0   2019      1                 24883     2.538060e+08\n",
       "1   2019      2                 21419     2.206274e+08\n",
       "2   2019      3                 15351     1.562277e+08\n",
       "3   2019      4                    44     1.915940e+05\n",
       "4   2019      5                  9300     1.245726e+08\n",
       "5   2019      6                 17176     2.196190e+08\n",
       "6   2019      7                 17334     2.190717e+08\n",
       "7   2019      8                 24398     3.186138e+08\n",
       "8   2019      9                 21367     2.614013e+08\n",
       "9   2019     10                 25274     3.301203e+08\n",
       "10  2019     11                 30898     4.143816e+08\n",
       "11  2019     12                 23446     2.829861e+08\n",
       "12  2020      1                 25439     3.052804e+08\n",
       "13  2020      2                 22537     2.720801e+08\n",
       "14  2020      3                 24815     3.317094e+08\n",
       "15  2020      4                 14591     1.910959e+08\n",
       "16  2020      5                  4927     6.605762e+07\n",
       "17  2020      6                 19954     2.853065e+08\n",
       "18  2020      7                 27506     3.692593e+08\n",
       "19  2020      8                 39709     4.563510e+08\n",
       "20  2020      9                 28882     3.545920e+08\n",
       "21  2020     10                 50998     6.114889e+08\n",
       "22  2020     11                 46142     5.513729e+08\n",
       "23  2020     12                 47467     4.674217e+08\n",
       "24  2021      1                 49077     5.574334e+08\n",
       "25  2021      2                 42672     4.708929e+08\n",
       "26  2021      3                 50712     6.240185e+08\n",
       "27  2021      4                 55881     7.291158e+08\n",
       "28  2021      5                 61669     8.202934e+08\n",
       "29  2021      6                 62281     7.918344e+08\n",
       "30  2021      7                 67869     7.712963e+08\n",
       "31  2021      8                 74394     8.786414e+08\n",
       "32  2021      9                 61143     7.259076e+08\n",
       "33  2021     10                 96836     1.246357e+09\n",
       "34  2021     11                 56564     6.942682e+08\n",
       "35  2021     12                 61334     7.500946e+08"
      ]
     },
     "execution_count": 157,
     "metadata": {},
     "output_type": "execute_result"
    }
   ],
   "source": [
    "df_monthly_sum"
   ]
  },
  {
   "cell_type": "code",
   "execution_count": 158,
   "id": "701f87a2-9e84-4818-ac7c-4f18dba020ed",
   "metadata": {},
   "outputs": [
    {
     "data": {
      "text/html": [
       "<div>\n",
       "<style scoped>\n",
       "    .dataframe tbody tr th:only-of-type {\n",
       "        vertical-align: middle;\n",
       "    }\n",
       "\n",
       "    .dataframe tbody tr th {\n",
       "        vertical-align: top;\n",
       "    }\n",
       "\n",
       "    .dataframe thead th {\n",
       "        text-align: right;\n",
       "    }\n",
       "</style>\n",
       "<table border=\"1\" class=\"dataframe\">\n",
       "  <thead>\n",
       "    <tr style=\"text-align: right;\">\n",
       "      <th></th>\n",
       "      <th>Year</th>\n",
       "      <th>Month</th>\n",
       "      <th>Monthly_Sales_Volume</th>\n",
       "      <th>Monthly_Revenue</th>\n",
       "    </tr>\n",
       "  </thead>\n",
       "  <tbody>\n",
       "    <tr>\n",
       "      <th>0</th>\n",
       "      <td>2019</td>\n",
       "      <td>10</td>\n",
       "      <td>25274</td>\n",
       "      <td>3.301203e+08</td>\n",
       "    </tr>\n",
       "    <tr>\n",
       "      <th>1</th>\n",
       "      <td>2019</td>\n",
       "      <td>11</td>\n",
       "      <td>30898</td>\n",
       "      <td>4.143816e+08</td>\n",
       "    </tr>\n",
       "    <tr>\n",
       "      <th>2</th>\n",
       "      <td>2020</td>\n",
       "      <td>10</td>\n",
       "      <td>50998</td>\n",
       "      <td>6.114889e+08</td>\n",
       "    </tr>\n",
       "    <tr>\n",
       "      <th>3</th>\n",
       "      <td>2020</td>\n",
       "      <td>11</td>\n",
       "      <td>46142</td>\n",
       "      <td>5.513729e+08</td>\n",
       "    </tr>\n",
       "    <tr>\n",
       "      <th>4</th>\n",
       "      <td>2021</td>\n",
       "      <td>10</td>\n",
       "      <td>96836</td>\n",
       "      <td>1.246357e+09</td>\n",
       "    </tr>\n",
       "    <tr>\n",
       "      <th>5</th>\n",
       "      <td>2021</td>\n",
       "      <td>11</td>\n",
       "      <td>56564</td>\n",
       "      <td>6.942682e+08</td>\n",
       "    </tr>\n",
       "  </tbody>\n",
       "</table>\n",
       "</div>"
      ],
      "text/plain": [
       "   Year  Month  Monthly_Sales_Volume  Monthly_Revenue\n",
       "0  2019     10                 25274     3.301203e+08\n",
       "1  2019     11                 30898     4.143816e+08\n",
       "2  2020     10                 50998     6.114889e+08\n",
       "3  2020     11                 46142     5.513729e+08\n",
       "4  2021     10                 96836     1.246357e+09\n",
       "5  2021     11                 56564     6.942682e+08"
      ]
     },
     "execution_count": 158,
     "metadata": {},
     "output_type": "execute_result"
    }
   ],
   "source": [
    "df_diwali_summary"
   ]
  },
  {
   "cell_type": "code",
   "execution_count": 159,
   "id": "53b4c349-e699-4113-8029-0dd77a4b26bb",
   "metadata": {},
   "outputs": [
    {
     "data": {
      "text/html": [
       "<div>\n",
       "<style scoped>\n",
       "    .dataframe tbody tr th:only-of-type {\n",
       "        vertical-align: middle;\n",
       "    }\n",
       "\n",
       "    .dataframe tbody tr th {\n",
       "        vertical-align: top;\n",
       "    }\n",
       "\n",
       "    .dataframe thead th {\n",
       "        text-align: right;\n",
       "    }\n",
       "</style>\n",
       "<table border=\"1\" class=\"dataframe\">\n",
       "  <thead>\n",
       "    <tr style=\"text-align: right;\">\n",
       "      <th></th>\n",
       "      <th>Year</th>\n",
       "      <th>Monthly_Sales_Volume</th>\n",
       "      <th>Monthly_Revenue</th>\n",
       "    </tr>\n",
       "  </thead>\n",
       "  <tbody>\n",
       "    <tr>\n",
       "      <th>0</th>\n",
       "      <td>2019</td>\n",
       "      <td>230890</td>\n",
       "      <td>2.801619e+09</td>\n",
       "    </tr>\n",
       "    <tr>\n",
       "      <th>1</th>\n",
       "      <td>2020</td>\n",
       "      <td>352967</td>\n",
       "      <td>4.262016e+09</td>\n",
       "    </tr>\n",
       "    <tr>\n",
       "      <th>2</th>\n",
       "      <td>2021</td>\n",
       "      <td>740432</td>\n",
       "      <td>9.060153e+09</td>\n",
       "    </tr>\n",
       "  </tbody>\n",
       "</table>\n",
       "</div>"
      ],
      "text/plain": [
       "   Year  Monthly_Sales_Volume  Monthly_Revenue\n",
       "0  2019                230890     2.801619e+09\n",
       "1  2020                352967     4.262016e+09\n",
       "2  2021                740432     9.060153e+09"
      ]
     },
     "execution_count": 159,
     "metadata": {},
     "output_type": "execute_result"
    }
   ],
   "source": [
    "df_annual_summary"
   ]
  },
  {
   "cell_type": "markdown",
   "id": "0a05ea66-73b3-447b-9e51-f4c83555ed54",
   "metadata": {},
   "source": [
    "# Product Segmentation - Filter Data for Specific Categories"
   ]
  },
  {
   "cell_type": "code",
   "execution_count": 160,
   "id": "4bfe1453-8c93-4648-8400-251f34af4fe9",
   "metadata": {},
   "outputs": [],
   "source": [
    "# Filter for TVs, Laptops, and Mobile Phones\n",
    "categories = ['TVs', 'Laptops', 'Mobile Phones']\n",
    "segmentation_data = data[data['MerchCategoryDescription'].isin(categories)]"
   ]
  },
  {
   "cell_type": "code",
   "execution_count": 161,
   "id": "5e3407d3-5b13-4954-b354-5af3ff287484",
   "metadata": {},
   "outputs": [
    {
     "data": {
      "text/plain": [
       "Series([], Name: Price_Segment, dtype: float64)"
      ]
     },
     "execution_count": 161,
     "metadata": {},
     "output_type": "execute_result"
    }
   ],
   "source": [
    "# Define price(salevalue) segments\n",
    "def categorize_price(price, data):\n",
    "    if price >= data['SaleValue'].quantile(0.67):\n",
    "        return 'Premium'\n",
    "    elif price >= data['SaleValue'].quantile(0.33):\n",
    "        return 'Mainstream'\n",
    "    else:\n",
    "        return 'Value'\n",
    "\n",
    "segmentation_data['Price_Segment'] = segmentation_data.groupby('MerchCategoryDescription')['SaleValue'].transform(lambda x: x.apply(lambda p: categorize_price(p, x)))\n",
    "segmentation_data['Price_Segment']"
   ]
  },
  {
   "cell_type": "markdown",
   "id": "8d39b3ed-f361-490c-804e-ee2ce2333d6c",
   "metadata": {},
   "source": [
    "# 1. Return the Cust ID that received the 5th highest number of campaigns"
   ]
  },
  {
   "cell_type": "code",
   "execution_count": 162,
   "id": "693f4c4a-47b2-470d-9d79-f1365e6e4428",
   "metadata": {},
   "outputs": [
    {
     "name": "stdout",
     "output_type": "stream",
     "text": [
      "Cust ID with the 5th highest campaigns: 54655\n"
     ]
    }
   ],
   "source": [
    "# Count the number of campaigns per CustID\n",
    "campaign_counts = df['CustID'].value_counts().reset_index()\n",
    "campaign_counts.columns = ['CustID', 'CampaignCount']\n",
    "\n",
    "# Get the 5th highest\n",
    "# .iloc[-1]: This selects the last row from the result of the previous operation\n",
    "fifth_highest = campaign_counts.nlargest(5, 'CampaignCount').iloc[-1]   #5 rows with the largest values in the 'CampaignCount' column\n",
    "print(f\"Cust ID with the 5th highest campaigns: {fifth_highest['CustID']}\")"
   ]
  },
  {
   "cell_type": "code",
   "execution_count": 173,
   "id": "8700083b-d76e-4865-a324-fc2348e7bb84",
   "metadata": {},
   "outputs": [
    {
     "data": {
      "image/png": "[encoded data removed]",
      "text/plain": [
       "<Figure size 1000x600 with 1 Axes>"
      ]
     },
     "metadata": {},
     "output_type": "display_data"
    }
   ],
   "source": [
    "# Get the top 5 customers with the highest campaign counts\n",
    "top_campaigns = campaign_counts.nlargest(5, 'CampaignCount')\n",
    "\n",
    "# create a scatter plot or a separate bar highlighting\n",
    "# Highlighting the 5th highest customer in a separate bar chart\n",
    "plt.figure(figsize=(10, 6))\n",
    "plt.bar(top_campaigns['CustID'].astype(str), top_campaigns['CampaignCount'], color='lightblue')\n",
    "plt.bar(fifth_highest['CustID'].astype(str), fifth_highest['CampaignCount'], color='red', label='5th Highest Campaign Count')\n",
    "plt.title('Top 5 Customers with Highlighted 5th Highest Campaign Count')\n",
    "plt.xlabel('Customer ID')\n",
    "plt.ylabel('Number of Campaigns')\n",
    "plt.xticks(rotation=45)\n",
    "plt.legend()\n",
    "plt.show()\n"
   ]
  },
  {
   "cell_type": "markdown",
   "id": "c95263c0-02cd-4e31-b1f3-07508274c439",
   "metadata": {},
   "source": [
    "# 2. Find the States with minimum and maximum average delivery time"
   ]
  },
  {
   "cell_type": "code",
   "execution_count": 163,
   "id": "beab2cb6-86bd-42e6-9f43-adf20b7e1cf8",
   "metadata": {},
   "outputs": [
    {
     "name": "stdout",
     "output_type": "stream",
     "text": [
      "State with minimum average delivery time: Karnataka , Time: 118.80397022332507\n",
      "State with maximum average delivery time: Jammu And Kashmir, Time: 2859.5\n"
     ]
    }
   ],
   "source": [
    "# Calculate delivery times (.dt.total_seconds() to get total seconds and divide by 60 to convert to minutes.)\n",
    "df_filled['DeliveryTime'] = (df_filled['deliveryinprogress_timestamp'] - df_filled['sale_timestamp']).dt.total_seconds() / 60\n",
    "\n",
    "# Group by state and calculate average delivery time\n",
    "average_delivery = df_filled.groupby('shiptostate')['DeliveryTime'].mean().reset_index()\n",
    "\n",
    "# Get minimum and maximum\n",
    "min_state = average_delivery.loc[average_delivery['DeliveryTime'].idxmin()]\n",
    "max_state = average_delivery.loc[average_delivery['DeliveryTime'].idxmax()]\n",
    "\n",
    "print(f\"State with minimum average delivery time: {min_state['shiptostate']}, Time: {min_state['DeliveryTime']}\")\n",
    "print(f\"State with maximum average delivery time: {max_state['shiptostate']}, Time: {max_state['DeliveryTime']}\")"
   ]
  },
  {
   "cell_type": "code",
   "execution_count": 241,
   "id": "f2d237da-74d6-43cd-b859-16ce6edb4efc",
   "metadata": {},
   "outputs": [
    {
     "data": {
      "image/png": "[encoded data removed]",
      "text/plain": [
       "<Figure size 1200x600 with 1 Axes>"
      ]
     },
     "metadata": {},
     "output_type": "display_data"
    }
   ],
   "source": [
    "import matplotlib.pyplot as plt\n",
    "\n",
    "# Bar chart for average delivery time by state\n",
    "plt.figure(figsize=(12, 6))\n",
    "plt.bar(average_delivery['shiptostate'], average_delivery['DeliveryTime'], color='#97ccbe')\n",
    "plt.title('Average Delivery Time by State')\n",
    "plt.xlabel('State')\n",
    "plt.ylabel('Average Delivery Time (minutes)')\n",
    "plt.xticks(rotation=45)\n",
    "plt.axhline(y=min_state['DeliveryTime'], color='black', linestyle='--', label='Min Avg Delivery Time')\n",
    "plt.axhline(y=max_state['DeliveryTime'], color='red', linestyle='--', label='Max Avg Delivery Time')\n",
    "plt.text(x=min_state['shiptostate'], y=min_state['DeliveryTime'] + 1, \n",
    "         s=f\"Min: {min_state['DeliveryTime']:.1f} min\", color='black', ha='center')\n",
    "plt.text(x=max_state['shiptostate'], y=max_state['DeliveryTime'] + 1, \n",
    "         s=f\"Max: {max_state['DeliveryTime']:.1f} min\", color='red', ha='center')\n",
    "plt.legend()\n",
    "plt.tight_layout()\n",
    "plt.show()\n"
   ]
  },
  {
   "cell_type": "markdown",
   "id": "666213da-b23d-4640-a825-2b83135d4efc",
   "metadata": {},
   "source": [
    "# 3. Create a dataset of customer id whose monthly transaction amount has increased  every month for at least 3 consecutive months."
   ]
  },
  {
   "cell_type": "code",
   "execution_count": 226,
   "id": "f52837e4-0abd-4490-bfcb-80d4b792dc9c",
   "metadata": {},
   "outputs": [
    {
     "name": "stdout",
     "output_type": "stream",
     "text": [
      "Dataset of Customer IDs with Increasing Monthly Transactions:\n",
      "      CustID\n",
      "0         70\n",
      "1        133\n",
      "2        222\n",
      "3        225\n",
      "4        259\n",
      "...      ...\n",
      "3517  455054\n",
      "3518  456965\n",
      "3519  457424\n",
      "3520  465453\n",
      "3521  474746\n",
      "\n",
      "[3522 rows x 1 columns]\n"
     ]
    }
   ],
   "source": [
    "import pandas as pd\n",
    "\n",
    "# Convert the transaction date to datetime\n",
    "cst_trn_df['OrderDate'] = pd.to_datetime(cst_trn_df['OrderDate'])\n",
    "\n",
    "# Extract year and month for grouping\n",
    "cst_trn_df['YearMonth'] = cst_trn_df['OrderDate'].dt.to_period('M')\n",
    "# cst_trn_df['YearMonth'] \n",
    "\n",
    "# Group by customerid and month to calculate monthly transaction amounts\n",
    "monthly_transactions = cst_trn_df.groupby(['CustID', 'YearMonth'])['SaleValue'].sum().reset_index()\n",
    "# monthly_transactions  (give the output of custid,yearmonth,salevalue)\n",
    "\n",
    "# Sort by CustID and YearMonth\n",
    "monthly_transactions.sort_values(by=['CustID', 'YearMonth'], inplace=True)\n",
    "\n",
    "# Function to check for at least 3 consecutive months of increasing amounts\n",
    "def find_increasing_customers(cst_trn_df):\n",
    "    increasing_cust_ids = []\n",
    "    for cust_id, group in cst_trn_df.groupby('CustID'):\n",
    "        if len(group) >= 3 and all(x < y for x, y in zip(group['SaleValue'].values, group['SaleValue'].values[1:])):\n",
    "            increasing_cust_ids.append(cust_id)\n",
    "    return increasing_cust_ids\n",
    "\n",
    "# Find customers with increasing monthly transactions\n",
    "increasing_cust_ids = find_increasing_customers(monthly_transactions)\n",
    "\n",
    "# Create a new DataFrame with the results\n",
    "increasing_cust_df = pd.DataFrame(increasing_cust_ids, columns=['CustID'])\n",
    "\n",
    "# Display the resulting DataFrame\n",
    "print(\"Dataset of Customer IDs with Increasing Monthly Transactions:\")\n",
    "print(increasing_cust_df)\n",
    "\n",
    "# Optional: Save to CSV\n",
    "# increasing_cust_df.to_csv('increasing_cust_ids.csv', index=False)\n"
   ]
  },
  {
   "cell_type": "code",
   "execution_count": 215,
   "id": "09de91d5-1640-4ac0-bacb-54ff7bb9b3e0",
   "metadata": {},
   "outputs": [
    {
     "name": "stdout",
     "output_type": "stream",
     "text": [
      "<class 'pandas.core.frame.DataFrame'>\n",
      "RangeIndex: 1625393 entries, 0 to 1625392\n",
      "Data columns (total 20 columns):\n",
      " #   Column                    Non-Null Count    Dtype         \n",
      "---  ------                    --------------    -----         \n",
      " 0   CustID                    1625393 non-null  int64         \n",
      " 1   ItemDesc                  1625393 non-null  object        \n",
      " 2   MerchCategoryDescription  1625393 non-null  object        \n",
      " 3   MerchClassDescription     1625393 non-null  object        \n",
      " 4   MerchGroupDescription     1625393 non-null  object        \n",
      " 5   SaleValue                 1625393 non-null  float64       \n",
      " 6   OrderedQuantity           1625393 non-null  int64         \n",
      " 7   OrderDate                 1625393 non-null  datetime64[ns]\n",
      " 8   ReturnFlag                1625393 non-null  object        \n",
      " 9   SalesChannelCode          1625393 non-null  object        \n",
      " 10  Ecom_BnM_Indicator        1625393 non-null  object        \n",
      " 11  StoreID                   1625393 non-null  float64       \n",
      " 12  StoreCode                 1625393 non-null  object        \n",
      " 13  StoreCity                 1625393 non-null  object        \n",
      " 14  StoreState                1625393 non-null  object        \n",
      " 15  StorePincode              1625393 non-null  category      \n",
      " 16  SaleMonth                 1625393 non-null  period[M]     \n",
      " 17  Month                     1625393 non-null  int32         \n",
      " 18  Year                      1625393 non-null  int32         \n",
      " 19  YearMonth                 1625393 non-null  period[M]     \n",
      "dtypes: category(1), datetime64[ns](1), float64(2), int32(2), int64(2), object(10), period[M](2)\n",
      "memory usage: 226.3+ MB\n"
     ]
    }
   ],
   "source": [
    "cst_trn_df.info()"
   ]
  },
  {
   "cell_type": "code",
   "execution_count": 213,
   "id": "c527e08f-bcc3-43e2-bac9-2c11cbc8600d",
   "metadata": {},
   "outputs": [],
   "source": [
    "# Convert YearMonth to PeriodIndex\n",
    "cst_trn_df['YearMonth'] = pd.PeriodIndex(cst_trn_df['YearMonth'])"
   ]
  },
  {
   "cell_type": "code",
   "execution_count": null,
   "id": "8cc7c6c8-2d85-431a-bfe0-3b50e88a0875",
   "metadata": {},
   "outputs": [],
   "source": []
  },
  {
   "cell_type": "markdown",
   "id": "9a59f222-cbae-4584-ab06-78fcb788e6f4",
   "metadata": {},
   "source": [
    "# 4. Product Assortment Analysis for the Top 5 Brick and Mortar Stores"
   ]
  },
  {
   "cell_type": "code",
   "execution_count": 243,
   "id": "d0ed7ddc-fb19-4e8e-a870-478e9cdbb3c3",
   "metadata": {},
   "outputs": [
    {
     "data": {
      "text/plain": [
       "Index(['CustID', 'ItemDesc', 'MerchCategoryDescription',\n",
       "       'MerchClassDescription', 'MerchGroupDescription', 'SaleValue',\n",
       "       'OrderedQuantity', 'OrderDate', 'ReturnFlag', 'SalesChannelCode',\n",
       "       'Ecom_BnM_Indicator', 'StoreID', 'StoreCode', 'StoreCity', 'StoreState',\n",
       "       'StorePincode', 'SaleMonth', 'Month', 'Year', 'YearMonth'],\n",
       "      dtype='object')"
      ]
     },
     "execution_count": 243,
     "metadata": {},
     "output_type": "execute_result"
    }
   ],
   "source": [
    "cst_trn_df.columns"
   ]
  },
  {
   "cell_type": "code",
   "execution_count": 171,
   "id": "1f2dfc6a-2b1e-4620-9335-20f7b521eada",
   "metadata": {},
   "outputs": [
    {
     "name": "stdout",
     "output_type": "stream",
     "text": [
      "Top 5 Brick and Mortar Stores:\n",
      "Empty DataFrame\n",
      "Columns: [StoreID, Total_Sales, Total_Quantity]\n",
      "Index: []\n",
      "\n",
      "Product Assortment Analysis:\n",
      "Empty DataFrame\n",
      "Columns: [StoreID, MerchCategoryDescription, Product_Count, Total_Sales, Total_Quantity]\n",
      "Index: []\n"
     ]
    }
   ],
   "source": [
    "# Step 1: Filter for Brick and Mortar stores\n",
    "bnm_stores = cst_trn_df[cst_trn_df['Ecom_BnM_Indicator'] == 'BnM']\n",
    "\n",
    "# Step 2: Aggregate sales data to find total sales for each store\n",
    "store_sales = (bnm_stores.groupby('StoreID', as_index=False).agg(Total_Sales=('SaleValue', 'sum'),Total_Quantity=('OrderedQuantity', 'sum')))\n",
    "\n",
    "# Step 3: Identify the top 5 stores based on total sales\n",
    "top_stores = store_sales.nlargest(5, 'Total_Sales')\n",
    "\n",
    "# Step 4: Analyze product assortment for these top stores\n",
    "top_stores_data = bnm_stores[bnm_stores['StoreID'].isin(top_stores['StoreID'])]\n",
    "\n",
    "# Now we can analyze the assortment for each top store\n",
    "product_assortment = (top_stores_data.groupby(['StoreID', 'MerchCategoryDescription'], as_index=False)\n",
    "                      .agg(Product_Count=('ItemDesc', 'nunique'),Total_Sales=('SaleValue', 'sum'), Total_Quantity=('OrderedQuantity', 'sum')))\n",
    "\n",
    "# Optionally, we can sort the products by total sales\n",
    "product_assortment = product_assortment.sort_values(by=['StoreID', 'Total_Sales'], ascending=False)\n",
    "\n",
    "# Display results\n",
    "print(\"Top 5 Brick and Mortar Stores:\")\n",
    "print(top_stores)\n",
    "print(\"\\nProduct Assortment Analysis:\")\n",
    "print(product_assortment)"
   ]
  },
  {
   "cell_type": "code",
   "execution_count": null,
   "id": "552e6266-c587-4345-a051-347ed679a3ec",
   "metadata": {},
   "outputs": [],
   "source": []
  },
  {
   "cell_type": "code",
   "execution_count": null,
   "id": "d4b87507-ffd4-4c80-a06c-ba3f284a7b37",
   "metadata": {},
   "outputs": [],
   "source": []
  }
 ],
 "metadata": {
  "kernelspec": {
   "display_name": "Python 3 (ipykernel)",
   "language": "python",
   "name": "python3"
  },
  "language_info": {
   "codemirror_mode": {
    "name": "ipython",
    "version": 3
   },
   "file_extension": ".py",
   "mimetype": "text/x-python",
   "name": "python",
   "nbconvert_exporter": "python",
   "pygments_lexer": "ipython3",
   "version": "3.11.7"
  }
 },
 "nbformat": 4,
 "nbformat_minor": 5
}
